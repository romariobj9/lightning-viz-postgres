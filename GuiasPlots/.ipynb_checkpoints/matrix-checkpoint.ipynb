{
 "cells": [
  {
   "cell_type": "markdown",
   "metadata": {},
   "source": [
    "# <img style='float: left' src=\"http://lightning-viz.github.io/images/logo.png\"> <br> <br> &nbsp;&nbsp;&nbsp;&nbsp;&nbsp;Matrix plots in <a href='http://lightning-viz.github.io/'><font color='#9175f0'>Lightning</font></a>"
   ]
  },
  {
   "cell_type": "markdown",
   "metadata": {},
   "source": [
    "## <hr> Configuracion"
   ]
  },
  {
   "cell_type": "code",
   "execution_count": 1,
   "metadata": {
    "collapsed": false
   },
   "outputs": [],
   "source": [
    "from lightning import Lightning\n",
    "\n",
    "from numpy import random, arange, asarray, corrcoef, argsort, array\n",
    "import networkx as nx\n"
   ]
  },
  {
   "cell_type": "markdown",
   "metadata": {},
   "source": [
    "## Conexion al Servidor"
   ]
  },
  {
   "cell_type": "code",
   "execution_count": 2,
   "metadata": {
    "collapsed": false
   },
   "outputs": [
    {
     "data": {
      "text/html": [
       "<div style='margin-top:8px'><img src='data:image/png;base64,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' width='30px' height='35px' style='display: inline-block; padding-right: 10px'></img><span>Lightning initialized</span></div>"
      ],
      "text/plain": [
       "<IPython.core.display.HTML object>"
      ]
     },
     "metadata": {},
     "output_type": "display_data"
    },
    {
     "name": "stdout",
     "output_type": "stream",
     "text": [
      "Connected to server at http://localhost:3000\n"
     ]
    },
    {
     "data": {
      "application/javascript": [
       "(function e(t,n,r){function s(o,u){if(!n[o]){if(!t[o]){var a=typeof require==\"function\"&&require;if(!u&&a)return a(o,!0);if(i)return i(o,!0);throw new Error(\"Cannot find module '\"+o+\"'\")}var f=n[o]={exports:{}};t[o][0].call(f.exports,function(e){var n=t[o][1][e];return s(n?n:e)},f,f.exports,e,t,n,r)}return n[o].exports}var i=typeof require==\"function\"&&require;for(var o=0;o<r.length;o++)s(r[o]);return s})({1:[function(require,module,exports){\n",
       "window.lightning = window.lightning || {};\n",
       "var lightningCommMap = {};\n",
       "var IPython = window.IPython;\n",
       "\n",
       "var readCommData = function(commData, field) {\n",
       "    try {\n",
       "        return commData.content.data[field];\n",
       "    } catch (err) {\n",
       "        return;\n",
       "    }\n",
       "};\n",
       "\n",
       "\n",
       "var init_comm = function() {\n",
       "    IPython.notebook.kernel.comm_manager.register_target('lightning', function(comm, data) {\n",
       "        var id = readCommData(data, 'id');\n",
       "        lightningCommMap[id] = comm;\n",
       "    });\n",
       "\n",
       "    window.lightning.comm_map = lightningCommMap;\n",
       "}\n",
       "\n",
       "\n",
       "if(IPython && IPython.notebook) {\n",
       "\n",
       "    if(IPython.notebook.kernel) {\n",
       "        init_comm();\n",
       "    }\n",
       "\n",
       "    IPython.notebook.events.on('kernel_connected.Kernel', init_comm);\n",
       "\n",
       "}\n",
       "\n",
       "\n",
       "},{}]},{},[1])\n",
       "//# sourceMappingURL=data:application/json;base64,eyJ2ZXJzaW9uIjozLCJzb3VyY2VzIjpbIi9Vc2Vycy9jb25sZW5tL3Byb2plY3RzL2xpZ2h0bmluZy12aXovbGlnaHRuaW5nL25vZGVfbW9kdWxlcy9ndWxwLWJyb3dzZXJpZnkvbm9kZV9tb2R1bGVzL2Jyb3dzZXJpZnkvbm9kZV9tb2R1bGVzL2Jyb3dzZXItcGFjay9fcHJlbHVkZS5qcyIsIi9Vc2Vycy9jb25sZW5tL3Byb2plY3RzL2xpZ2h0bmluZy12aXovbGlnaHRuaW5nL3VpL2pzL3BhZ2VzL2Zha2VfYjQyNDg5ZWUuanMiXSwibmFtZXMiOltdLCJtYXBwaW5ncyI6IkFBQUE7QUNBQSxNQUFNLENBQUMsU0FBUyxHQUFHLE1BQU0sQ0FBQyxTQUFTLElBQUksRUFBRSxDQUFDO0FBQzFDLElBQUksZ0JBQWdCLEdBQUcsRUFBRSxDQUFDO0FBQzFCLElBQUksT0FBTyxHQUFHLE1BQU0sQ0FBQyxPQUFPLENBQUM7O0FBRTdCLElBQUksWUFBWSxHQUFHLFNBQVMsUUFBUSxFQUFFLEtBQUssRUFBRTtJQUN6QyxJQUFJO1FBQ0EsT0FBTyxRQUFRLENBQUMsT0FBTyxDQUFDLElBQUksQ0FBQyxLQUFLLENBQUMsQ0FBQztLQUN2QyxDQUFDLE9BQU8sR0FBRyxFQUFFO1FBQ1YsT0FBTztLQUNWO0FBQ0wsQ0FBQyxDQUFDO0FBQ0Y7O0FBRUEsSUFBSSxTQUFTLEdBQUcsV0FBVztJQUN2QixPQUFPLENBQUMsUUFBUSxDQUFDLE1BQU0sQ0FBQyxZQUFZLENBQUMsZUFBZSxDQUFDLFdBQVcsRUFBRSxTQUFTLElBQUksRUFBRSxJQUFJLEVBQUU7UUFDbkYsSUFBSSxFQUFFLEdBQUcsWUFBWSxDQUFDLElBQUksRUFBRSxJQUFJLENBQUMsQ0FBQztRQUNsQyxnQkFBZ0IsQ0FBQyxFQUFFLENBQUMsR0FBRyxJQUFJLENBQUM7QUFDcEMsS0FBSyxDQUFDLENBQUM7O0lBRUgsTUFBTSxDQUFDLFNBQVMsQ0FBQyxRQUFRLEdBQUcsZ0JBQWdCLENBQUM7QUFDakQsQ0FBQztBQUNEOztBQUVBLEdBQUcsT0FBTyxJQUFJLE9BQU8sQ0FBQyxRQUFRLEVBQUU7O0lBRTVCLEdBQUcsT0FBTyxDQUFDLFFBQVEsQ0FBQyxNQUFNLEVBQUU7UUFDeEIsU0FBUyxFQUFFLENBQUM7QUFDcEIsS0FBSzs7QUFFTCxJQUFJLE9BQU8sQ0FBQyxRQUFRLENBQUMsTUFBTSxDQUFDLEVBQUUsQ0FBQyx5QkFBeUIsRUFBRSxTQUFTLENBQUMsQ0FBQzs7Q0FFcEUiLCJmaWxlIjoiZ2VuZXJhdGVkLmpzIiwic291cmNlUm9vdCI6IiIsInNvdXJjZXNDb250ZW50IjpbIihmdW5jdGlvbiBlKHQsbixyKXtmdW5jdGlvbiBzKG8sdSl7aWYoIW5bb10pe2lmKCF0W29dKXt2YXIgYT10eXBlb2YgcmVxdWlyZT09XCJmdW5jdGlvblwiJiZyZXF1aXJlO2lmKCF1JiZhKXJldHVybiBhKG8sITApO2lmKGkpcmV0dXJuIGkobywhMCk7dGhyb3cgbmV3IEVycm9yKFwiQ2Fubm90IGZpbmQgbW9kdWxlICdcIitvK1wiJ1wiKX12YXIgZj1uW29dPXtleHBvcnRzOnt9fTt0W29dWzBdLmNhbGwoZi5leHBvcnRzLGZ1bmN0aW9uKGUpe3ZhciBuPXRbb11bMV1bZV07cmV0dXJuIHMobj9uOmUpfSxmLGYuZXhwb3J0cyxlLHQsbixyKX1yZXR1cm4gbltvXS5leHBvcnRzfXZhciBpPXR5cGVvZiByZXF1aXJlPT1cImZ1bmN0aW9uXCImJnJlcXVpcmU7Zm9yKHZhciBvPTA7bzxyLmxlbmd0aDtvKyspcyhyW29dKTtyZXR1cm4gc30pIiwid2luZG93LmxpZ2h0bmluZyA9IHdpbmRvdy5saWdodG5pbmcgfHwge307XG52YXIgbGlnaHRuaW5nQ29tbU1hcCA9IHt9O1xudmFyIElQeXRob24gPSB3aW5kb3cuSVB5dGhvbjtcblxudmFyIHJlYWRDb21tRGF0YSA9IGZ1bmN0aW9uKGNvbW1EYXRhLCBmaWVsZCkge1xuICAgIHRyeSB7XG4gICAgICAgIHJldHVybiBjb21tRGF0YS5jb250ZW50LmRhdGFbZmllbGRdO1xuICAgIH0gY2F0Y2ggKGVycikge1xuICAgICAgICByZXR1cm47XG4gICAgfVxufTtcblxuXG52YXIgaW5pdF9jb21tID0gZnVuY3Rpb24oKSB7XG4gICAgSVB5dGhvbi5ub3RlYm9vay5rZXJuZWwuY29tbV9tYW5hZ2VyLnJlZ2lzdGVyX3RhcmdldCgnbGlnaHRuaW5nJywgZnVuY3Rpb24oY29tbSwgZGF0YSkge1xuICAgICAgICB2YXIgaWQgPSByZWFkQ29tbURhdGEoZGF0YSwgJ2lkJyk7XG4gICAgICAgIGxpZ2h0bmluZ0NvbW1NYXBbaWRdID0gY29tbTtcbiAgICB9KTtcblxuICAgIHdpbmRvdy5saWdodG5pbmcuY29tbV9tYXAgPSBsaWdodG5pbmdDb21tTWFwO1xufVxuXG5cbmlmKElQeXRob24gJiYgSVB5dGhvbi5ub3RlYm9vaykge1xuXG4gICAgaWYoSVB5dGhvbi5ub3RlYm9vay5rZXJuZWwpIHtcbiAgICAgICAgaW5pdF9jb21tKCk7XG4gICAgfVxuXG4gICAgSVB5dGhvbi5ub3RlYm9vay5ldmVudHMub24oJ2tlcm5lbF9jb25uZWN0ZWQuS2VybmVsJywgaW5pdF9jb21tKTtcblxufVxuIl19\n"
      ],
      "text/plain": [
       "<IPython.core.display.Javascript object>"
      ]
     },
     "metadata": {},
     "output_type": "display_data"
    }
   ],
   "source": [
    "lgn = Lightning(ipython=True)\n"
   ]
  },
  {
   "cell_type": "markdown",
   "metadata": {},
   "source": [
    "## <hr> Matrix simple"
   ]
  },
  {
   "cell_type": "markdown",
   "metadata": {},
   "source": [
    "Las matrices son formas útiles para visualizar tablas de datos densos.\n",
    "<br>\n",
    "En primer lugar mostramos una matriz aleatoria con estilos predeterminados .\n",
    "<br>\n",
    "Usted puede usar las flechas para cambiar el contraste (arriba/abajo) o el colormap (izquierda/derecha)\n"
   ]
  },
  {
   "cell_type": "code",
   "execution_count": 3,
   "metadata": {
    "collapsed": false,
    "scrolled": true
   },
   "outputs": [
    {
     "data": {
      "text/html": [
       "<meta name=\"viewport\" content=\"width=device-width, initial-scale=1, maximum-scale=1\"/><meta http-equiv=\"X-UA-Compatible\" content=\"IE=10; IE=9; IE=8; IE=7; IE=EDGE\"/><meta charset=\"UTF-8\"/><link href=\"//fonts.googleapis.com/css?family=Open+Sans:400,700\" rel=\"stylesheet\" type=\"text/css\"/><link rel=\"stylesheet\" href=\"http://localhost:3000/css/app.css\"/><div id=\"lightning-body\" class=\"container content wrap push\"><div class=\"feed-container\"><div data-model=\"visualization\" data-model-id=\"63007831-7703-4b2b-86d3-ac7fe3189ffb\" class=\"feed-item-container\"><div data-type=\"lightning-matrix\" data-data=\"{&quot;matrix&quot;:[[-1.306325810865677,-1.1090172273765764,1.1809149364381,0.8946529915008589,1.5599273111998821,-0.08185579197178591,-0.7666417710044868,0.02168449324397153,0.13542236713782177,-0.7295906623812058],[-0.29090464521798104,0.11696629559434561,0.13166754888731647,-0.8703936228887081,-0.47142956659123064,0.08487398605240079,-0.3968900466000332,-1.6522286151929113,-0.5611181345113111,-0.15045690740240222],[1.028241668809574,1.5237643093221853,0.9992125645782108,0.60094379681401,-2.920676056920028,0.03848373253560632,0.9181239247489362,0.35237915351868015,0.8388662219926069,-1.5345209542963985],[-0.1027556637386102,-0.5532352512511343,-1.7517938688203858,-0.37128056806162374,-0.624370961178754,0.20603573230851327,-0.10135267380555489,-0.8861868554270831,-0.3337787289362702,1.5049772702863122],[-0.5973079034189117,-0.6631368482385552,-1.2481443216685173,-0.8495378746833118,-0.43550176559387693,0.6356304432775558,-2.2707664444128035,1.000249383979956,1.3778037530893485,-1.3793702893749031],[0.8665592757068024,-0.3075571674999946,-0.02867162202816503,0.923797396761429,-0.4865251078262361,-0.5801439138321421,0.09373149779013891,-0.2453371335717337,-1.1909963826373322,-0.062100235011129386],[0.5187609507952032,-0.7063103243985344,-0.5772353145807786,0.5755634978145223,-1.535670519473503,-1.5403471179323114,0.6136287744012427,-0.8999257964318172,1.096114673051507,1.1870204947485492],[0.2903615931422596,-1.4169107949993527,1.1660862744449128,-0.318492421460809,0.24594870873186928,-0.36448011763847216,-0.005027524180839179,1.6197019994506652,1.1795436820048668,0.3260925226271177],[0.14832625373123373,1.1093508090552047,1.777575890751413,1.2642708759276653,1.4559378959485074,-0.46485935234840203,1.3352698993752723,-1.3971185821047238,0.23402030331053167,-0.07359985866322744],[0.5278543725975657,-0.03818003889872457,0.06833846692207433,1.6688791814614121,1.2854754104030484,-0.801734768257183,1.6639659209750761,-1.0332091909763854,-0.276814217362719,1.1912116908151866]]}\" data-images=\"[]\" data-options=\"{&quot;numbers&quot;:false,&quot;width&quot;:600,&quot;description&quot;:null,&quot;height&quot;:null}\" id=\"viz-63007831-7703-4b2b-86d3-ac7fe3189ffb\" data-initialized=\"false\" class=\"feed-item\"></div></div></div></div><script>window.lightning = window.lightning || {};\n",
       "window.lightning.host = \"http://localhost:3000/\" || 'http://127.0.0.1:3000/';\n",
       "window.lightning.vizCount = (window.lightning.vizCount + 1) || 1;\n",
       "window.lightning.requiredVizTypes = window.lightning.requiredVizTypes || [];\n",
       "if(window.lightning.requiredVizTypes.indexOf(\"matrix\") === -1) {\n",
       "    window.lightning.requiredVizTypes.push(\"matrix\");\n",
       "}\n",
       "window._require = window.require;\n",
       "window.require = undefined;\n",
       "window._define = window.define;\n",
       "window.define = undefined;</script><script src=\"http://localhost:3000/js/embed.js\"></script>"
      ],
      "text/plain": [
       "<lightning.types.plots.Matrix at 0x7f8a5857d250>"
      ]
     },
     "execution_count": 3,
     "metadata": {},
     "output_type": "execute_result"
    }
   ],
   "source": [
    "mat = random.randn(10,10)\n",
    "lgn.matrix(mat)"
   ]
  },
  {
   "cell_type": "markdown",
   "metadata": {},
   "source": [
    "## <hr> Formas diferentes"
   ]
  },
  {
   "cell_type": "markdown",
   "metadata": {},
   "source": [
    "Matrices rectanglulares se adecuaran al tamaño automaticamente."
   ]
  },
  {
   "cell_type": "code",
   "execution_count": 4,
   "metadata": {
    "collapsed": false
   },
   "outputs": [
    {
     "data": {
      "text/html": [
       "<meta name=\"viewport\" content=\"width=device-width, initial-scale=1, maximum-scale=1\"/><meta http-equiv=\"X-UA-Compatible\" content=\"IE=10; IE=9; IE=8; IE=7; IE=EDGE\"/><meta charset=\"UTF-8\"/><link href=\"//fonts.googleapis.com/css?family=Open+Sans:400,700\" rel=\"stylesheet\" type=\"text/css\"/><link rel=\"stylesheet\" href=\"http://localhost:3000/css/app.css\"/><div id=\"lightning-body\" class=\"container content wrap push\"><div class=\"feed-container\"><div data-model=\"visualization\" data-model-id=\"2a9c5f98-f51e-43f5-bc14-fd4e01c265fa\" class=\"feed-item-container\"><div data-type=\"lightning-matrix\" data-data=\"{&quot;matrix&quot;:[[0.57296861547429,1.112569629879912,-1.377567722184058,-1.5938330249265311,1.2559219692442065,-0.6870141050630174,2.002362532260437,-0.5527870125520945,-0.6734360208270425,0.31227978159269054,0.22053864017340624,-0.9878715664008192,1.3986068036380723,0.8444455180755446,0.40835051785791854,0.2387081796487203,0.06361454743353755,-0.8488105825076834,1.156963655321049,-0.919661022554554],[1.287993961534573,1.0980395801854332,0.23824274115073005,-1.6293403748517967,0.3455533203186494,0.384537076585779,-0.7860149026613042,0.2936225988157384,0.24166693657117547,0.029511451979877947,-1.5702687417015981,0.0975575058846022,1.1519273966066088,0.2939270870909179,1.6347251458013916,0.4889135062560103,-0.4140668259714778,0.06668718659925399,-1.3544911048190322,-1.0317382171572103],[0.3632104100626489,-1.1230222685862563,-1.4124157086734384,-0.4345283037796834,0.836650772773198,1.9975958806189371,1.4875174643097875,-1.1193383502769458,-2.0359323682072934,0.5186317277230705,0.18448397193188457,0.689896625235455,0.13860893204108624,-1.6317745065387725,0.1832208999034714,-1.9371450379470987,-0.5918444253612934,-1.070987555958705,0.5323663909197214,-0.5901601320298508],[1.3077049540807266,-0.47989134442795855,-1.1342093007511622,1.0627541351148881,-0.0774233641531258,0.0008252385023772462,0.6556553421034904,0.20161941501889294,0.13653142564841703,0.34770320882366124,-0.6279870072984648,0.5325020428195442,1.301728746485873,0.7174770410514705,0.7983312844211579,0.3404224654342105,-2.1149383045356833,0.476386671846658,0.5309881721393084,-0.3618302778645779],[-2.1193184038223296,0.7415300681270695,0.5814912640000642,0.1972086612847151,0.4722304276462895,-0.15360377727687502,-0.7234271602315235,-0.89208816323047,-0.18589465831563187,0.9597127864679784,0.5037857026048262,1.9904765355522651,-0.13939258548502534,0.3456594445015603,-1.5467012043400503,0.1203870027997206,-0.976301914507268,-0.4465836617103354,-0.25541741548737806,-1.3279753090145046],[-0.21960118556747596,-0.13985343420899093,0.3379062473835941,-0.13959196258144108,-0.7101559619429616,-1.7897277221275216,-0.6815550681912346,-0.8824867034210162,0.03125724648007961,0.6034750922934825,0.7804409849369865,0.16979869823576796,-0.784906507236005,1.5860557420569583,0.21888296852457567,0.858783219415769,0.37975067398644685,0.4370102614661607,-0.08387769108144884,-0.5892484006904818],[0.49911766936666313,0.017232445819850572,-0.7196676168021697,-0.13491398714594632,0.019270342691682627,3.515425388419018,-0.39525399596759614,-0.2674800623147835,-1.0671587762354726,-0.3182519284688638,-0.9983640113230043,0.8645266073898642,-0.7447331771895672,-0.4092025186987113,-0.38913520363985316,-1.2748184148720152,1.675813839419278,-0.7325257649647938,-1.2336975070466598,-1.639042034624069],[0.4394399992201922,-1.348152709480408,-1.4843832757614746,-1.888633968862846,1.5832161019652344,1.0769804142631374,0.38350198872294616,1.9421331834540736,-0.7071095638122274,0.5795730971995227,0.9487154476751892,-0.09915661764374391,-0.1644343193159395,1.725682946640265,0.6749203413530537,-1.1471056304456242,0.36335826327245896,-1.2946050389886194,-1.0283928513656921,0.23133191202016407],[0.664460040515965,-0.5429984653679766,0.06012507581647104,0.4269976241869246,-0.6479693072189889,-0.2952931142529197,-0.6215058244747266,-0.39358343873989776,-1.85525812202978,-0.2355694940690951,0.4226572300384946,-0.2986778877462739,-2.774516136688771,1.273425938831332,-1.1868237820659007,-0.2863633706874505,-1.0917244230519352,-0.23956479642009793,-0.583861245653972,0.9204225642267112],[-0.9869824741168974,-0.8879299851647559,1.5498651805268877,-0.8598920683181134,-1.534382450187899,-1.238407827266806,-0.69357611436166,-0.03904739701606933,0.8220818467841419,0.15680991716296808,-0.48295801151163015,0.022211508957960764,-1.836105384571969,-1.2036505808504552,0.6072180845392351,-1.0860536819421835,-0.8384132430258229,-0.29051801988223314,0.7776525866439358,-0.44401434194401507]]}\" data-images=\"[]\" data-options=\"{&quot;numbers&quot;:false,&quot;width&quot;:600,&quot;description&quot;:null,&quot;height&quot;:null}\" id=\"viz-2a9c5f98-f51e-43f5-bc14-fd4e01c265fa\" data-initialized=\"false\" class=\"feed-item\"></div></div></div></div><script>window.lightning = window.lightning || {};\n",
       "window.lightning.host = \"http://localhost:3000/\" || 'http://127.0.0.1:3000/';\n",
       "window.lightning.vizCount = (window.lightning.vizCount + 1) || 1;\n",
       "window.lightning.requiredVizTypes = window.lightning.requiredVizTypes || [];\n",
       "if(window.lightning.requiredVizTypes.indexOf(\"matrix\") === -1) {\n",
       "    window.lightning.requiredVizTypes.push(\"matrix\");\n",
       "}\n",
       "window._require = window.require;\n",
       "window.require = undefined;\n",
       "window._define = window.define;\n",
       "window.define = undefined;</script><script src=\"http://localhost:3000/js/embed.js\"></script>"
      ],
      "text/plain": [
       "<lightning.types.plots.Matrix at 0x7f8a59f6f410>"
      ]
     },
     "execution_count": 4,
     "metadata": {},
     "output_type": "execute_result"
    }
   ],
   "source": [
    "mat = random.randn(10,20)\n",
    "lgn.matrix(mat)"
   ]
  },
  {
   "cell_type": "code",
   "execution_count": 5,
   "metadata": {
    "collapsed": false
   },
   "outputs": [
    {
     "data": {
      "text/html": [
       "<meta name=\"viewport\" content=\"width=device-width, initial-scale=1, maximum-scale=1\"/><meta http-equiv=\"X-UA-Compatible\" content=\"IE=10; IE=9; IE=8; IE=7; IE=EDGE\"/><meta charset=\"UTF-8\"/><link href=\"//fonts.googleapis.com/css?family=Open+Sans:400,700\" rel=\"stylesheet\" type=\"text/css\"/><link rel=\"stylesheet\" href=\"http://localhost:3000/css/app.css\"/><div id=\"lightning-body\" class=\"container content wrap push\"><div class=\"feed-container\"><div data-model=\"visualization\" data-model-id=\"d011b352-6c13-4cc9-9033-2729b3267639\" class=\"feed-item-container\"><div data-type=\"lightning-matrix\" data-data=\"{&quot;matrix&quot;:[[-0.053555568452347664,0.022860679073882197,-0.3077031068977412,0.5299929560642983,0.21659040417570083,1.232370758890522,-1.4427796360017981,0.1775395183486767,-1.114983959495366,-0.7874474534475187],[0.16042215612578198,0.6266648901520446,0.9115079580691744,0.004817377662182121,-0.07977597198914933,-0.6146196850192792,0.8528816113040273,0.6141308619236601,-2.076664740078553,-1.198513768322035],[-1.3730153770970848,-0.39864510601987024,0.796449657538304,0.012462354903846817,0.8813011877701112,-0.5266957934496661,0.06524899840309901,-0.17889927499293742,-1.4808576911058215,-1.2191859653802501],[0.08446070656397357,-0.21692212553966578,0.414855144541504,-2.0757748549502173,-0.7652986504438056,0.013115443832345511,-0.8128538254101312,-0.023223638319742564,-2.8364188237543395,-1.2540850229289662],[-2.6983191271513367,-1.4152404561459402,0.9346917443239804,1.6205813905592108,0.5875625554835959,0.47162512039787086,1.285564175299765,0.5038920514763602,0.4138544690172962,0.6622215816372019],[-0.44886027832931646,-1.0545370437567207,0.0512310693397269,0.43692357258544867,-1.2935368356582033,1.1856577548973721,-2.2183869823071203,0.21195840599720292,0.022172889437075804,0.25409402446723994],[1.2864343495485075,0.5749029349545408,-0.3620773273611164,-2.031082944646834,-0.07851544670797747,-1.2559859738565264,-1.4723994279095522,-0.9802180610282437,0.3328587085768318,-0.5262126654528135],[-0.4376482202205617,-0.3566525687764168,-0.1544348158370138,1.3703614054340514,0.16016445821251965,0.9323902219425295,-0.3393264657114699,-0.2928484058282701,-0.8127384680393172,0.7824185119179347],[-2.5497619664721736,-0.16378537023738146,0.618945537659474,-0.4477605309784979,-0.4808601171858508,0.6031050037106943,0.04100663788000348,-0.06383494223736172,-0.11920901275107744,-0.6760957932128966],[-1.8872503869810773,0.6819809413788611,-0.9571005334480984,-1.5858240645629025,-0.44481824093695316,0.20462076472851218,-0.37004324506533814,-1.6473379932199768,-0.8337609078510725,-0.5557235011483186],[2.1284390853324022,-0.3830401347164504,-0.516076462289215,-0.5886746054050676,0.23939075463272821,-2.5266444037423392,-0.2415186434471872,0.14115542074180285,0.9602902711671649,0.6214076207787259],[-1.2114245178885017,-0.1296874132042641,-0.16322177014803022,2.4483299042663833,2.2390403096892864,-0.3339186269372674,-1.813439647971611,-0.2256256070346808,-0.9961961130635534,0.5879449499540962],[-0.9731141091537997,1.7100956998828583,-0.09443255926586515,0.857682038886035,0.24840698621514984,-0.23023198770902398,0.2965654548283917,0.2712704112331312,0.5513949716583418,1.331780656060034],[0.39655233975044374,0.74779985365708,-0.05124737595081376,-0.04156336480972392,-0.4262284994954035,-0.4455095950844122,1.6455843609741785,1.1111646857791522,0.16700376201770528,0.1528734946190491],[1.0989391845510406,-1.1026163975075485,0.1480768128191717,-0.27077645785325766,-0.416368341761377,1.0263213993214213,0.5685119074169743,0.8843903454336117,0.7865724865936888,-0.11245220529828508],[1.1749875383677337,1.9251854965731265,-1.1192723877179773,-0.6494087694898948,1.6841131194359553,1.2115377028390768,-0.22776230470996864,-0.5676592235480699,0.12455460810963102,-1.5782509875982664],[0.285120675916523,0.6178618815192652,0.26653102897887065,1.2963473689464509,-0.9103030816874356,2.036386753702337,-0.8395306125172093,-0.2005573293039056,-0.7262705723467235,1.9798928635024313],[0.28645538750086796,0.42466123145246903,-0.2590160932466799,0.4106610330447398,-0.5773413716117383,-0.7375585842843636,0.6424164454274471,-1.0593975753523823,-0.6237021236874453,0.5646694931629385],[-0.30359177312317487,0.02716273480603862,-1.0066083440179383,0.2225402016330451,-0.8879053598293005,-0.1266685842599813,-0.5374214670304529,0.10609228804236556,-1.2295151625382144,-0.4666273998663964],[-0.36465448756264623,0.8729659462243439,-1.4141871623063074,-0.1342446929428667,0.8299394623427284,0.4607664220631838,0.7548310023002139,-0.02682169653161911,0.10829491184433257,-1.1466007914340637]]}\" data-images=\"[]\" data-options=\"{&quot;numbers&quot;:false,&quot;width&quot;:600,&quot;description&quot;:null,&quot;height&quot;:null}\" id=\"viz-d011b352-6c13-4cc9-9033-2729b3267639\" data-initialized=\"false\" class=\"feed-item\"></div></div></div></div><script>window.lightning = window.lightning || {};\n",
       "window.lightning.host = \"http://localhost:3000/\" || 'http://127.0.0.1:3000/';\n",
       "window.lightning.vizCount = (window.lightning.vizCount + 1) || 1;\n",
       "window.lightning.requiredVizTypes = window.lightning.requiredVizTypes || [];\n",
       "if(window.lightning.requiredVizTypes.indexOf(\"matrix\") === -1) {\n",
       "    window.lightning.requiredVizTypes.push(\"matrix\");\n",
       "}\n",
       "window._require = window.require;\n",
       "window.require = undefined;\n",
       "window._define = window.define;\n",
       "window.define = undefined;</script><script src=\"http://localhost:3000/js/embed.js\"></script>"
      ],
      "text/plain": [
       "<lightning.types.plots.Matrix at 0x7f8a60548b10>"
      ]
     },
     "execution_count": 5,
     "metadata": {},
     "output_type": "execute_result"
    }
   ],
   "source": [
    "mat = random.randn(20,10)\n",
    "lgn.matrix(mat)"
   ]
  },
  {
   "cell_type": "markdown",
   "metadata": {},
   "source": [
    "## <hr> Colores"
   ]
  },
  {
   "cell_type": "markdown",
   "metadata": {},
   "source": [
    "Las matrices se pueden representar usando algun colorbrewer colormaps."
   ]
  },
  {
   "cell_type": "code",
   "execution_count": 6,
   "metadata": {
    "collapsed": false
   },
   "outputs": [
    {
     "data": {
      "text/html": [
       "<meta name=\"viewport\" content=\"width=device-width, initial-scale=1, maximum-scale=1\"/><meta http-equiv=\"X-UA-Compatible\" content=\"IE=10; IE=9; IE=8; IE=7; IE=EDGE\"/><meta charset=\"UTF-8\"/><link href=\"//fonts.googleapis.com/css?family=Open+Sans:400,700\" rel=\"stylesheet\" type=\"text/css\"/><link rel=\"stylesheet\" href=\"http://localhost:3000/css/app.css\"/><div id=\"lightning-body\" class=\"container content wrap push\"><div class=\"feed-container\"><div data-model=\"visualization\" data-model-id=\"d80134bf-be52-427c-9632-1fae70281da0\" class=\"feed-item-container\"><div data-type=\"lightning-matrix\" data-data=\"{&quot;matrix&quot;:[[0.21016219546716697,0.8946650230344748,0.8535521869467917,0.40394255739990736,0.12629140371478653,0.6812358510177979,0.8066339553465401,0.5805184444925309,0.6033275923850228,0.8513666305491844],[0.8774236953509219,0.7347530151768177,0.68954797308245,0.8415083985450214,0.4314724114105346,0.7998411771949276,0.6713190769296535,0.19788615394913356,0.01374150321046741,0.8447211686771188],[0.44298284324364756,0.8516388307041691,0.42353832030665006,0.33050224084620017,0.2622298505159373,0.5191198158374012,0.5301895566200796,0.16353084612072954,0.32804789423749925,0.8833730690974804],[0.9198383845402004,0.6628423724121654,0.4871146382991163,0.3890403239213367,0.3549989162925711,0.12915020452023407,0.9954731358947789,0.7118985543202913,0.6986938770849579,0.9734323283280295],[0.9148697915350291,0.5039919265409194,0.3219073506342689,0.8387896896991883,0.48140110129384894,0.8287054782620384,0.1306874682491852,0.46529362159942367,0.6675420784923515,0.16902714149293263],[0.4939273070961414,0.3794632628543989,0.43263860163668577,0.3584097322815254,0.35368668836064665,0.5750756419668546,0.908845756101135,0.17793401524191543,0.4116307383717509,0.6229598440206692],[0.10114361460638466,0.6792848678956375,0.9165150739226525,0.02467305917160101,0.7873014487662084,0.2543866753987981,0.2560452067516391,0.6573032487596497,0.23129844923300558,0.9419352153529332],[0.7663028643677094,0.12207584686345252,0.7223925288979617,0.35873798525049516,0.8399074983524552,0.8614547694074279,0.177532543642969,0.6062430774530251,0.21303266103576313,0.7720491508610132],[0.8433388389778733,0.8029509924240866,0.18662765154865146,0.3559491960913539,0.36778624266826754,0.3958655052779999,0.9545223941171586,0.34945433586263785,0.8674085541870149,0.5084215136071268],[0.1470344627244482,0.005997268850133408,0.20748195985390405,0.3960755311458455,0.33397369076764005,0.6293588617751167,0.8583694508302289,0.30481355522550113,0.4787235170237353,0.8535288918357649]],&quot;colormap&quot;:&quot;Reds&quot;}\" data-images=\"[]\" data-options=\"{&quot;numbers&quot;:false,&quot;width&quot;:600,&quot;description&quot;:null,&quot;height&quot;:null}\" id=\"viz-d80134bf-be52-427c-9632-1fae70281da0\" data-initialized=\"false\" class=\"feed-item\"></div></div></div></div><script>window.lightning = window.lightning || {};\n",
       "window.lightning.host = \"http://localhost:3000/\" || 'http://127.0.0.1:3000/';\n",
       "window.lightning.vizCount = (window.lightning.vizCount + 1) || 1;\n",
       "window.lightning.requiredVizTypes = window.lightning.requiredVizTypes || [];\n",
       "if(window.lightning.requiredVizTypes.indexOf(\"matrix\") === -1) {\n",
       "    window.lightning.requiredVizTypes.push(\"matrix\");\n",
       "}\n",
       "window._require = window.require;\n",
       "window.require = undefined;\n",
       "window._define = window.define;\n",
       "window.define = undefined;</script><script src=\"http://localhost:3000/js/embed.js\"></script>"
      ],
      "text/plain": [
       "<lightning.types.plots.Matrix at 0x7f8a30cce790>"
      ]
     },
     "execution_count": 6,
     "metadata": {},
     "output_type": "execute_result"
    }
   ],
   "source": [
    "mat = random.rand(10,10)\n",
    "lgn.matrix(mat, colormap='Reds')"
   ]
  },
  {
   "cell_type": "code",
   "execution_count": 7,
   "metadata": {
    "collapsed": false
   },
   "outputs": [
    {
     "data": {
      "text/html": [
       "<meta name=\"viewport\" content=\"width=device-width, initial-scale=1, maximum-scale=1\"/><meta http-equiv=\"X-UA-Compatible\" content=\"IE=10; IE=9; IE=8; IE=7; IE=EDGE\"/><meta charset=\"UTF-8\"/><link href=\"//fonts.googleapis.com/css?family=Open+Sans:400,700\" rel=\"stylesheet\" type=\"text/css\"/><link rel=\"stylesheet\" href=\"http://localhost:3000/css/app.css\"/><div id=\"lightning-body\" class=\"container content wrap push\"><div class=\"feed-container\"><div data-model=\"visualization\" data-model-id=\"ba3ef085-97ce-4e81-a991-8a201f9f6869\" class=\"feed-item-container\"><div data-type=\"lightning-matrix\" data-data=\"{&quot;matrix&quot;:[[0.4564244403399008,0.6124062490951694,0.09619648472562137,0.13647962490005117,0.0632901097918771,0.3312570574231253,0.3632824716948774,0.32126069331737195,0.23851298854659964,0.14370132255073476],[0.4502639533287771,0.2769612575407443,0.7115195991744903,0.39694984522490184,0.3835142555659212,0.6837491831710605,0.27122263436546523,0.6476523282977853,0.621730350572714,0.6619206948346806],[0.9593365404347197,0.4240429704162373,0.13401292154132127,0.5531474538572149,0.4077247150489175,0.23355628986914767,0.8355067882191892,0.8274320590540605,0.11962255003235778,0.26772545072105924],[0.31886229740198235,0.5288702625025509,0.35371792772095567,0.04940463990166544,0.92253470139866,0.09340284774027974,0.015329498619929938,0.3328400870910079,0.9048280934869989,0.20794315545033693],[0.18890262499133248,0.3109423573109156,0.7943335241931939,0.7970451070683455,0.6588318579074439,0.11529156541016072,0.49642801302055817,0.28369889140454085,0.8240526897602728,0.4799433085701583],[0.7513436141741267,0.7752019250034529,0.8771929710526059,0.5020166697185043,0.654643799373202,0.9642907739840034,0.941846304355381,0.24960057139724046,0.5431171329685853,0.22818272068218526],[0.8405269610790536,0.6870768081912345,0.26818467062314055,0.8105338829139233,0.6969569402635,0.6607250716662829,0.32077683629572395,0.13305826817385313,0.9127080671399178,0.402090767562325],[0.9058350071406723,0.9125153315332816,0.9061606288759061,0.6554965251889899,0.2429256416474075,0.4326988175702635,0.2866018282973267,0.5678724681998599,0.223477280195581,0.960983564478466],[0.815551314263262,0.3985698171694535,0.5231610812147829,0.031056301050094492,0.4219517611007426,0.28513305826905133,0.8107003929133337,0.7223791540844645,0.9401305998688426,0.4917019348721777],[0.22317884168441748,0.06948872007722229,0.9823302211513886,0.21864927700132708,0.1188751827235911,0.7800283835374511,0.14032316147384727,0.4954840502691138,0.004603985538352617,0.4889977134776784]],&quot;colormap&quot;:&quot;Spectral&quot;}\" data-images=\"[]\" data-options=\"{&quot;numbers&quot;:false,&quot;width&quot;:600,&quot;description&quot;:null,&quot;height&quot;:null}\" id=\"viz-ba3ef085-97ce-4e81-a991-8a201f9f6869\" data-initialized=\"false\" class=\"feed-item\"></div></div></div></div><script>window.lightning = window.lightning || {};\n",
       "window.lightning.host = \"http://localhost:3000/\" || 'http://127.0.0.1:3000/';\n",
       "window.lightning.vizCount = (window.lightning.vizCount + 1) || 1;\n",
       "window.lightning.requiredVizTypes = window.lightning.requiredVizTypes || [];\n",
       "if(window.lightning.requiredVizTypes.indexOf(\"matrix\") === -1) {\n",
       "    window.lightning.requiredVizTypes.push(\"matrix\");\n",
       "}\n",
       "window._require = window.require;\n",
       "window.require = undefined;\n",
       "window._define = window.define;\n",
       "window.define = undefined;</script><script src=\"http://localhost:3000/js/embed.js\"></script>"
      ],
      "text/plain": [
       "<lightning.types.plots.Matrix at 0x7f8a30a20f10>"
      ]
     },
     "execution_count": 7,
     "metadata": {},
     "output_type": "execute_result"
    }
   ],
   "source": [
    "mat = random.rand(10,10)\n",
    "lgn.matrix(mat, colormap='Spectral')"
   ]
  },
  {
   "cell_type": "markdown",
   "metadata": {},
   "source": [
    "## <hr> Etiquetas"
   ]
  },
  {
   "cell_type": "markdown",
   "metadata": {},
   "source": [
    "\n",
    "Puede etiquetar las filas y columnas de una matriz . \n",
    "Al hacer clic en las etiquetas de texto se hará hincapié en las filas y columnas."
   ]
  },
  {
   "cell_type": "code",
   "execution_count": 8,
   "metadata": {
    "collapsed": false
   },
   "outputs": [
    {
     "data": {
      "text/html": [
       "<meta name=\"viewport\" content=\"width=device-width, initial-scale=1, maximum-scale=1\"/><meta http-equiv=\"X-UA-Compatible\" content=\"IE=10; IE=9; IE=8; IE=7; IE=EDGE\"/><meta charset=\"UTF-8\"/><link href=\"//fonts.googleapis.com/css?family=Open+Sans:400,700\" rel=\"stylesheet\" type=\"text/css\"/><link rel=\"stylesheet\" href=\"http://localhost:3000/css/app.css\"/><div id=\"lightning-body\" class=\"container content wrap push\"><div class=\"feed-container\"><div data-model=\"visualization\" data-model-id=\"2b18a9fd-8958-448e-8951-3d3aaa64c412\" class=\"feed-item-container\"><div data-type=\"lightning-matrix\" data-data=\"{&quot;rowLabels&quot;:[&quot;row 0&quot;,&quot;row 1&quot;,&quot;row 2&quot;,&quot;row 3&quot;,&quot;row 4&quot;,&quot;row 5&quot;,&quot;row 6&quot;,&quot;row 7&quot;,&quot;row 8&quot;,&quot;row 9&quot;],&quot;matrix&quot;:[[0,1,2,3,4,5,6],[7,8,9,10,11,12,13],[14,15,16,17,18,19,20],[21,22,23,24,25,26,27],[28,29,30,31,32,33,34],[35,36,37,38,39,40,41],[42,43,44,45,46,47,48],[49,50,51,52,53,54,55],[56,57,58,59,60,61,62],[63,64,65,66,67,68,69]],&quot;columnLabels&quot;:[&quot;col 0&quot;,&quot;col 1&quot;,&quot;col 2&quot;,&quot;col 3&quot;,&quot;col 4&quot;,&quot;col 5&quot;,&quot;col 6&quot;]}\" data-images=\"[]\" data-options=\"{&quot;numbers&quot;:false,&quot;width&quot;:600,&quot;description&quot;:null,&quot;height&quot;:null}\" id=\"viz-2b18a9fd-8958-448e-8951-3d3aaa64c412\" data-initialized=\"false\" class=\"feed-item\"></div></div></div></div><script>window.lightning = window.lightning || {};\n",
       "window.lightning.host = \"http://localhost:3000/\" || 'http://127.0.0.1:3000/';\n",
       "window.lightning.vizCount = (window.lightning.vizCount + 1) || 1;\n",
       "window.lightning.requiredVizTypes = window.lightning.requiredVizTypes || [];\n",
       "if(window.lightning.requiredVizTypes.indexOf(\"matrix\") === -1) {\n",
       "    window.lightning.requiredVizTypes.push(\"matrix\");\n",
       "}\n",
       "window._require = window.require;\n",
       "window.require = undefined;\n",
       "window._define = window.define;\n",
       "window.define = undefined;</script><script src=\"http://localhost:3000/js/embed.js\"></script>"
      ],
      "text/plain": [
       "<lightning.types.plots.Matrix at 0x7f8a30ca6c50>"
      ]
     },
     "execution_count": 8,
     "metadata": {},
     "output_type": "execute_result"
    }
   ],
   "source": [
    "n, m = (10, 7)\n",
    "mat = arange(n*m).reshape(n,m)\n",
    "rows = ['row ' + str(i) for i in range(n)]\n",
    "columns = ['col ' + str(i) for i in range(m)]\n",
    "\n",
    "lgn.matrix(mat, row_labels=rows, column_labels=columns)"
   ]
  },
  {
   "cell_type": "markdown",
   "metadata": {},
   "source": [
    "También se puede activar en el etiquetado de las celdas por su valor "
   ]
  },
  {
   "cell_type": "code",
   "execution_count": 9,
   "metadata": {
    "collapsed": false
   },
   "outputs": [
    {
     "name": "stdout",
     "output_type": "stream",
     "text": [
      "[[ 0  1  2  3  4  5  6]\n",
      " [ 7  8  9 10 11 12 13]\n",
      " [14 15 16 17 18 19 20]\n",
      " [21 22 23 24 25 26 27]\n",
      " [28 29 30 31 32 33 34]\n",
      " [35 36 37 38 39 40 41]\n",
      " [42 43 44 45 46 47 48]\n",
      " [49 50 51 52 53 54 55]\n",
      " [56 57 58 59 60 61 62]\n",
      " [63 64 65 66 67 68 69]]\n"
     ]
    },
    {
     "data": {
      "text/html": [
       "<meta name=\"viewport\" content=\"width=device-width, initial-scale=1, maximum-scale=1\"/><meta http-equiv=\"X-UA-Compatible\" content=\"IE=10; IE=9; IE=8; IE=7; IE=EDGE\"/><meta charset=\"UTF-8\"/><link href=\"//fonts.googleapis.com/css?family=Open+Sans:400,700\" rel=\"stylesheet\" type=\"text/css\"/><link rel=\"stylesheet\" href=\"http://localhost:3000/css/app.css\"/><div id=\"lightning-body\" class=\"container content wrap push\"><div class=\"feed-container\"><div data-model=\"visualization\" data-model-id=\"59a74b10-3150-4356-b7f0-df8a5ee14f5d\" class=\"feed-item-container\"><div data-type=\"lightning-matrix\" data-data=\"{&quot;matrix&quot;:[[0,1,2,3,4,5,6],[7,8,9,10,11,12,13],[14,15,16,17,18,19,20],[21,22,23,24,25,26,27],[28,29,30,31,32,33,34],[35,36,37,38,39,40,41],[42,43,44,45,46,47,48],[49,50,51,52,53,54,55],[56,57,58,59,60,61,62],[63,64,65,66,67,68,69]]}\" data-images=\"[]\" data-options=\"{&quot;numbers&quot;:true,&quot;width&quot;:600,&quot;description&quot;:null,&quot;height&quot;:null}\" id=\"viz-59a74b10-3150-4356-b7f0-df8a5ee14f5d\" data-initialized=\"false\" class=\"feed-item\"></div></div></div></div><script>window.lightning = window.lightning || {};\n",
       "window.lightning.host = \"http://localhost:3000/\" || 'http://127.0.0.1:3000/';\n",
       "window.lightning.vizCount = (window.lightning.vizCount + 1) || 1;\n",
       "window.lightning.requiredVizTypes = window.lightning.requiredVizTypes || [];\n",
       "if(window.lightning.requiredVizTypes.indexOf(\"matrix\") === -1) {\n",
       "    window.lightning.requiredVizTypes.push(\"matrix\");\n",
       "}\n",
       "window._require = window.require;\n",
       "window.require = undefined;\n",
       "window._define = window.define;\n",
       "window.define = undefined;</script><script src=\"http://localhost:3000/js/embed.js\"></script>"
      ],
      "text/plain": [
       "<lightning.types.plots.Matrix at 0x7f8a3cef7210>"
      ]
     },
     "execution_count": 9,
     "metadata": {},
     "output_type": "execute_result"
    }
   ],
   "source": [
    "mat = arange(n*m).reshape(n,m)\n",
    "print mat\n",
    "\n",
    "lgn.matrix(mat, numbers=True)"
   ]
  },
  {
   "cell_type": "code",
   "execution_count": null,
   "metadata": {
    "collapsed": true
   },
   "outputs": [],
   "source": []
  },
  {
   "cell_type": "code",
   "execution_count": null,
   "metadata": {
    "collapsed": true
   },
   "outputs": [],
   "source": []
  }
 ],
 "metadata": {
  "kernelspec": {
   "display_name": "Python 2",
   "language": "python",
   "name": "python2"
  },
  "language_info": {
   "codemirror_mode": {
    "name": "ipython",
    "version": 2
   },
   "file_extension": ".py",
   "mimetype": "text/x-python",
   "name": "python",
   "nbconvert_exporter": "python",
   "pygments_lexer": "ipython2",
   "version": "2.7.6"
  }
 },
 "nbformat": 4,
 "nbformat_minor": 0
}
