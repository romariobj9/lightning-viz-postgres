{
 "cells": [
  {
   "cell_type": "markdown",
   "metadata": {},
   "source": [
    "# <img style='float: left' src=\"http://lightning-viz.github.io/images/logo.png\"> <br> <br> &nbsp;&nbsp;&nbsp;&nbsp;&nbsp;Force-directed graphs in <a href='http://lightning-viz.github.io/'><font color='#9175f0'>Lightning</font></a>"
   ]
  },
  {
   "cell_type": "markdown",
   "metadata": {},
   "source": [
    "## <hr> Configuracion"
   ]
  },
  {
   "cell_type": "code",
   "execution_count": 1,
   "metadata": {
    "collapsed": false
   },
   "outputs": [],
   "source": [
    "import os\n",
    "from lightning import Lightning\n",
    "\n",
    "from numpy import random, asarray, linspace, corrcoef\n",
    "from colorsys import hsv_to_rgb\n",
    "import networkx as nx"
   ]
  },
  {
   "cell_type": "markdown",
   "metadata": {},
   "source": [
    "## Conexion al Servidor"
   ]
  },
  {
   "cell_type": "code",
   "execution_count": 2,
   "metadata": {
    "collapsed": false
   },
   "outputs": [
    {
     "data": {
      "text/html": [
       "<div style='margin-top:8px'><img src='data:image/png;base64,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' width='30px' height='35px' style='display: inline-block; padding-right: 10px'></img><span>Lightning initialized</span></div>"
      ],
      "text/plain": [
       "<IPython.core.display.HTML object>"
      ]
     },
     "metadata": {},
     "output_type": "display_data"
    },
    {
     "name": "stdout",
     "output_type": "stream",
     "text": [
      "Connected to server at http://localhost:3000\n"
     ]
    },
    {
     "data": {
      "application/javascript": [
       "(function e(t,n,r){function s(o,u){if(!n[o]){if(!t[o]){var a=typeof require==\"function\"&&require;if(!u&&a)return a(o,!0);if(i)return i(o,!0);throw new Error(\"Cannot find module '\"+o+\"'\")}var f=n[o]={exports:{}};t[o][0].call(f.exports,function(e){var n=t[o][1][e];return s(n?n:e)},f,f.exports,e,t,n,r)}return n[o].exports}var i=typeof require==\"function\"&&require;for(var o=0;o<r.length;o++)s(r[o]);return s})({1:[function(require,module,exports){\n",
       "window.lightning = window.lightning || {};\n",
       "var lightningCommMap = {};\n",
       "var IPython = window.IPython;\n",
       "\n",
       "var readCommData = function(commData, field) {\n",
       "    try {\n",
       "        return commData.content.data[field];\n",
       "    } catch (err) {\n",
       "        return;\n",
       "    }\n",
       "};\n",
       "\n",
       "\n",
       "var init_comm = function() {\n",
       "    IPython.notebook.kernel.comm_manager.register_target('lightning', function(comm, data) {\n",
       "        var id = readCommData(data, 'id');\n",
       "        lightningCommMap[id] = comm;\n",
       "    });\n",
       "\n",
       "    window.lightning.comm_map = lightningCommMap;\n",
       "}\n",
       "\n",
       "\n",
       "if(IPython && IPython.notebook) {\n",
       "\n",
       "    if(IPython.notebook.kernel) {\n",
       "        init_comm();\n",
       "    }\n",
       "\n",
       "    IPython.notebook.events.on('kernel_connected.Kernel', init_comm);\n",
       "\n",
       "}\n",
       "\n",
       "\n",
       "},{}]},{},[1])\n",
       "//# sourceMappingURL=data:application/json;base64,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\n"
      ],
      "text/plain": [
       "<IPython.core.display.Javascript object>"
      ]
     },
     "metadata": {},
     "output_type": "display_data"
    }
   ],
   "source": [
    "lgn = Lightning(ipython=True)"
   ]
  },
  {
   "cell_type": "markdown",
   "metadata": {},
   "source": [
    "## <hr> Red binaria aleatoria"
   ]
  },
  {
   "cell_type": "markdown",
   "metadata": {},
   "source": [
    "Un grafo aleatorio en el que cada nodo tiene el mismo grado , con un estilo predeterminado .\n",
    "<br>\n",
    "Usamos la biblioteca networkx para generar el gráfico y obtener su matriz de adyacencia .\n",
    "<br>\n",
    "Haga doble clic en un punto para ver sus 'vecinos' ( todos deben tener 3 ) \n",
    "<br>\n",
    "Arrastre los puntos para tratar de mover el gráfico , debe permanecer cerrada."
   ]
  },
  {
   "cell_type": "code",
   "execution_count": 4,
   "metadata": {
    "collapsed": false
   },
   "outputs": [
    {
     "data": {
      "text/html": [
       "<meta name=\"viewport\" content=\"width=device-width, initial-scale=1, maximum-scale=1\"/><meta http-equiv=\"X-UA-Compatible\" content=\"IE=10; IE=9; IE=8; IE=7; IE=EDGE\"/><meta charset=\"UTF-8\"/><link href=\"//fonts.googleapis.com/css?family=Open+Sans:400,700\" rel=\"stylesheet\" type=\"text/css\"/><link rel=\"stylesheet\" href=\"http://localhost:3000/css/app.css\"/><div id=\"lightning-body\" class=\"container content wrap push\"><div class=\"feed-container\"><div data-model=\"visualization\" data-model-id=\"74601c38-394d-4d80-bbee-0ebc891bdd30\" class=\"feed-item-container\"><div data-type=\"lightning-force\" data-data=\"{&quot;nodes&quot;:[0,1,2,3,4,5,6,7,8,9,10,11,12,13,14,15,16,17,18,19,20,21,22,23,24,25,26,27,28,29,30,31,32,33,34,35,36,37,38,39,40,41,42,43,44,45,46,47,48,49,50,51,52,53,54,55,56,57,58,59,60,61,62,63,64,65,66,67,68,69,70,71,72,73,74,75,76,77,78,79,80,81,82,83,84,85,86,87,88,89,90,91,92,93,94,95,96,97,98,99],&quot;links&quot;:[[0,12,1],[0,27,1],[0,46,1],[1,27,1],[1,65,1],[1,72,1],[2,36,1],[2,53,1],[2,74,1],[3,25,1],[3,62,1],[3,68,1],[4,35,1],[4,66,1],[4,86,1],[5,28,1],[5,62,1],[5,87,1],[6,44,1],[6,47,1],[6,95,1],[7,42,1],[7,62,1],[7,73,1],[8,13,1],[8,79,1],[8,83,1],[9,21,1],[9,45,1],[9,88,1],[10,59,1],[10,81,1],[10,85,1],[11,33,1],[11,59,1],[11,60,1],[12,0,1],[12,21,1],[12,48,1],[13,8,1],[13,24,1],[13,38,1],[14,26,1],[14,31,1],[14,68,1],[15,23,1],[15,65,1],[15,72,1],[16,30,1],[16,58,1],[16,68,1],[17,44,1],[17,92,1],[17,99,1],[18,19,1],[18,75,1],[18,77,1],[19,18,1],[19,52,1],[19,80,1],[20,26,1],[20,85,1],[20,96,1],[21,9,1],[21,12,1],[21,83,1],[22,54,1],[22,69,1],[22,91,1],[23,15,1],[23,35,1],[23,82,1],[24,13,1],[24,64,1],[24,79,1],[25,3,1],[25,59,1],[25,67,1],[26,14,1],[26,20,1],[26,87,1],[27,0,1],[27,1,1],[27,74,1],[28,5,1],[28,77,1],[28,98,1],[29,79,1],[29,92,1],[29,94,1],[30,16,1],[30,48,1],[30,56,1],[31,14,1],[31,55,1],[31,61,1],[32,63,1],[32,74,1],[32,97,1],[33,11,1],[33,39,1],[33,75,1],[34,40,1],[34,48,1],[34,91,1],[35,4,1],[35,23,1],[35,97,1],[36,2,1],[36,43,1],[36,73,1],[37,58,1],[37,78,1],[37,80,1],[38,13,1],[38,64,1],[38,65,1],[39,33,1],[39,63,1],[39,70,1],[40,34,1],[40,90,1],[40,96,1],[41,47,1],[41,55,1],[41,98,1],[42,7,1],[42,49,1],[42,86,1],[43,36,1],[43,49,1],[43,82,1],[44,6,1],[44,17,1],[44,67,1],[45,9,1],[45,84,1],[45,97,1],[46,0,1],[46,53,1],[46,57,1],[47,6,1],[47,41,1],[47,52,1],[48,12,1],[48,30,1],[48,34,1],[49,42,1],[49,43,1],[49,98,1],[50,67,1],[50,70,1],[50,99,1],[51,57,1],[51,64,1],[51,99,1],[52,19,1],[52,47,1],[52,61,1],[53,2,1],[53,46,1],[53,76,1],[54,22,1],[54,89,1],[54,96,1],[55,31,1],[55,41,1],[55,89,1],[56,30,1],[56,60,1],[56,72,1],[57,46,1],[57,51,1],[57,83,1],[58,16,1],[58,37,1],[58,69,1],[59,10,1],[59,11,1],[59,25,1],[60,11,1],[60,56,1],[60,95,1],[61,31,1],[61,52,1],[61,78,1],[62,3,1],[62,5,1],[62,7,1],[63,32,1],[63,39,1],[63,93,1],[64,24,1],[64,38,1],[64,51,1],[65,1,1],[65,15,1],[65,38,1],[66,4,1],[66,80,1],[66,95,1],[67,25,1],[67,44,1],[67,50,1],[68,3,1],[68,14,1],[68,16,1],[69,22,1],[69,58,1],[69,93,1],[70,39,1],[70,50,1],[70,75,1],[71,81,1],[71,86,1],[71,92,1],[72,1,1],[72,15,1],[72,56,1],[73,7,1],[73,36,1],[73,76,1],[74,2,1],[74,27,1],[74,32,1],[75,18,1],[75,33,1],[75,70,1],[76,53,1],[76,73,1],[76,85,1],[77,18,1],[77,28,1],[77,84,1],[78,37,1],[78,61,1],[78,90,1],[79,8,1],[79,24,1],[79,29,1],[80,19,1],[80,37,1],[80,66,1],[81,10,1],[81,71,1],[81,82,1],[82,23,1],[82,43,1],[82,81,1],[83,8,1],[83,21,1],[83,57,1],[84,45,1],[84,77,1],[84,88,1],[85,10,1],[85,20,1],[85,76,1],[86,4,1],[86,42,1],[86,71,1],[87,5,1],[87,26,1],[87,91,1],[88,9,1],[88,84,1],[88,90,1],[89,54,1],[89,55,1],[89,94,1],[90,40,1],[90,78,1],[90,88,1],[91,22,1],[91,34,1],[91,87,1],[92,17,1],[92,29,1],[92,71,1],[93,63,1],[93,69,1],[93,94,1],[94,29,1],[94,89,1],[94,93,1],[95,6,1],[95,60,1],[95,66,1],[96,20,1],[96,40,1],[96,54,1],[97,32,1],[97,35,1],[97,45,1],[98,28,1],[98,41,1],[98,49,1],[99,17,1],[99,50,1],[99,51,1]]}\" data-images=\"[]\" data-options=\"{&quot;tooltips&quot;:true,&quot;description&quot;:null,&quot;zoom&quot;:true,&quot;height&quot;:null,&quot;width&quot;:600,&quot;brush&quot;:true}\" id=\"viz-74601c38-394d-4d80-bbee-0ebc891bdd30\" data-initialized=\"false\" class=\"feed-item\"></div></div></div></div><script>window.lightning = window.lightning || {};\n",
       "window.lightning.host = \"http://localhost:3000/\" || 'http://127.0.0.1:3000/';\n",
       "window.lightning.vizCount = (window.lightning.vizCount + 1) || 1;\n",
       "window.lightning.requiredVizTypes = window.lightning.requiredVizTypes || [];\n",
       "if(window.lightning.requiredVizTypes.indexOf(\"force\") === -1) {\n",
       "    window.lightning.requiredVizTypes.push(\"force\");\n",
       "}\n",
       "window._require = window.require;\n",
       "window.require = undefined;\n",
       "window._define = window.define;\n",
       "window.define = undefined;</script><script src=\"http://localhost:3000/js/embed.js\"></script>"
      ],
      "text/plain": [
       "<lightning.types.plots.Force at 0x7f49bfcc7510>"
      ]
     },
     "execution_count": 4,
     "metadata": {},
     "output_type": "execute_result"
    }
   ],
   "source": [
    "n = 100\n",
    "G = nx.random_regular_graph(3,n)\n",
    "mat = nx.adjacency_matrix(G).todense()\n",
    "lgn.force(mat)"
   ]
  },
  {
   "cell_type": "markdown",
   "metadata": {},
   "source": [
    "## <hr> La red ponderada aleatoria"
   ]
  },
  {
   "cell_type": "markdown",
   "metadata": {},
   "source": [
    "\n",
    "La red anterior era binario ( todos los enlaces , ya sea 0 o 1 ) .\n",
    "Aquí los enlaces son ponderados."
   ]
  },
  {
   "cell_type": "code",
   "execution_count": 5,
   "metadata": {
    "collapsed": false
   },
   "outputs": [
    {
     "data": {
      "text/html": [
       "<meta name=\"viewport\" content=\"width=device-width, initial-scale=1, maximum-scale=1\"/><meta http-equiv=\"X-UA-Compatible\" content=\"IE=10; IE=9; IE=8; IE=7; IE=EDGE\"/><meta charset=\"UTF-8\"/><link href=\"//fonts.googleapis.com/css?family=Open+Sans:400,700\" rel=\"stylesheet\" type=\"text/css\"/><link rel=\"stylesheet\" href=\"http://localhost:3000/css/app.css\"/><div id=\"lightning-body\" class=\"container content wrap push\"><div class=\"feed-container\"><div data-model=\"visualization\" data-model-id=\"9cfb6b56-6178-4231-90cc-a9fde5897148\" class=\"feed-item-container\"><div data-type=\"lightning-force\" data-data=\"{&quot;nodes&quot;:[0,1,2,3,4,5,6,7,8,9,10,11,12,13,14,15,16,17,18,19,20,21,22,23,24,25,26,27,28,29,30,31,32,33,34,35,36,37,38,39,40,41,42,43,44,45,46,47,48,49,50,51,52,53,54,55,56,57,58,59,60,61,62,63,64,65,66,67,68,69,70,71,72,73,74,75,76,77,78,79,80,81,82,83,84,85,86,87,88,89,90,91,92,93,94,95,96,97,98,99],&quot;links&quot;:[[0,19,18.495379404872587],[0,84,9.937109370336984],[0,85,20.254081417263723],[1,8,19.046098586021287],[1,43,1.9268134488383326],[1,50,10.087279038406363],[2,33,4.9202436257182365],[2,39,20.579185578743857],[2,92,0.3291204688501305],[3,60,6.934494799224635],[3,75,0.8966220870374394],[3,98,22.40159891346824],[4,9,2.7747120601164563],[4,12,14.953714965309697],[4,31,14.521013150359542],[5,38,22.474196409304],[5,53,16.179434195449204],[5,98,1.0963917580787643],[6,10,9.574969065552683],[6,21,0.002184142271731245],[6,74,0.12283288617830806],[7,13,20.376409350785863],[7,26,6.6158833774629935],[7,71,14.420843118682903],[8,1,7.5083643377959675],[8,32,8.75001666140468],[8,36,3.188571896794482],[9,4,3.9026504119739096],[9,34,5.036408872334844],[9,62,8.803516220201569],[10,6,13.853817051737192],[10,20,0.7625729240399635],[10,65,20.770420454433594],[11,22,3.042180812778084],[11,62,6.892015358397701],[11,78,11.130508221629569],[12,4,8.902538473474193],[12,61,12.013971931278288],[12,73,4.38641285548543],[13,7,19.62225290563074],[13,76,18.49393469639823],[13,94,12.649935151340534],[14,27,0.7403815337914202],[14,40,13.863571036806723],[14,57,1.508775839971106],[15,50,0.9497519628965851],[15,70,9.008437174892405],[15,96,0.14610541661771576],[16,49,14.71489069977216],[16,57,0.00033442526219679646],[16,81,2.955718683837614],[17,38,24.42094105880608],[17,55,18.015583637852917],[17,80,6.7236183939759195],[18,22,17.029452606597427],[18,91,1.162489594427759],[18,92,3.4400122859739004],[19,0,0.11268661337894699],[19,26,16.61129218660461],[19,54,0.857219307945019],[20,10,5.440082010420475],[20,42,0.018299073340476275],[20,53,24.42374644376747],[21,6,15.084576429105212],[21,68,1.7100256084058894],[21,82,1.303199326572382],[22,11,3.7722085216709957],[22,18,0.33176153102041084],[22,48,3.228666880947772],[23,51,15.035734513692688],[23,64,10.736443524983914],[23,96,20.67916240038209],[24,28,6.53920789149138],[24,33,10.94095680142622],[24,41,13.292608669371731],[25,40,3.383310540027026],[25,69,18.521649837512836],[25,84,0.004028266983140458],[26,7,20.029522340888974],[26,19,4.412181540753529],[26,28,9.185796488575235],[27,14,10.737404819708642],[27,49,2.2782748406408806],[27,64,6.465833340237597],[28,24,4.3162212853961215],[28,26,0.677050861625634],[28,60,5.5472469246661165],[29,47,2.546784639871493],[29,54,0.6950569272732882],[29,87,0.22428533588430394],[30,36,12.9012075679145],[30,44,8.77096110138664],[30,52,3.5631635458426545],[31,4,8.80440499075027],[31,58,6.827816126780543],[31,93,0.7281981969347497],[32,8,19.402378585683223],[32,59,18.990685528784663],[32,88,0.00645822856934865],[33,2,4.988390782821272],[33,24,22.065409834276274],[33,67,9.471728559206761],[34,9,7.346924174073018],[34,73,16.057651074378562],[34,77,2.778858273080649],[35,39,11.848248366677522],[35,41,3.383976484373641],[35,94,13.560814238750982],[36,8,8.582733548581693],[36,30,5.639727157343231],[36,77,20.867409721296287],[37,39,11.589192788667447],[37,45,2.191909519302318],[37,95,22.14551840155414],[38,5,11.142854329319027],[38,17,15.178974510488809],[38,81,21.91642820191878],[39,2,6.099089299377384],[39,35,11.177430034067926],[39,37,0.028401999137473856],[40,14,4.162195053519978],[40,25,1.3110607272691344],[40,66,6.472873895352498],[41,24,1.6154253118810922],[41,35,1.4239259397954909],[41,71,5.190291581817974],[42,20,12.82481781479863],[42,63,0.6116184441236695],[42,66,6.169538119822476],[43,1,11.934889143338156],[43,45,0.36556172989754004],[43,51,3.2289323044842138],[44,30,3.883629808480566],[44,68,17.565115411298166],[44,89,1.6568507973233662],[45,37,4.17221997777896],[45,43,23.48784007469829],[45,79,12.61310005801376],[46,67,21.82831876091555],[46,88,0.6551546224400282],[46,90,0.05355405703755989],[47,29,10.712430614561288],[47,51,13.016898772623938],[47,99,8.95855951476054],[48,22,12.634002579811726],[48,54,0.9539315680585302],[48,87,4.02952602587558],[49,16,8.628970759116473],[49,27,1.7008549636209116],[49,97,20.569959034319943],[50,1,5.309790507571339],[50,15,0.4101942376708867],[50,89,0.21064764238581432],[51,23,23.57173526339016],[51,43,12.504543445425181],[51,47,4.926183705106982],[52,30,5.841867362333914],[52,72,9.608302986561402],[52,99,14.551696685272244],[53,5,21.877355975699675],[53,20,2.2106587396556776],[53,98,13.454976749825757],[54,19,0.03614701641379143],[54,29,16.929713434947615],[54,48,18.8113650199319],[55,17,15.29586121953546],[55,73,2.4801901929327754],[55,79,0.7121271277923452],[56,76,6.203722647856025],[56,83,14.076496937269352],[56,97,15.89269735280406],[57,14,7.564796750974778],[57,16,10.021429315560798],[57,71,8.573329767739352],[58,31,0.3915402707167733],[58,62,2.8663164109243886],[58,97,0.3446437712901552],[59,32,3.2216262700256184],[59,72,0.0476650353918801],[59,93,1.8891042091374746],[60,3,1.8910373585545706],[60,28,3.794177992367436],[60,99,0.041065192419492066],[61,12,0.15697177377678231],[61,90,0.22483529515378733],[61,94,16.292919661452984],[62,9,3.2568035648052525],[62,11,0.14847157063571131],[62,58,4.054424115082893],[63,42,7.607312052202226],[63,75,18.30389858298525],[63,88,0.0005943483437342578],[64,23,10.782605554589336],[64,27,2.6475105799050573],[64,86,0.9758216002376722],[65,10,19.538492477643597],[65,78,1.1947646599334423],[65,91,14.44525450342933],[66,40,24.112380506436217],[66,42,0.16073993356516203],[66,95,0.6864179697530515],[67,33,2.010937763505539],[67,46,17.763781936903754],[67,86,19.619237974504188],[68,21,0.03222556469382148],[68,44,21.108395309405118],[68,83,3.346053780551505],[69,25,8.660939128283143],[69,70,14.505072716054439],[69,89,14.078395953793963],[70,15,6.418494165939731],[70,69,0.885278218318547],[70,84,15.955645697013768],[71,7,20.233591263780063],[71,41,4.137019880222392],[71,57,13.333662180256766],[72,52,0.732134106851227],[72,59,1.1315962061377798],[72,87,9.756946805717059],[73,12,4.035193207082752],[73,34,0.7655940476224644],[73,55,2.1121435428248225],[74,6,22.08004327589518],[74,80,16.576844670814342],[74,85,6.892502802037335],[75,3,24.531846003931125],[75,63,14.182232833667252],[75,96,3.532473147408172],[76,13,0.006137481411735839],[76,56,20.491373060201738],[76,77,19.62907847881438],[77,34,4.035359768178148],[77,36,9.580521711748716],[77,76,1.1600674910442785],[78,11,24.018075565415153],[78,65,0.016073679507293975],[78,82,0.7959023629809742],[79,45,24.311835901358357],[79,55,15.47115735021724],[79,80,5.441703975513068],[80,17,0.1628793135397564],[80,74,1.3591418267843118],[80,79,1.3562752031701841],[81,16,13.939452283370237],[81,38,0.01924815805777237],[81,82,1.682602027434035],[82,21,22.408238493515515],[82,78,20.625625583457637],[82,81,0.07748060768441774],[83,56,17.992884119294988],[83,68,2.611445751273547],[83,85,15.620492182250976],[84,0,2.0156299731343013],[84,25,11.368987692428886],[84,70,19.188894431114516],[85,0,14.799780278560567],[85,74,11.894562001724855],[85,83,22.42692896795966],[86,64,18.487526435542538],[86,67,22.405444618181633],[86,90,0.7984812528840893],[87,29,0.7010856292082666],[87,48,0.00422559616522443],[87,72,0.44343973363101735],[88,32,1.5723935657107997],[88,46,18.59775282725821],[88,63,0.2327884217602326],[89,44,9.674683205878772],[89,50,4.120198501526174],[89,69,3.169657855595006],[90,46,0.09414571726898398],[90,61,0.7740193135291262],[90,86,5.033215352879346],[91,18,0.5771496314837974],[91,65,5.959543847045048],[91,95,6.323671287481612],[92,2,0.1331047614268928],[92,18,6.965652660251335],[92,93,18.96424001355464],[93,31,18.474877602180136],[93,59,14.5951475919162],[93,92,2.355877253562989],[94,13,3.997545677635556],[94,35,3.0224212961117605],[94,61,9.338009994103075],[95,37,22.198976968120082],[95,66,1.291570193088178],[95,91,20.98498897432056],[96,15,2.281313958532405],[96,23,5.9205475041343885],[96,75,1.1979137670194375],[97,49,3.5957111484255986],[97,56,10.419139189841248],[97,58,0.0022317838455461936],[98,3,5.319917143154386],[98,5,3.5693546805907603],[98,53,7.963432183949498],[99,47,5.587502767179629],[99,52,2.3176199923512115],[99,60,6.39258225020011]]}\" data-images=\"[]\" data-options=\"{&quot;tooltips&quot;:true,&quot;description&quot;:null,&quot;zoom&quot;:true,&quot;height&quot;:null,&quot;width&quot;:600,&quot;brush&quot;:true}\" id=\"viz-9cfb6b56-6178-4231-90cc-a9fde5897148\" data-initialized=\"false\" class=\"feed-item\"></div></div></div></div><script>window.lightning = window.lightning || {};\n",
       "window.lightning.host = \"http://localhost:3000/\" || 'http://127.0.0.1:3000/';\n",
       "window.lightning.vizCount = (window.lightning.vizCount + 1) || 1;\n",
       "window.lightning.requiredVizTypes = window.lightning.requiredVizTypes || [];\n",
       "if(window.lightning.requiredVizTypes.indexOf(\"force\") === -1) {\n",
       "    window.lightning.requiredVizTypes.push(\"force\");\n",
       "}\n",
       "window._require = window.require;\n",
       "window.require = undefined;\n",
       "window._define = window.define;\n",
       "window.define = undefined;</script><script src=\"http://localhost:3000/js/embed.js\"></script>"
      ],
      "text/plain": [
       "<lightning.types.plots.Force at 0x7f49bfcc7810>"
      ]
     },
     "execution_count": 5,
     "metadata": {},
     "output_type": "execute_result"
    }
   ],
   "source": [
    "G = nx.random_regular_graph(3,100)\n",
    "mat = asarray(nx.adjacency_matrix(G).todense()) * (((random.rand(100,100))*5) ** 2)\n",
    "lgn.force(mat)"
   ]
  },
  {
   "cell_type": "markdown",
   "metadata": {},
   "source": [
    "## <hr> Red langosta"
   ]
  },
  {
   "cell_type": "markdown",
   "metadata": {},
   "source": [
    "El gráfico de langosta , y la columna vertebral con algunas hojas , está coloreada por orden de nodo.\n",
    "<br>\n",
    "También establecemos todos los nodos con valor menor que 2 a un color gris ."
   ]
  },
  {
   "cell_type": "code",
   "execution_count": 6,
   "metadata": {
    "collapsed": false
   },
   "outputs": [
    {
     "data": {
      "text/html": [
       "<meta name=\"viewport\" content=\"width=device-width, initial-scale=1, maximum-scale=1\"/><meta http-equiv=\"X-UA-Compatible\" content=\"IE=10; IE=9; IE=8; IE=7; IE=EDGE\"/><meta charset=\"UTF-8\"/><link href=\"//fonts.googleapis.com/css?family=Open+Sans:400,700\" rel=\"stylesheet\" type=\"text/css\"/><link rel=\"stylesheet\" href=\"http://localhost:3000/css/app.css\"/><div id=\"lightning-body\" class=\"container content wrap push\"><div class=\"feed-container\"><div data-model=\"visualization\" data-model-id=\"796dd491-cb5a-4403-be38-0c4f4bc38fd6\" class=\"feed-item-container\"><div data-type=\"lightning-force\" data-data=\"{&quot;color&quot;:[[150,150,150],[255,67.99999999999999,50.999999999999986],[255,84.99999999999999,50.999999999999986],[255,101.99999999999997,50.999999999999986],[255,118.99999999999997,50.999999999999986],[255,136.00000000000003,50.999999999999986],[255,153,50.999999999999986],[255,170.00000000000003,50.999999999999986],[255,187,50.999999999999986],[255,204,50.999999999999986],[255,221,50.999999999999986],[255,238,50.999999999999986],[255,255,50.999999999999986],[238,255,50.999999999999986],[220.99999999999997,255,50.999999999999986],[204,255,50.999999999999986],[187.00000000000003,255,50.999999999999986],[170.00000000000003,255,50.999999999999986],[153,255,50.999999999999986],[135.99999999999997,255,50.999999999999986],[118.99999999999997,255,50.999999999999986],[101.99999999999997,255,50.999999999999986],[84.99999999999996,255,50.999999999999986],[68.00000000000001,255,50.999999999999986],[50.999999999999986,255,50.999999999999986],[50.999999999999986,255,67.99999999999993],[50.999999999999986,255,84.99999999999996],[50.999999999999986,255,101.99999999999997],[50.999999999999986,255,119.00000000000003],[50.999999999999986,255,136.00000000000006],[50.999999999999986,255,153],[50.999999999999986,255,170.00000000000003],[50.999999999999986,255,186.99999999999997],[50.999999999999986,255,204],[50.999999999999986,255,220.99999999999994],[50.999999999999986,255,237.99999999999997],[50.999999999999986,255,255],[50.999999999999986,238.00000000000006,255],[50.999999999999986,220.99999999999994,255],[50.999999999999986,204,255],[50.999999999999986,186.99999999999997,255],[50.999999999999986,170.00000000000003,255],[50.999999999999986,153,255],[50.999999999999986,136.00000000000006,255],[50.999999999999986,118.99999999999994,255],[50.999999999999986,101.99999999999997,255],[50.999999999999986,85.00000000000004,255],[50.999999999999986,67.99999999999993,255],[50.999999999999986,50.999999999999986,255],[150,150,150],[150,150,150],[150,150,150],[150,150,150],[150,150,150],[150,150,150],[150,150,150],[150,150,150],[150,150,150],[150,150,150],[150,150,150],[150,150,150],[150,150,150],[150,150,150],[150,150,150],[150,150,150],[150,150,150],[150,150,150],[150,150,150],[150,150,150],[150,150,150],[150,150,150],[150,150,150]],&quot;nodes&quot;:[0,1,2,3,4,5,6,7,8,9,10,11,12,13,14,15,16,17,18,19,20,21,22,23,24,25,26,27,28,29,30,31,32,33,34,35,36,37,38,39,40,41,42,43,44,45,46,47,48,49,50,51,52,53,54,55,56,57,58,59,60,61,62,63,64,65,66,67,68,69,70,71],&quot;links&quot;:[[0,1,1],[1,0,1],[1,2,1],[2,1,1],[2,3,1],[2,49,1],[3,2,1],[3,4,1],[3,50,1],[4,3,1],[4,5,1],[4,51,1],[5,4,1],[5,6,1],[6,5,1],[6,7,1],[7,6,1],[7,8,1],[8,7,1],[8,9,1],[8,52,1],[9,8,1],[9,10,1],[10,9,1],[10,11,1],[10,53,1],[11,10,1],[11,12,1],[12,11,1],[12,13,1],[13,12,1],[13,14,1],[13,54,1],[14,13,1],[14,15,1],[14,55,1],[15,14,1],[15,16,1],[15,56,1],[16,15,1],[16,17,1],[17,16,1],[17,18,1],[17,57,1],[18,17,1],[18,19,1],[18,58,1],[19,18,1],[19,20,1],[19,59,1],[20,19,1],[20,21,1],[20,60,1],[21,20,1],[21,22,1],[22,21,1],[22,23,1],[23,22,1],[23,24,1],[23,61,1],[24,23,1],[24,25,1],[25,24,1],[25,26,1],[26,25,1],[26,27,1],[27,26,1],[27,28,1],[27,62,1],[28,27,1],[28,29,1],[29,28,1],[29,30,1],[30,29,1],[30,31,1],[31,30,1],[31,32,1],[31,63,1],[32,31,1],[32,33,1],[33,32,1],[33,34,1],[34,33,1],[34,35,1],[34,64,1],[35,34,1],[35,36,1],[36,35,1],[36,37,1],[36,65,1],[37,36,1],[37,38,1],[37,66,1],[38,37,1],[38,39,1],[39,38,1],[39,40,1],[40,39,1],[40,41,1],[41,40,1],[41,42,1],[42,41,1],[42,43,1],[42,67,1],[43,42,1],[43,44,1],[43,68,1],[44,43,1],[44,45,1],[45,44,1],[45,46,1],[46,45,1],[46,47,1],[46,69,1],[47,46,1],[47,48,1],[47,70,1],[48,47,1],[48,71,1],[49,2,1],[50,3,1],[51,4,1],[52,8,1],[53,10,1],[54,13,1],[55,14,1],[56,15,1],[57,17,1],[58,18,1],[59,19,1],[60,20,1],[61,23,1],[62,27,1],[63,31,1],[64,34,1],[65,36,1],[66,37,1],[67,42,1],[68,43,1],[69,46,1],[70,47,1],[71,48,1]]}\" data-images=\"[]\" data-options=\"{&quot;tooltips&quot;:true,&quot;description&quot;:null,&quot;zoom&quot;:true,&quot;height&quot;:null,&quot;width&quot;:600,&quot;brush&quot;:true}\" id=\"viz-796dd491-cb5a-4403-be38-0c4f4bc38fd6\" data-initialized=\"false\" class=\"feed-item\"></div></div></div></div><script>window.lightning = window.lightning || {};\n",
       "window.lightning.host = \"http://localhost:3000/\" || 'http://127.0.0.1:3000/';\n",
       "window.lightning.vizCount = (window.lightning.vizCount + 1) || 1;\n",
       "window.lightning.requiredVizTypes = window.lightning.requiredVizTypes || [];\n",
       "if(window.lightning.requiredVizTypes.indexOf(\"force\") === -1) {\n",
       "    window.lightning.requiredVizTypes.push(\"force\");\n",
       "}\n",
       "window._require = window.require;\n",
       "window.require = undefined;\n",
       "window._define = window.define;\n",
       "window.define = undefined;</script><script src=\"http://localhost:3000/js/embed.js\"></script>"
      ],
      "text/plain": [
       "<lightning.types.plots.Force at 0x7f49bfa20310>"
      ]
     },
     "execution_count": 6,
     "metadata": {},
     "output_type": "execute_result"
    }
   ],
   "source": [
    "G = nx.random_lobster(60, 0.5, 0.0, seed=44)\n",
    "mat = nx.adjacency_matrix(G).todense()\n",
    "n = len(G.nodes())\n",
    "c = [list(asarray(hsv_to_rgb(float(x) / n , 0.8, 1.0))*255) if y > 1 else [150,150,150] for (x,y) in G.degree_iter()]\n",
    "lgn.force(mat, color=c)"
   ]
  },
  {
   "cell_type": "markdown",
   "metadata": {},
   "source": [
    "## <hr> Coloracion por grado"
   ]
  },
  {
   "cell_type": "markdown",
   "metadata": {},
   "source": [
    "Aquí coloreamos puntos para indicar su grado.\n",
    "<br>\n",
    "Haga clic para confirmar que los puntos más grandes tienen más conexiones"
   ]
  },
  {
   "cell_type": "code",
   "execution_count": 7,
   "metadata": {
    "collapsed": false
   },
   "outputs": [
    {
     "data": {
      "text/html": [
       "<meta name=\"viewport\" content=\"width=device-width, initial-scale=1, maximum-scale=1\"/><meta http-equiv=\"X-UA-Compatible\" content=\"IE=10; IE=9; IE=8; IE=7; IE=EDGE\"/><meta charset=\"UTF-8\"/><link href=\"//fonts.googleapis.com/css?family=Open+Sans:400,700\" rel=\"stylesheet\" type=\"text/css\"/><link rel=\"stylesheet\" href=\"http://localhost:3000/css/app.css\"/><div id=\"lightning-body\" class=\"container content wrap push\"><div class=\"feed-container\"><div data-model=\"visualization\" data-model-id=\"32d7ce36-d903-4aed-a401-fd031f8c8ada\" class=\"feed-item-container\"><div data-type=\"lightning-force\" data-data=\"{&quot;nodes&quot;:[0,1,2,3,4,5,6,7,8,9,10,11,12,13,14,15,16,17,18,19,20,21,22,23,24,25,26,27,28,29,30,31,32,33,34,35,36,37,38,39,40,41,42,43,44,45,46,47,48,49],&quot;group&quot;:[2,5,4,2,3,0,1,1,1,0,0,0,2,2,0,0,0,2,0,2,1,1,2,1,1,1,2,3,2,1,3,0,2,2,4,2,1,0,0,2,4,0,2,4,5,3,0,0,1,1],&quot;links&quot;:[[0,30,1],[0,45,1],[1,2,1],[1,26,1],[1,40,1],[1,43,1],[1,44,1],[2,1,1],[2,40,1],[2,43,1],[2,44,1],[3,22,1],[3,35,1],[4,21,1],[4,32,1],[4,42,1],[6,20,1],[7,24,1],[8,48,1],[12,27,1],[12,39,1],[13,17,1],[13,28,1],[17,13,1],[17,28,1],[19,25,1],[19,27,1],[20,6,1],[21,4,1],[22,3,1],[22,35,1],[23,33,1],[24,7,1],[25,19,1],[26,1,1],[26,44,1],[27,12,1],[27,19,1],[27,39,1],[28,13,1],[28,17,1],[29,49,1],[30,0,1],[30,34,1],[30,45,1],[32,4,1],[32,34,1],[33,23,1],[33,36,1],[34,30,1],[34,32,1],[34,42,1],[34,45,1],[35,3,1],[35,22,1],[36,33,1],[39,12,1],[39,27,1],[40,1,1],[40,2,1],[40,43,1],[40,44,1],[42,4,1],[42,34,1],[43,1,1],[43,2,1],[43,40,1],[43,44,1],[44,1,1],[44,2,1],[44,26,1],[44,40,1],[44,43,1],[45,0,1],[45,30,1],[45,34,1],[48,8,1],[49,29,1]],&quot;size&quot;:[10.5,19.5,16.5,10.5,13.5,4.5,7.5,7.5,7.5,4.5,4.5,4.5,10.5,10.5,4.5,4.5,4.5,10.5,4.5,10.5,7.5,7.5,10.5,7.5,7.5,7.5,10.5,13.5,10.5,7.5,13.5,4.5,10.5,10.5,16.5,10.5,7.5,4.5,4.5,10.5,16.5,4.5,10.5,16.5,19.5,13.5,4.5,4.5,7.5,7.5]}\" data-images=\"[]\" data-options=\"{&quot;tooltips&quot;:true,&quot;description&quot;:null,&quot;zoom&quot;:true,&quot;height&quot;:null,&quot;width&quot;:600,&quot;brush&quot;:true}\" id=\"viz-32d7ce36-d903-4aed-a401-fd031f8c8ada\" data-initialized=\"false\" class=\"feed-item\"></div></div></div></div><script>window.lightning = window.lightning || {};\n",
       "window.lightning.host = \"http://localhost:3000/\" || 'http://127.0.0.1:3000/';\n",
       "window.lightning.vizCount = (window.lightning.vizCount + 1) || 1;\n",
       "window.lightning.requiredVizTypes = window.lightning.requiredVizTypes || [];\n",
       "if(window.lightning.requiredVizTypes.indexOf(\"force\") === -1) {\n",
       "    window.lightning.requiredVizTypes.push(\"force\");\n",
       "}\n",
       "window._require = window.require;\n",
       "window.require = undefined;\n",
       "window._define = window.define;\n",
       "window.define = undefined;</script><script src=\"http://localhost:3000/js/embed.js\"></script>"
      ],
      "text/plain": [
       "<lightning.types.plots.Force at 0x7f49bfcf2290>"
      ]
     },
     "execution_count": 7,
     "metadata": {},
     "output_type": "execute_result"
    }
   ],
   "source": [
    "G = nx.random_geometric_graph(50, 0.1)\n",
    "mat = nx.adjacency_matrix(G).todense()\n",
    "g = G.degree().values()\n",
    "lgn.force(mat, group=g, size=(asarray(g) + 1.5)*3)"
   ]
  },
  {
   "cell_type": "code",
   "execution_count": null,
   "metadata": {
    "collapsed": true
   },
   "outputs": [],
   "source": []
  }
 ],
 "metadata": {
  "kernelspec": {
   "display_name": "Python 2",
   "language": "python",
   "name": "python2"
  },
  "language_info": {
   "codemirror_mode": {
    "name": "ipython",
    "version": 2
   },
   "file_extension": ".py",
   "mimetype": "text/x-python",
   "name": "python",
   "nbconvert_exporter": "python",
   "pygments_lexer": "ipython2",
   "version": "2.7.6"
  }
 },
 "nbformat": 4,
 "nbformat_minor": 0
}
