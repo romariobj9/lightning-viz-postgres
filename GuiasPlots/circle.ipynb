{
 "cells": [
  {
   "cell_type": "markdown",
   "metadata": {},
   "source": [
    "# <img style='float: left' src=\"http://lightning-viz.github.io/images/logo.png\"> <br> <br> &nbsp;&nbsp;&nbsp;&nbsp;&nbsp;Circle plots in <a href='http://lightning-viz.github.io/'><font color='#9175f0'>Lightning</font></a>"
   ]
  },
  {
   "cell_type": "markdown",
   "metadata": {},
   "source": [
    "## <hr> Configuracion"
   ]
  },
  {
   "cell_type": "code",
   "execution_count": 1,
   "metadata": {
    "collapsed": false
   },
   "outputs": [],
   "source": [
    "from lightning import Lightning\n",
    "\n",
    "from numpy import random, asarray"
   ]
  },
  {
   "cell_type": "markdown",
   "metadata": {},
   "source": [
    "## Conexion al Servidor"
   ]
  },
  {
   "cell_type": "code",
   "execution_count": 2,
   "metadata": {
    "collapsed": false
   },
   "outputs": [
    {
     "data": {
      "text/html": [
       "<div style='margin-top:8px'><img src='data:image/png;base64,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' width='30px' height='35px' style='display: inline-block; padding-right: 10px'></img><span>Lightning initialized</span></div>"
      ],
      "text/plain": [
       "<IPython.core.display.HTML object>"
      ]
     },
     "metadata": {},
     "output_type": "display_data"
    },
    {
     "name": "stdout",
     "output_type": "stream",
     "text": [
      "Connected to server at http://localhost:3000\n"
     ]
    },
    {
     "data": {
      "application/javascript": [
       "(function e(t,n,r){function s(o,u){if(!n[o]){if(!t[o]){var a=typeof require==\"function\"&&require;if(!u&&a)return a(o,!0);if(i)return i(o,!0);throw new Error(\"Cannot find module '\"+o+\"'\")}var f=n[o]={exports:{}};t[o][0].call(f.exports,function(e){var n=t[o][1][e];return s(n?n:e)},f,f.exports,e,t,n,r)}return n[o].exports}var i=typeof require==\"function\"&&require;for(var o=0;o<r.length;o++)s(r[o]);return s})({1:[function(require,module,exports){\n",
       "window.lightning = window.lightning || {};\n",
       "var lightningCommMap = {};\n",
       "var IPython = window.IPython;\n",
       "\n",
       "var readCommData = function(commData, field) {\n",
       "    try {\n",
       "        return commData.content.data[field];\n",
       "    } catch (err) {\n",
       "        return;\n",
       "    }\n",
       "};\n",
       "\n",
       "\n",
       "var init_comm = function() {\n",
       "    IPython.notebook.kernel.comm_manager.register_target('lightning', function(comm, data) {\n",
       "        var id = readCommData(data, 'id');\n",
       "        lightningCommMap[id] = comm;\n",
       "    });\n",
       "\n",
       "    window.lightning.comm_map = lightningCommMap;\n",
       "}\n",
       "\n",
       "\n",
       "if(IPython && IPython.notebook) {\n",
       "\n",
       "    if(IPython.notebook.kernel) {\n",
       "        init_comm();\n",
       "    }\n",
       "\n",
       "    IPython.notebook.events.on('kernel_connected.Kernel', init_comm);\n",
       "\n",
       "}\n",
       "\n",
       "\n",
       "},{}]},{},[1])\n",
       "//# sourceMappingURL=data:application/json;base64,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\n"
      ],
      "text/plain": [
       "<IPython.core.display.Javascript object>"
      ]
     },
     "metadata": {},
     "output_type": "display_data"
    }
   ],
   "source": [
    "lgn = Lightning(ipython=True)"
   ]
  },
  {
   "cell_type": "markdown",
   "metadata": {},
   "source": [
    "## <hr> Solo conexiones"
   ]
  },
  {
   "cell_type": "markdown",
   "metadata": {},
   "source": [
    "Parcelas circulares muestran las conexiones entre nodos en un gráfico.Vamos a hacer una para un conjunto de conexiones al azar."
   ]
  },
  {
   "cell_type": "code",
   "execution_count": 3,
   "metadata": {
    "collapsed": false
   },
   "outputs": [
    {
     "data": {
      "text/html": [
       "<meta name=\"viewport\" content=\"width=device-width, initial-scale=1, maximum-scale=1\"/><meta http-equiv=\"X-UA-Compatible\" content=\"IE=10; IE=9; IE=8; IE=7; IE=EDGE\"/><meta charset=\"UTF-8\"/><link href=\"//fonts.googleapis.com/css?family=Open+Sans:400,700\" rel=\"stylesheet\" type=\"text/css\"/><link rel=\"stylesheet\" href=\"http://localhost:3000/css/app.css\"/><div id=\"lightning-body\" class=\"container content wrap push\"><div class=\"feed-container\"><div data-model=\"visualization\" data-model-id=\"505846d2-9fb2-45e7-ab92-63aa6449db9d\" class=\"feed-item-container\"><div data-type=\"lightning-circle\" data-data=\"{&quot;nodes&quot;:[0,1,2,3,4,5,6,7,8,9,10,11,12,13,14,15,16,17,18,19,20,21,22,23,24,25,26,27,28,29,30,31,32,33,34,35,36,37,38,39,40,41,42,43,44,45,46,47,48,49],&quot;links&quot;:[[0,34,0.9987040207413113],[2,11,0.9893655835301595],[2,26,0.9982647254578365],[2,31,0.998099694214945],[8,5,0.984924397170131],[8,21,0.9961597783252185],[9,9,0.999923663607058],[9,32,0.9924343094804776],[9,41,0.9870291683554946],[11,3,0.9962619651213774],[12,24,0.9983793926690747],[12,34,0.9994803662104895],[13,22,0.9919957868618742],[14,45,0.9892879064651747],[15,24,0.9886172431271492],[16,10,0.9817799175776132],[17,9,0.9911756996602596],[18,1,0.9900620488132991],[18,49,0.9936675145366706],[20,5,0.9946677818049573],[20,7,0.9804220736977199],[20,18,0.9973533912127817],[21,0,0.997323494477311],[22,0,0.9989413887944972],[22,33,0.9998022698157335],[23,1,0.9909730110348148],[23,22,0.9968303597832371],[24,22,0.9899003278899658],[24,41,0.9990887072574655],[27,1,0.99284813828988],[27,34,0.9886109390181621],[28,38,0.9962009591890645],[29,34,0.9823643377349466],[30,14,0.9937547185538468],[31,4,0.9942186579247732],[31,12,0.9977396188864849],[31,43,0.9964611265822134],[32,6,0.9901574051415899],[32,34,0.9985373045572417],[32,43,0.9806691156639605],[34,46,0.9987676049415875],[35,34,0.9844367729175821],[36,20,0.9975166541924413],[37,12,0.9810963741734651],[38,20,0.9853824528043983],[46,28,0.9878124089591336],[46,41,0.9855270854596268],[47,36,0.9982120096500801],[49,19,0.9840673305723517]]}\" data-images=\"[]\" data-options=\"{&quot;width&quot;:600,&quot;description&quot;:null,&quot;height&quot;:null}\" id=\"viz-505846d2-9fb2-45e7-ab92-63aa6449db9d\" data-initialized=\"false\" class=\"feed-item\"></div></div></div></div><script>window.lightning = window.lightning || {};\n",
       "window.lightning.host = \"http://localhost:3000/\" || 'http://127.0.0.1:3000/';\n",
       "window.lightning.vizCount = (window.lightning.vizCount + 1) || 1;\n",
       "window.lightning.requiredVizTypes = window.lightning.requiredVizTypes || [];\n",
       "if(window.lightning.requiredVizTypes.indexOf(\"circle\") === -1) {\n",
       "    window.lightning.requiredVizTypes.push(\"circle\");\n",
       "}\n",
       "window._require = window.require;\n",
       "window.require = undefined;\n",
       "window._define = window.define;\n",
       "window.define = undefined;</script><script src=\"http://localhost:3000/js/embed.js\"></script>"
      ],
      "text/plain": [
       "<lightning.types.plots.Circle at 0x7f55a446d690>"
      ]
     },
     "execution_count": 3,
     "metadata": {},
     "output_type": "execute_result"
    }
   ],
   "source": [
    "connections = random.rand(50,50)\n",
    "connections[connections<0.98] = 0\n",
    "lgn.circle(connections)"
   ]
  },
  {
   "cell_type": "markdown",
   "metadata": {},
   "source": [
    "Podemos añadir una etiqueta de texto a cada nodo . Aquí sólo tendremos que añadir un identificador numérico.\n",
    "Al hacer clic en una etiqueta de nodo destaca sus conexiones"
   ]
  },
  {
   "cell_type": "code",
   "execution_count": 4,
   "metadata": {
    "collapsed": false
   },
   "outputs": [
    {
     "data": {
      "text/html": [
       "<meta name=\"viewport\" content=\"width=device-width, initial-scale=1, maximum-scale=1\"/><meta http-equiv=\"X-UA-Compatible\" content=\"IE=10; IE=9; IE=8; IE=7; IE=EDGE\"/><meta charset=\"UTF-8\"/><link href=\"//fonts.googleapis.com/css?family=Open+Sans:400,700\" rel=\"stylesheet\" type=\"text/css\"/><link rel=\"stylesheet\" href=\"http://localhost:3000/css/app.css\"/><div id=\"lightning-body\" class=\"container content wrap push\"><div class=\"feed-container\"><div data-model=\"visualization\" data-model-id=\"441601a4-d319-464f-8c71-4b5b1c1bd3a3\" class=\"feed-item-container\"><div data-type=\"lightning-circle\" data-data=\"{&quot;nodes&quot;:[0,1,2,3,4,5,6,7,8,9,10,11,12,13,14,15,16,17,18,19,20,21,22,23,24,25,26,27,28,29,30,31,32,33,34,35,36,37,38,39,40,41,42,43,44,45,46,47,48,49],&quot;labels&quot;:[&quot;node 0&quot;,&quot;node 1&quot;,&quot;node 2&quot;,&quot;node 3&quot;,&quot;node 4&quot;,&quot;node 5&quot;,&quot;node 6&quot;,&quot;node 7&quot;,&quot;node 8&quot;,&quot;node 9&quot;,&quot;node 10&quot;,&quot;node 11&quot;,&quot;node 12&quot;,&quot;node 13&quot;,&quot;node 14&quot;,&quot;node 15&quot;,&quot;node 16&quot;,&quot;node 17&quot;,&quot;node 18&quot;,&quot;node 19&quot;,&quot;node 20&quot;,&quot;node 21&quot;,&quot;node 22&quot;,&quot;node 23&quot;,&quot;node 24&quot;,&quot;node 25&quot;,&quot;node 26&quot;,&quot;node 27&quot;,&quot;node 28&quot;,&quot;node 29&quot;,&quot;node 30&quot;,&quot;node 31&quot;,&quot;node 32&quot;,&quot;node 33&quot;,&quot;node 34&quot;,&quot;node 35&quot;,&quot;node 36&quot;,&quot;node 37&quot;,&quot;node 38&quot;,&quot;node 39&quot;,&quot;node 40&quot;,&quot;node 41&quot;,&quot;node 42&quot;,&quot;node 43&quot;,&quot;node 44&quot;,&quot;node 45&quot;,&quot;node 46&quot;,&quot;node 47&quot;,&quot;node 48&quot;,&quot;node 49&quot;],&quot;links&quot;:[[2,16,0.9970459375509992],[2,42,0.9819995834642281],[4,13,0.9910553219086696],[4,14,0.9834623601994064],[5,43,0.985432848287368],[5,47,0.9995251802760435],[6,3,0.9856194086845392],[6,14,0.9814676807628512],[7,7,0.997185061767686],[7,24,0.9911029348359301],[7,36,0.9996133092201605],[8,0,0.9892942237882095],[8,15,0.984969188310992],[9,15,0.9884111557325385],[9,30,0.9863182379496483],[9,38,0.9890217156643145],[11,4,0.9907225777707214],[14,4,0.99317259289789],[14,36,0.9961268466790061],[18,36,0.9885278068817045],[18,37,0.9964321788374545],[18,48,0.9951346885543707],[21,16,0.9800440611054608],[24,31,0.9865813622180629],[25,36,0.9819042064702397],[26,17,0.9910372075417017],[26,24,0.9901496769216162],[26,27,0.9871809576311488],[26,45,0.9945361371363208],[26,48,0.9952371472074032],[28,34,0.9815053750760745],[29,47,0.9895880665454773],[30,25,0.9933325903003738],[31,4,0.9854471934490538],[31,13,0.9877538984017263],[31,19,0.9836526273810794],[32,1,0.9980411659406928],[32,9,0.9831673982224818],[32,13,0.9964568433460078],[32,20,0.9945992111093049],[35,29,0.9987036482900322],[38,48,0.9848470926995526],[39,37,0.9827300224597408],[40,24,0.9855471439736014],[40,44,0.992937073744663],[41,3,0.99763200618073],[44,33,0.9983244069112343],[45,10,0.9919876192651526],[45,14,0.9850308912116384],[45,32,0.9809975845671577],[46,20,0.9873170802028338],[48,10,0.9899475771501127]]}\" data-images=\"[]\" data-options=\"{&quot;width&quot;:600,&quot;description&quot;:null,&quot;height&quot;:null}\" id=\"viz-441601a4-d319-464f-8c71-4b5b1c1bd3a3\" data-initialized=\"false\" class=\"feed-item\"></div></div></div></div><script>window.lightning = window.lightning || {};\n",
       "window.lightning.host = \"http://localhost:3000/\" || 'http://127.0.0.1:3000/';\n",
       "window.lightning.vizCount = (window.lightning.vizCount + 1) || 1;\n",
       "window.lightning.requiredVizTypes = window.lightning.requiredVizTypes || [];\n",
       "if(window.lightning.requiredVizTypes.indexOf(\"circle\") === -1) {\n",
       "    window.lightning.requiredVizTypes.push(\"circle\");\n",
       "}\n",
       "window._require = window.require;\n",
       "window.require = undefined;\n",
       "window._define = window.define;\n",
       "window.define = undefined;</script><script src=\"http://localhost:3000/js/embed.js\"></script>"
      ],
      "text/plain": [
       "<lightning.types.plots.Circle at 0x7f55a41e61d0>"
      ]
     },
     "execution_count": 4,
     "metadata": {},
     "output_type": "execute_result"
    }
   ],
   "source": [
    "connections = random.rand(50,50)\n",
    "connections[connections<0.98] = 0\n",
    "lgn.circle(connections, labels=['node ' + str(x) for x in range(50)])"
   ]
  },
  {
   "cell_type": "markdown",
   "metadata": {},
   "source": [
    "## <hr> Añadiendo grupos"
   ]
  },
  {
   "cell_type": "markdown",
   "metadata": {},
   "source": [
    "Las parcelas son útiles para visualizar las relaciones jerárquicas .\n",
    "Se pueden especificar varios niveles de agrupamiento."
   ]
  },
  {
   "cell_type": "code",
   "execution_count": 5,
   "metadata": {
    "collapsed": false
   },
   "outputs": [
    {
     "data": {
      "text/html": [
       "<meta name=\"viewport\" content=\"width=device-width, initial-scale=1, maximum-scale=1\"/><meta http-equiv=\"X-UA-Compatible\" content=\"IE=10; IE=9; IE=8; IE=7; IE=EDGE\"/><meta charset=\"UTF-8\"/><link href=\"//fonts.googleapis.com/css?family=Open+Sans:400,700\" rel=\"stylesheet\" type=\"text/css\"/><link rel=\"stylesheet\" href=\"http://localhost:3000/css/app.css\"/><div id=\"lightning-body\" class=\"container content wrap push\"><div class=\"feed-container\"><div data-model=\"visualization\" data-model-id=\"d042766d-4345-4891-bda7-1b0a2672e745\" class=\"feed-item-container\"><div data-type=\"lightning-circle\" data-data=\"{&quot;nodes&quot;:[0,1,2,3,4,5,6,7,8,9,10,11,12,13,14,15,16,17,18,19,20,21,22,23,24,25,26,27,28,29,30,31,32,33,34,35,36,37,38,39,40,41,42,43,44,45,46,47,48,49],&quot;labels&quot;:[&quot;group 0&quot;,&quot;group 2&quot;,&quot;group 1&quot;,&quot;group 2&quot;,&quot;group 2&quot;,&quot;group 1&quot;,&quot;group 2&quot;,&quot;group 1&quot;,&quot;group 2&quot;,&quot;group 1&quot;,&quot;group 2&quot;,&quot;group 1&quot;,&quot;group 2&quot;,&quot;group 1&quot;,&quot;group 1&quot;,&quot;group 0&quot;,&quot;group 1&quot;,&quot;group 0&quot;,&quot;group 1&quot;,&quot;group 1&quot;,&quot;group 0&quot;,&quot;group 0&quot;,&quot;group 1&quot;,&quot;group 1&quot;,&quot;group 0&quot;,&quot;group 1&quot;,&quot;group 2&quot;,&quot;group 2&quot;,&quot;group 2&quot;,&quot;group 2&quot;,&quot;group 2&quot;,&quot;group 1&quot;,&quot;group 2&quot;,&quot;group 1&quot;,&quot;group 1&quot;,&quot;group 2&quot;,&quot;group 0&quot;,&quot;group 2&quot;,&quot;group 1&quot;,&quot;group 1&quot;,&quot;group 1&quot;,&quot;group 2&quot;,&quot;group 0&quot;,&quot;group 2&quot;,&quot;group 0&quot;,&quot;group 0&quot;,&quot;group 1&quot;,&quot;group 0&quot;,&quot;group 1&quot;,&quot;group 1&quot;],&quot;group&quot;:[[0,2,1,2,2,1,2,1,2,1,2,1,2,1,1,0,1,0,1,1,0,0,1,1,0,1,2,2,2,2,2,1,2,1,1,2,0,2,1,1,1,2,0,2,0,0,1,0,1,1]],&quot;links&quot;:[[0,7,0.9825675498242031],[0,32,0.9949112093631074],[0,39,0.9901855018596595],[1,24,0.989734234317739],[2,33,0.9884958728809039],[3,21,0.9869266788443776],[5,3,0.9829603071749197],[5,48,0.9909144208988658],[6,39,0.9990931574623859],[7,12,0.984003482453994],[8,6,0.9869037173997628],[9,22,0.9887244906949445],[13,27,0.9815805328690287],[13,41,0.9996841995795809],[15,8,0.9987084805179509],[15,29,0.9982340869077659],[16,38,0.9852716578348975],[18,15,0.984231411634108],[18,19,0.9855745966232425],[19,16,0.9895145340600947],[19,21,0.987165673157194],[19,43,0.9976729547666012],[22,3,0.982741801776507],[25,28,0.9812517696592001],[25,38,0.9947379645224209],[28,14,0.9989632931600079],[29,8,0.9863556991554367],[30,25,0.9815944868272511],[33,19,0.9866696271795892],[35,12,0.9820243254565233],[38,29,0.9895852535372832],[39,16,0.9924640572393326],[40,3,0.9984623100698895],[40,10,0.9830998892669252],[40,18,0.9987428056255933],[40,35,0.9993321203625848],[41,28,0.9936156451592038],[43,21,0.9986990665219688],[44,15,0.9808183118339335],[44,45,0.9828379971466811],[45,46,0.9996671158393516],[46,3,0.995817670202206],[46,48,0.9903942246489611],[47,18,0.9841236406275172],[47,26,0.9869088656108247],[48,49,0.9810542877174601]]}\" data-images=\"[]\" data-options=\"{&quot;width&quot;:600,&quot;description&quot;:null,&quot;height&quot;:null}\" id=\"viz-d042766d-4345-4891-bda7-1b0a2672e745\" data-initialized=\"false\" class=\"feed-item\"></div></div></div></div><script>window.lightning = window.lightning || {};\n",
       "window.lightning.host = \"http://localhost:3000/\" || 'http://127.0.0.1:3000/';\n",
       "window.lightning.vizCount = (window.lightning.vizCount + 1) || 1;\n",
       "window.lightning.requiredVizTypes = window.lightning.requiredVizTypes || [];\n",
       "if(window.lightning.requiredVizTypes.indexOf(\"circle\") === -1) {\n",
       "    window.lightning.requiredVizTypes.push(\"circle\");\n",
       "}\n",
       "window._require = window.require;\n",
       "window.require = undefined;\n",
       "window._define = window.define;\n",
       "window.define = undefined;</script><script src=\"http://localhost:3000/js/embed.js\"></script>"
      ],
      "text/plain": [
       "<lightning.types.plots.Circle at 0x7f55bd77e310>"
      ]
     },
     "execution_count": 5,
     "metadata": {},
     "output_type": "execute_result"
    }
   ],
   "source": [
    "connections = random.rand(50,50)\n",
    "connections[connections<0.98] = 0\n",
    "group = (random.rand(50) * 3).astype('int')\n",
    "lgn.circle(connections, labels=['group ' + str(x) for x in group], group=group)"
   ]
  },
  {
   "cell_type": "markdown",
   "metadata": {},
   "source": [
    "## <hr> Grupos anidados"
   ]
  },
  {
   "cell_type": "markdown",
   "metadata": {},
   "source": [
    "Y ahora trate de añadir un segundo nivel .Etiquetaremos el segundo grupo para dejar en claro lo que está pasando.\n",
    "Si hace clic en cualquiera de los arcos exteriores , se pondrán de relieve las conexiones de ese grupo"
   ]
  },
  {
   "cell_type": "code",
   "execution_count": 6,
   "metadata": {
    "collapsed": false
   },
   "outputs": [
    {
     "data": {
      "text/html": [
       "<meta name=\"viewport\" content=\"width=device-width, initial-scale=1, maximum-scale=1\"/><meta http-equiv=\"X-UA-Compatible\" content=\"IE=10; IE=9; IE=8; IE=7; IE=EDGE\"/><meta charset=\"UTF-8\"/><link href=\"//fonts.googleapis.com/css?family=Open+Sans:400,700\" rel=\"stylesheet\" type=\"text/css\"/><link rel=\"stylesheet\" href=\"http://localhost:3000/css/app.css\"/><div id=\"lightning-body\" class=\"container content wrap push\"><div class=\"feed-container\"><div data-model=\"visualization\" data-model-id=\"e3ac08df-e72d-43ff-a750-f2271aae401b\" class=\"feed-item-container\"><div data-type=\"lightning-circle\" data-data=\"{&quot;nodes&quot;:[0,1,2,3,4,5,6,7,8,9,10,11,12,13,14,15,16,17,18,19,20,21,22,23,24,25,26,27,28,29,30,31,32,33,34,35,36,37,38,39,40,41,42,43,44,45,46,47,48,49],&quot;labels&quot;:[&quot;group 2&quot;,&quot;group 0&quot;,&quot;group 3&quot;,&quot;group 3&quot;,&quot;group 3&quot;,&quot;group 0&quot;,&quot;group 3&quot;,&quot;group 1&quot;,&quot;group 0&quot;,&quot;group 2&quot;,&quot;group 1&quot;,&quot;group 3&quot;,&quot;group 3&quot;,&quot;group 3&quot;,&quot;group 0&quot;,&quot;group 0&quot;,&quot;group 1&quot;,&quot;group 3&quot;,&quot;group 2&quot;,&quot;group 3&quot;,&quot;group 0&quot;,&quot;group 1&quot;,&quot;group 3&quot;,&quot;group 0&quot;,&quot;group 2&quot;,&quot;group 1&quot;,&quot;group 2&quot;,&quot;group 2&quot;,&quot;group 1&quot;,&quot;group 0&quot;,&quot;group 2&quot;,&quot;group 2&quot;,&quot;group 1&quot;,&quot;group 0&quot;,&quot;group 2&quot;,&quot;group 0&quot;,&quot;group 1&quot;,&quot;group 3&quot;,&quot;group 2&quot;,&quot;group 3&quot;,&quot;group 3&quot;,&quot;group 1&quot;,&quot;group 0&quot;,&quot;group 3&quot;,&quot;group 3&quot;,&quot;group 0&quot;,&quot;group 0&quot;,&quot;group 0&quot;,&quot;group 2&quot;,&quot;group 0&quot;],&quot;group&quot;:[[2,2,0,0,2,2,1,2,1,1,1,1,1,1,1,1,2,0,2,0,1,0,0,0,0,1,2,1,0,2,1,0,2,0,0,1,1,0,0,0,0,0,0,0,2,2,1,2,0,0],[2,0,3,3,3,0,3,1,0,2,1,3,3,3,0,0,1,3,2,3,0,1,3,0,2,1,2,2,1,0,2,2,1,0,2,0,1,3,2,3,3,1,0,3,3,0,0,0,2,0]],&quot;links&quot;:[[0,18,0.9906313273796626],[0,49,0.9966028122135652],[1,5,0.986233617172278],[1,35,0.9866761037986262],[2,43,0.981572918476961],[4,44,0.9916319627212057],[6,6,0.9994174451077795],[6,23,0.9946289273014661],[6,27,0.9943335100255523],[8,0,0.9922114038714791],[8,10,0.9874974765080415],[8,26,0.9890834616828509],[8,47,0.9884923989536477],[9,31,0.9990864189160301],[14,22,0.9949622176329471],[15,12,0.9856422858713666],[15,27,0.9817239202820535],[16,6,0.9950991681653142],[17,4,0.998626118065141],[17,20,0.9891108590776813],[18,23,0.9975132149629716],[19,34,0.9981849723314531],[20,20,0.9882193027307719],[21,45,0.9820397026911002],[22,22,0.9944911730366195],[23,20,0.9835697034440318],[23,28,0.987557733259183],[24,36,0.9941223188439463],[26,47,0.9990618323933644],[26,49,0.9854085823897234],[27,0,0.9994787675212214],[27,29,0.9933745733762546],[28,42,0.9984352297769777],[30,46,0.9817727802281254],[32,21,0.9902410202793203],[32,27,0.9991094331536484],[33,35,0.9852648616560122],[34,39,0.9992302772260165],[37,47,0.9855566353510529],[39,3,0.9917916674531346],[39,47,0.9978590626342153],[41,43,0.9988973797452042],[42,37,0.9812278219391465],[43,40,0.99695317661924],[43,48,0.9869474488993472],[45,41,0.9907941472123385],[46,7,0.9812081799508545],[46,48,0.9938744807936353],[48,8,0.9894401944146766]]}\" data-images=\"[]\" data-options=\"{&quot;width&quot;:600,&quot;description&quot;:null,&quot;height&quot;:null}\" id=\"viz-e3ac08df-e72d-43ff-a750-f2271aae401b\" data-initialized=\"false\" class=\"feed-item\"></div></div></div></div><script>window.lightning = window.lightning || {};\n",
       "window.lightning.host = \"http://localhost:3000/\" || 'http://127.0.0.1:3000/';\n",
       "window.lightning.vizCount = (window.lightning.vizCount + 1) || 1;\n",
       "window.lightning.requiredVizTypes = window.lightning.requiredVizTypes || [];\n",
       "if(window.lightning.requiredVizTypes.indexOf(\"circle\") === -1) {\n",
       "    window.lightning.requiredVizTypes.push(\"circle\");\n",
       "}\n",
       "window._require = window.require;\n",
       "window.require = undefined;\n",
       "window._define = window.define;\n",
       "window.define = undefined;</script><script src=\"http://localhost:3000/js/embed.js\"></script>"
      ],
      "text/plain": [
       "<lightning.types.plots.Circle at 0x7f55bd77e090>"
      ]
     },
     "execution_count": 6,
     "metadata": {},
     "output_type": "execute_result"
    }
   ],
   "source": [
    "connections = random.rand(50,50)\n",
    "connections[connections<0.98] = 0\n",
    "\n",
    "group1 = (random.rand(50) * 3).astype('int')\n",
    "group2 = (random.rand(50) * 4).astype('int')\n",
    "lgn.circle(connections, labels=['group ' + str(x) for x in group2], group=[group1, group2])"
   ]
  },
  {
   "cell_type": "code",
   "execution_count": 7,
   "metadata": {
    "collapsed": false
   },
   "outputs": [
    {
     "name": "stdout",
     "output_type": "stream",
     "text": [
      "[[0, 1], [0, 2], [3, 5], [2, 4], [1, 2], [3, 4], [1, 5], [1, 6], [2, 7], [2, 8], [3, 8], [8, 7]]\n"
     ]
    },
    {
     "data": {
      "text/html": [
       "<meta name=\"viewport\" content=\"width=device-width, initial-scale=1, maximum-scale=1\"/><meta http-equiv=\"X-UA-Compatible\" content=\"IE=10; IE=9; IE=8; IE=7; IE=EDGE\"/><meta charset=\"UTF-8\"/><link href=\"//fonts.googleapis.com/css?family=Open+Sans:400,700\" rel=\"stylesheet\" type=\"text/css\"/><link rel=\"stylesheet\" href=\"http://localhost:3000/css/app.css\"/><div id=\"lightning-body\" class=\"container content wrap push\"><div class=\"feed-container\"><div data-model=\"visualization\" data-model-id=\"01c4fd22-9ee5-4384-b6fb-18a577cdb9a5\" class=\"feed-item-container\"><div data-type=\"lightning-circle\" data-data=\"{&quot;nodes&quot;:[0,1,2,3,4,5,6,7,8],&quot;labels&quot;:[&quot;node 0&quot;,&quot;node 1&quot;,&quot;node 2&quot;,&quot;node 3&quot;,&quot;node 4&quot;,&quot;node 5&quot;,&quot;node 6&quot;,&quot;node 7&quot;,&quot;node 8&quot;,&quot;node 9&quot;,&quot;node 10&quot;,&quot;node 11&quot;,&quot;node 12&quot;,&quot;node 13&quot;,&quot;node 14&quot;,&quot;node 15&quot;,&quot;node 16&quot;,&quot;node 17&quot;,&quot;node 18&quot;,&quot;node 19&quot;,&quot;node 20&quot;,&quot;node 21&quot;,&quot;node 22&quot;,&quot;node 23&quot;,&quot;node 24&quot;,&quot;node 25&quot;,&quot;node 26&quot;,&quot;node 27&quot;,&quot;node 28&quot;,&quot;node 29&quot;,&quot;node 30&quot;,&quot;node 31&quot;,&quot;node 32&quot;,&quot;node 33&quot;,&quot;node 34&quot;,&quot;node 35&quot;,&quot;node 36&quot;,&quot;node 37&quot;,&quot;node 38&quot;,&quot;node 39&quot;,&quot;node 40&quot;,&quot;node 41&quot;,&quot;node 42&quot;,&quot;node 43&quot;,&quot;node 44&quot;,&quot;node 45&quot;,&quot;node 46&quot;,&quot;node 47&quot;,&quot;node 48&quot;,&quot;node 49&quot;],&quot;links&quot;:[[0,1,1],[0,2,1],[3,5,1],[2,4,1],[1,2,1],[3,4,1],[1,5,1],[1,6,1],[2,7,1],[2,8,1],[3,8,1],[8,7,1]]}\" data-images=\"[]\" data-options=\"{&quot;width&quot;:600,&quot;description&quot;:null,&quot;height&quot;:null}\" id=\"viz-01c4fd22-9ee5-4384-b6fb-18a577cdb9a5\" data-initialized=\"false\" class=\"feed-item\"></div></div></div></div><script>window.lightning = window.lightning || {};\n",
       "window.lightning.host = \"http://localhost:3000/\" || 'http://127.0.0.1:3000/';\n",
       "window.lightning.vizCount = (window.lightning.vizCount + 1) || 1;\n",
       "window.lightning.requiredVizTypes = window.lightning.requiredVizTypes || [];\n",
       "if(window.lightning.requiredVizTypes.indexOf(\"circle\") === -1) {\n",
       "    window.lightning.requiredVizTypes.push(\"circle\");\n",
       "}\n",
       "window._require = window.require;\n",
       "window.require = undefined;\n",
       "window._define = window.define;\n",
       "window.define = undefined;</script><script src=\"http://localhost:3000/js/embed.js\"></script>"
      ],
      "text/plain": [
       "<lightning.types.plots.Circle at 0x7f55a4194e90>"
      ]
     },
     "execution_count": 7,
     "metadata": {},
     "output_type": "execute_result"
    }
   ],
   "source": [
    "connections = [[0, 1], [0, 2], [3, 5], [2, 4], [1, 2], [3, 4], [1, 5], [1, 6], [2, 7], [2, 8], [3, 8], [8, 7]]\n",
    "print connections\n",
    "lgn.circle(connections, labels=['node ' + str(x) for x in range(50)])"
   ]
  },
  {
   "cell_type": "code",
   "execution_count": null,
   "metadata": {
    "collapsed": true
   },
   "outputs": [],
   "source": []
  }
 ],
 "metadata": {
  "kernelspec": {
   "display_name": "Python 2",
   "language": "python",
   "name": "python2"
  },
  "language_info": {
   "codemirror_mode": {
    "name": "ipython",
    "version": 2
   },
   "file_extension": ".py",
   "mimetype": "text/x-python",
   "name": "python",
   "nbconvert_exporter": "python",
   "pygments_lexer": "ipython2",
   "version": "2.7.6"
  }
 },
 "nbformat": 4,
 "nbformat_minor": 0
}
