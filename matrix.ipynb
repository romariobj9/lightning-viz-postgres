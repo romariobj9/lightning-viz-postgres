{
 "cells": [
  {
   "cell_type": "markdown",
   "metadata": {},
   "source": [
    "# <img style='float: left' src=\"http://lightning-viz.github.io/images/logo.png\"> <br> <br> &nbsp;&nbsp;&nbsp;&nbsp;&nbsp;Matrix plots in <a href='http://lightning-viz.github.io/'><font color='#9175f0'>Lightning</font></a>"
   ]
  },
  {
   "cell_type": "markdown",
   "metadata": {},
   "source": [
    "## <hr> Configuracion"
   ]
  },
  {
   "cell_type": "code",
   "execution_count": 1,
   "metadata": {
    "collapsed": false
   },
   "outputs": [],
   "source": [
    "from lightning import Lightning\n",
    "\n",
    "from numpy import random, arange, asarray, corrcoef, argsort, array\n",
    "import networkx as nx\n"
   ]
  },
  {
   "cell_type": "markdown",
   "metadata": {},
   "source": [
    "## Conexion al Servidor"
   ]
  },
  {
   "cell_type": "code",
   "execution_count": 2,
   "metadata": {
    "collapsed": false
   },
   "outputs": [
    {
     "data": {
      "text/html": [
       "<div style='margin-top:8px'><img src='data:image/png;base64,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' width='30px' height='35px' style='display: inline-block; padding-right: 10px'></img><span>Lightning initialized</span></div>"
      ],
      "text/plain": [
       "<IPython.core.display.HTML object>"
      ]
     },
     "metadata": {},
     "output_type": "display_data"
    },
    {
     "name": "stdout",
     "output_type": "stream",
     "text": [
      "Connected to server at http://localhost:3000\n"
     ]
    },
    {
     "data": {
      "application/javascript": [
       "(function e(t,n,r){function s(o,u){if(!n[o]){if(!t[o]){var a=typeof require==\"function\"&&require;if(!u&&a)return a(o,!0);if(i)return i(o,!0);throw new Error(\"Cannot find module '\"+o+\"'\")}var f=n[o]={exports:{}};t[o][0].call(f.exports,function(e){var n=t[o][1][e];return s(n?n:e)},f,f.exports,e,t,n,r)}return n[o].exports}var i=typeof require==\"function\"&&require;for(var o=0;o<r.length;o++)s(r[o]);return s})({1:[function(require,module,exports){\n",
       "window.lightning = window.lightning || {};\n",
       "var lightningCommMap = {};\n",
       "var IPython = window.IPython;\n",
       "\n",
       "var readCommData = function(commData, field) {\n",
       "    try {\n",
       "        return commData.content.data[field];\n",
       "    } catch (err) {\n",
       "        return;\n",
       "    }\n",
       "};\n",
       "\n",
       "\n",
       "var init_comm = function() {\n",
       "    IPython.notebook.kernel.comm_manager.register_target('lightning', function(comm, data) {\n",
       "        var id = readCommData(data, 'id');\n",
       "        lightningCommMap[id] = comm;\n",
       "    });\n",
       "\n",
       "    window.lightning.comm_map = lightningCommMap;\n",
       "}\n",
       "\n",
       "\n",
       "if(IPython && IPython.notebook) {\n",
       "\n",
       "    if(IPython.notebook.kernel) {\n",
       "        init_comm();\n",
       "    }\n",
       "\n",
       "    IPython.notebook.events.on('kernel_connected.Kernel', init_comm);\n",
       "\n",
       "}\n",
       "\n",
       "\n",
       "},{}]},{},[1])\n",
       "//# sourceMappingURL=data:application/json;base64,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\n"
      ],
      "text/plain": [
       "<IPython.core.display.Javascript object>"
      ]
     },
     "metadata": {},
     "output_type": "display_data"
    }
   ],
   "source": [
    "lgn = Lightning(ipython=True)\n"
   ]
  },
  {
   "cell_type": "markdown",
   "metadata": {},
   "source": [
    "## <hr> Matrix simple"
   ]
  },
  {
   "cell_type": "markdown",
   "metadata": {},
   "source": [
    "Las matrices son formas útiles para visualizar tablas de datos densos.\n",
    "<br>\n",
    "En primer lugar mostramos una matriz aleatoria con estilos predeterminados .\n",
    "<br>\n",
    "Usted puede usar las flechas para cambiar el contraste (arriba/abajo) o el colormap (izquierda/derecha)\n"
   ]
  },
  {
   "cell_type": "code",
   "execution_count": 3,
   "metadata": {
    "collapsed": false,
    "scrolled": true
   },
   "outputs": [
    {
     "name": "stderr",
     "output_type": "stream",
     "text": [
      "/home/romario/envGp/local/lib/python2.7/site-packages/IPython/kernel/__init__.py:13: ShimWarning: The `IPython.kernel` package has been deprecated. You should import from ipykernel or jupyter_client instead.\n",
      "  \"You should import from ipykernel or jupyter_client instead.\", ShimWarning)\n"
     ]
    },
    {
     "data": {
      "text/html": [
       "<meta name=\"viewport\" content=\"width=device-width, initial-scale=1, maximum-scale=1\"/><meta http-equiv=\"X-UA-Compatible\" content=\"IE=10; IE=9; IE=8; IE=7; IE=EDGE\"/><meta charset=\"UTF-8\"/><link href=\"//fonts.googleapis.com/css?family=Open+Sans:400,700\" rel=\"stylesheet\" type=\"text/css\"/><link rel=\"stylesheet\" href=\"http://localhost:3000/css/app.css\"/><div id=\"lightning-body\" class=\"container content wrap push\"><div class=\"feed-container\"><div data-model=\"visualization\" data-model-id=\"ba929313-7009-457c-a39f-163770a76a4e\" class=\"feed-item-container\"><div data-type=\"lightning-matrix\" data-data=\"{&quot;matrix&quot;:[[0.2680197459432993,-0.850568510756814,1.0978659488337759,0.7489780380947945,-0.6706322797940844,0.8990957963426233,-0.7817459696545608,-0.38179673869375436,0.4016605400837798,-0.6272188553814627],[-2.143643424866636,0.08615907017240192,2.348813347974227,2.520827145614629,1.3075912194247687,0.4830896072732854,-1.4312542849621372,-0.5925947595140809,-0.1607232262966093,-0.5913723952563514],[0.10272864254305712,-1.851814215550258,2.0659797354888636,-0.3456463780053707,-2.2922028186007624,-0.6983098841832486,1.7425115943193614,1.4311057755448229,-0.759374638200035,0.4016928106112885],[-0.32943328303838015,0.43998877447027135,0.8831806858944692,0.1474964180313075,0.5307585193865632,-0.4378046199488048,-0.8894126646410139,-1.2466347042546269,0.6392636862991692,-1.646689364173072],[-0.4713665420348685,0.683906297612059,-1.7489625500356156,0.059717224485050874,0.21107691462572806,1.1978773961300497,-1.1857956862664303,0.37743228308368576,-0.6135208103870817,0.48960178709117647],[-0.05548261230686073,-0.801284022290642,-0.48273500934099517,-0.9102894076291222,-0.587783161282736,0.30307782265469935,-1.7334815115705013,-1.5318150336510945,-1.4807218120245753,1.4500118100463417],[0.4619799966266201,-0.2024156705422409,-0.07558049648902845,1.7612525747091035,-0.5175849593654458,1.04964973332197,-1.2883667774837297,1.1558107100255246,-0.5575726622188361,0.8534740418633202],[-1.2653301733787297,0.6884947248665331,0.999739822631414,1.8238576042059074,1.0588193091364082,-0.23156927424305895,-0.2818873671544079,-2.2840640105470555,-0.3318261411805012,-0.17246519490893808],[1.0014640530923218,-1.5112191174673317,0.8178341201609172,0.6277454016722289,0.7324268168337817,0.5330115451783275,-0.007879341988994745,-1.384774753121943,0.3006478109178534,-1.2804254440483478],[0.44098886939762905,0.3157386268079509,1.975003295133137,-0.3383125482750821,-0.39342488843920576,-0.24999721096684774,0.46790728832665635,0.17514419320187893,-0.0869918282721158,-0.4681616105450087]]}\" data-images=\"[]\" data-options=\"{&quot;numbers&quot;:false,&quot;width&quot;:600,&quot;description&quot;:null,&quot;height&quot;:null}\" id=\"viz-ba929313-7009-457c-a39f-163770a76a4e\" data-initialized=\"false\" class=\"feed-item\"></div></div></div></div><script>window.lightning = window.lightning || {};\n",
       "window.lightning.host = \"http://localhost:3000/\" || 'http://127.0.0.1:3000/';\n",
       "window.lightning.vizCount = (window.lightning.vizCount + 1) || 1;\n",
       "window.lightning.requiredVizTypes = window.lightning.requiredVizTypes || [];\n",
       "if(window.lightning.requiredVizTypes.indexOf(\"matrix\") === -1) {\n",
       "    window.lightning.requiredVizTypes.push(\"matrix\");\n",
       "}\n",
       "window._require = window.require;\n",
       "window.require = undefined;\n",
       "window._define = window.define;\n",
       "window.define = undefined;</script><script src=\"http://localhost:3000/js/embed.js\"></script>"
      ],
      "text/plain": [
       "<lightning.types.plots.Matrix at 0x7fdfad387b10>"
      ]
     },
     "execution_count": 3,
     "metadata": {},
     "output_type": "execute_result"
    }
   ],
   "source": [
    "mat = random.randn(10,10)\n",
    "lgn.matrix(mat)"
   ]
  },
  {
   "cell_type": "markdown",
   "metadata": {},
   "source": [
    "## <hr> Formas diferentes"
   ]
  },
  {
   "cell_type": "markdown",
   "metadata": {},
   "source": [
    "Matrices rectanglulares se adecuaran al tamaño automaticamente."
   ]
  },
  {
   "cell_type": "code",
   "execution_count": 4,
   "metadata": {
    "collapsed": false
   },
   "outputs": [
    {
     "data": {
      "text/html": [
       "<meta name=\"viewport\" content=\"width=device-width, initial-scale=1, maximum-scale=1\"/><meta http-equiv=\"X-UA-Compatible\" content=\"IE=10; IE=9; IE=8; IE=7; IE=EDGE\"/><meta charset=\"UTF-8\"/><link href=\"//fonts.googleapis.com/css?family=Open+Sans:400,700\" rel=\"stylesheet\" type=\"text/css\"/><link rel=\"stylesheet\" href=\"http://localhost:3000/css/app.css\"/><div id=\"lightning-body\" class=\"container content wrap push\"><div class=\"feed-container\"><div data-model=\"visualization\" data-model-id=\"cc5d1a40-1856-4055-b96c-ded847f7654a\" class=\"feed-item-container\"><div data-type=\"lightning-matrix\" data-data=\"{&quot;matrix&quot;:[[-0.27427107060844796,-0.824294600087285,1.1803124301600625,-0.9840459599115159,0.6075428393381221,0.7774463385772457,0.6506318580963126,2.0811847822642613,-0.019604494603624994,-2.3648032203750255,2.260310634514249,0.26254295803005157,0.36584200481205803,-1.0900725208535498,-1.215240193449508,-0.715253407461891,0.3169782033733336,-0.25623213257155536,-1.227915968313592,0.6828524676722382],[0.30489565443619915,0.17302748498519957,0.35503710426673807,0.0867148063630745,0.6603930441826916,0.499973055453324,-0.1944351705511293,-1.3615126430299196,-0.08951903793969897,0.47683552051226413,1.6535633102869207,3.1751059107757853,-0.33530447323931706,0.03142832352639813,1.2306368594428159,0.5495843807608412,1.4083101496317825,0.3200561913578717,-0.6533790294726495,0.9521987572766704],[-1.378854093415604,-0.805985681912226,-0.6477330285382418,-0.5791552452304362,0.8116340209186587,-1.833767898874867,-0.36322265882794047,-1.3156202455047266,0.10560139357167776,0.7869713597409029,-1.860800616735163,2.0244698176937925,-2.0829154815843016,-1.1606820647035603,-0.21010288907704927,1.8072820322023608,0.13785993484987882,-0.11984444655031169,0.5335754277748969,2.0725453467989294],[0.26700241689507065,0.01310525467581362,-1.4752939466744337,-0.7412991706897134,-0.8530476051330956,-0.18863262184882168,-1.025885912676692,0.14033742826835838,0.16190226461404175,-0.4801128845038743,-0.9273867671064836,0.08247909886436969,1.471882034586095,-0.42556213831400747,0.6189906118665329,0.028585520632792138,-0.5094729304113492,1.3679486145196418,-0.20664268176956135,0.3795390312060285],[1.2753252863246476,-0.3712060382669238,0.17012838250299278,0.998097562459709,-0.36481635848564153,0.3550905467612296,-0.31187243910099993,0.35302103902879023,1.1461912707073487,1.6350996279628416,0.16110738914052042,-0.8811621406403655,0.2270561951951131,-0.5690196616427566,-2.0964020193293873,-0.2550909515324703,-0.07104532279023901,-0.7059159194727511,-0.6364673610144874,0.3032714423592144],[0.15284335073111885,1.490154078499416,0.2501421872250679,0.8221845257738142,0.8088248802205495,1.6794501694858313,-0.9888080155867063,-1.6474317752928358,-0.29124257325578756,0.1365259229551527,0.41227657281552615,-0.4754428692921677,0.3337041793105689,1.9887331365811254,0.06226434631336347,-0.43473758435437515,0.08174729710300879,-0.6830594439264712,-0.1667886867627456,-2.2012711355424224],[-0.20072367002608033,-2.126825881987364,-0.7311851982721406,0.6783694711441433,-1.4383430440916702,-0.04353318156886261,-2.5969962686880708,0.4129011713287328,0.46587541532323296,-0.3243690030495092,-0.7913046519775381,-0.9488609915622138,0.08479535202368993,0.15371327677069438,-0.6818948545828744,-2.333658048604974,-0.3822690854985001,-1.4220338062186846,0.06605807166452264,0.4886340106215017],[-0.8452439378391876,-0.28252201214954137,-0.27807613559999317,-0.5796201419826861,1.5921145032169735,-0.37202734219955136,-0.14198112520903813,-0.05962551286115817,1.0969668259109366,1.8295816545368315,0.35011705153214606,-0.8955567614457633,1.9978896004617115,1.0606765683511397,-2.386656084047916,0.8782559632901608,0.5450277195778781,-0.023446209004205514,0.6101458489534227,-0.7913821842127908],[0.1343532759195033,-0.16896594911968002,-0.7733116535554709,-0.0049622401409876275,0.440768680345403,0.1979616285060463,0.05274312202186336,-0.1737790905415916,1.2276718031763532,0.6861254328695956,-0.708181897587014,1.6512274497574337,0.07183271089752682,0.4664661129273558,0.5763713167569703,-0.45457071013620404,-1.4845343425921107,-0.0737151317371463,0.953264678027478,-0.4364891698108101],[-0.5600550342321613,-1.8622615235359592,-0.0664993676369296,1.4234934999874451,0.4291205503500021,-0.09437902826139452,-1.4769664335374402,0.3419749637978427,0.335839018812524,-1.0235133643636845,-1.1712988526249368,0.08220345301414415,-0.9835866479693929,0.4714303490865656,1.158152394911011,0.13402490550629442,-2.3230604217442297,0.3327974990915343,0.7761354918251631,-1.2771871100164065]]}\" data-images=\"[]\" data-options=\"{&quot;numbers&quot;:false,&quot;width&quot;:600,&quot;description&quot;:null,&quot;height&quot;:null}\" id=\"viz-cc5d1a40-1856-4055-b96c-ded847f7654a\" data-initialized=\"false\" class=\"feed-item\"></div></div></div></div><script>window.lightning = window.lightning || {};\n",
       "window.lightning.host = \"http://localhost:3000/\" || 'http://127.0.0.1:3000/';\n",
       "window.lightning.vizCount = (window.lightning.vizCount + 1) || 1;\n",
       "window.lightning.requiredVizTypes = window.lightning.requiredVizTypes || [];\n",
       "if(window.lightning.requiredVizTypes.indexOf(\"matrix\") === -1) {\n",
       "    window.lightning.requiredVizTypes.push(\"matrix\");\n",
       "}\n",
       "window._require = window.require;\n",
       "window.require = undefined;\n",
       "window._define = window.define;\n",
       "window.define = undefined;</script><script src=\"http://localhost:3000/js/embed.js\"></script>"
      ],
      "text/plain": [
       "<lightning.types.plots.Matrix at 0x7fdfad387950>"
      ]
     },
     "execution_count": 4,
     "metadata": {},
     "output_type": "execute_result"
    }
   ],
   "source": [
    "mat = random.randn(10,20)\n",
    "lgn.matrix(mat)"
   ]
  },
  {
   "cell_type": "code",
   "execution_count": 5,
   "metadata": {
    "collapsed": false
   },
   "outputs": [
    {
     "data": {
      "text/html": [
       "<meta name=\"viewport\" content=\"width=device-width, initial-scale=1, maximum-scale=1\"/><meta http-equiv=\"X-UA-Compatible\" content=\"IE=10; IE=9; IE=8; IE=7; IE=EDGE\"/><meta charset=\"UTF-8\"/><link href=\"//fonts.googleapis.com/css?family=Open+Sans:400,700\" rel=\"stylesheet\" type=\"text/css\"/><link rel=\"stylesheet\" href=\"http://localhost:3000/css/app.css\"/><div id=\"lightning-body\" class=\"container content wrap push\"><div class=\"feed-container\"><div data-model=\"visualization\" data-model-id=\"b8f454cd-690e-4af6-8abe-9acf6000c344\" class=\"feed-item-container\"><div data-type=\"lightning-matrix\" data-data=\"{&quot;matrix&quot;:[[-0.283098578118617,1.3785826058003414,0.34408676005391003,-0.6132723239960686,0.3974780697130897,-0.2696751763710082,-1.2770105640000133,-1.9444377329134228,0.5529959328251235,-0.4857101871860955],[-0.3900593650768096,-0.31482371558806915,-0.5628660252881122,0.9117278704653626,0.8033181766486157,0.2498529026423771,-0.17953557264063238,0.7179397654024166,-1.8370734691496922,0.08958578465754163],[0.28425495975448045,-0.13114028594391608,-1.033129891318782,1.1516881540822672,-0.18394534075742577,-0.31985349316300954,0.9412539368340566,0.7985649008747971,0.24540567601905358,-1.3325436999102453],[0.0024090506368446025,0.8344617511553336,0.1286025744208207,0.43503763889331554,-0.1536081091262785,0.45836493468305634,0.14516809146956727,0.1029185018871487,-0.7581895128229639,0.9848455601398582],[-0.5618292252221313,0.8320117155357551,-0.41803207186152974,-0.8434274298549783,-0.059799701226638,-0.26772016404476845,0.3608238296201332,0.28441641834040815,-1.4248716532184376,2.331843331837268],[-1.6643288166702555,0.8505260184489101,-0.3795921438177739,0.6088216896278704,-1.0220280853332158,0.541609909664882,0.10797607298862767,0.011656786039288686,-0.5947620254803845,-0.40424129819357624],[-0.8550809560949949,-1.1682155155463534,-0.28257450376628035,-0.8328985342807027,-0.3523510049666772,-1.9886154825322917,0.6758920804066821,-0.8693854485815093,-0.9332304334039858,-0.13806277436887826],[-1.23028517770343,0.3297074766486416,-0.3734105484161256,0.6061516354572777,-0.07716403846934276,-0.27065198073533286,-0.32196955493570983,-0.2861303346316927,0.7869911583383287,0.4546702289071011],[-0.5442259680681915,1.9402112582824564,0.08532578551551886,-1.3653815625035544,-0.5696018926735502,1.8749703622294407,1.2604509703824045,0.6933727673713259,0.3506055016906311,-0.75007754271202],[0.38644024170368996,2.231821315288117,0.5972196232269035,-0.9101250829207013,0.7194932469530845,0.74186293253517,-0.11804178907364943,0.12748990046632208,-1.438307485960076,-0.4916367655303518],[0.4800754618406512,-1.375505890305099,2.4670422443609397,-1.7361706729797217,-0.14207165465610216,-1.4471796788381945,-0.9332069453820785,1.4057287370973062,-1.0309482157470606,0.400536371692357],[0.0978985024342607,0.5238750948342236,0.1266598004404648,0.6545722063435517,-0.013540465235485483,1.4238958897122103,-0.40461127760957727,2.5572697911255187,0.17692557524314542,0.1119807988093845],[0.8941109976854958,-0.588484728684114,0.7396783224465688,-0.06069283242630244,-0.8843022598885645,-0.5214623426724064,-0.2906753302627944,-0.4558434549841779,1.447550111053342,-1.1277405029177086],[1.6507529886267034,1.5309761503240635,0.5533054915677883,-0.5460044796166517,0.4324962868964194,1.879854370291539,-0.5460363832874008,0.6434402329237963,-1.1348985703702137,-0.44872293974913563],[-0.665076384948317,0.017179361348865996,1.9257865545877748,0.9165480069556776,-1.3852189126625913,0.42034644287265893,-0.07162713891136992,-0.8136313723582913,0.19402740304334004,0.2252488092014843],[-2.9513715360892148,-1.0344646890665234,-0.6837761418414949,1.6910193466915133,-0.4303261550023007,-0.601929734232791,-0.28586846661579124,-0.3604107694557539,-0.1744735323625261,-0.43527253819785633],[1.9361409184356968,-0.408661617678028,-1.8251179562407984,-0.5409544431191937,-1.8699206963826505,0.07674592656083704,1.0401338964733988,0.729913408373932,0.7640146471234549,-0.8629339214969853],[-0.001652791411736917,0.9196942200567164,0.0513858150437469,-0.8735784862162064,-1.0146693406358713,-0.5413828148338053,0.572147991296958,-0.09374110690908224,0.3349478299273043,0.7805345970335908],[-1.1020831363345251,0.2597984397166831,0.7465348775720511,0.7481420845676894,-0.09781138622497279,-0.11959791165503134,-0.34114575935899116,0.22241082797682035,1.2369907296171687,0.2535304973524035],[1.1233511833545053,-0.16464302953376148,2.257426945857807,-0.8929237260996926,0.6983383360764932,0.363248940274474,-0.7697977950923227,-0.1725915566837574,-2.4385879809071915,0.5580422456679253]]}\" data-images=\"[]\" data-options=\"{&quot;numbers&quot;:false,&quot;width&quot;:600,&quot;description&quot;:null,&quot;height&quot;:null}\" id=\"viz-b8f454cd-690e-4af6-8abe-9acf6000c344\" data-initialized=\"false\" class=\"feed-item\"></div></div></div></div><script>window.lightning = window.lightning || {};\n",
       "window.lightning.host = \"http://localhost:3000/\" || 'http://127.0.0.1:3000/';\n",
       "window.lightning.vizCount = (window.lightning.vizCount + 1) || 1;\n",
       "window.lightning.requiredVizTypes = window.lightning.requiredVizTypes || [];\n",
       "if(window.lightning.requiredVizTypes.indexOf(\"matrix\") === -1) {\n",
       "    window.lightning.requiredVizTypes.push(\"matrix\");\n",
       "}\n",
       "window._require = window.require;\n",
       "window.require = undefined;\n",
       "window._define = window.define;\n",
       "window.define = undefined;</script><script src=\"http://localhost:3000/js/embed.js\"></script>"
      ],
      "text/plain": [
       "<lightning.types.plots.Matrix at 0x7fdfad387790>"
      ]
     },
     "execution_count": 5,
     "metadata": {},
     "output_type": "execute_result"
    }
   ],
   "source": [
    "mat = random.randn(20,10)\n",
    "lgn.matrix(mat)"
   ]
  },
  {
   "cell_type": "markdown",
   "metadata": {},
   "source": [
    "## <hr> Colores"
   ]
  },
  {
   "cell_type": "markdown",
   "metadata": {},
   "source": [
    "Las matrices se pueden representar usando algun colorbrewer colormaps."
   ]
  },
  {
   "cell_type": "code",
   "execution_count": 6,
   "metadata": {
    "collapsed": false
   },
   "outputs": [
    {
     "data": {
      "text/html": [
       "<meta name=\"viewport\" content=\"width=device-width, initial-scale=1, maximum-scale=1\"/><meta http-equiv=\"X-UA-Compatible\" content=\"IE=10; IE=9; IE=8; IE=7; IE=EDGE\"/><meta charset=\"UTF-8\"/><link href=\"//fonts.googleapis.com/css?family=Open+Sans:400,700\" rel=\"stylesheet\" type=\"text/css\"/><link rel=\"stylesheet\" href=\"http://localhost:3000/css/app.css\"/><div id=\"lightning-body\" class=\"container content wrap push\"><div class=\"feed-container\"><div data-model=\"visualization\" data-model-id=\"b50c3f28-009d-42ec-af6c-bfa3d51597c0\" class=\"feed-item-container\"><div data-type=\"lightning-matrix\" data-data=\"{&quot;matrix&quot;:[[0.7585356961319988,0.827445891064073,0.4719021210586234,0.7565011463203731,0.7393759362472431,0.10364826090130941,0.7281736561036499,0.429878755119546,0.4190481076042276,0.9554728360515139],[0.5702880506814615,0.0002762146727588455,0.3480157839587311,0.45900042920155504,0.6528825758882353,0.067284447107261,0.7713921111750699,0.5357652803686707,0.24715840894858698,0.6325560948557511],[0.32161155399312014,0.4609221164257912,0.6766950866225234,0.26179857378444393,0.3256664964718745,0.015266362909917341,0.5824389027291916,0.330053022775319,0.9397451767756059,0.22900091070044082],[0.5653175912212898,0.15363439292498737,0.467788022899862,0.5884045604698704,0.7658785326478477,0.7074893393930289,0.8308110357026323,0.12337358369358631,0.2905899314111068,0.48662366909840427],[0.22384392552960108,0.07153275090914801,0.7429167485837317,0.11854642653631153,0.7666523442879475,0.14050496966399162,0.22336130868827375,0.6510326716479953,0.7914325972471211,0.11789595263054387],[0.8502170627665346,0.9070512224347242,0.22239268727359118,0.17651777119836887,0.43388133974372245,0.6998815819787865,0.5958369884604632,0.5622451814891395,0.40139928522598745,0.7405897491388428],[0.3483179170124524,0.03524714907450499,0.4191701117599803,0.622803653676392,0.692593861819414,0.5462625204021411,0.12281384560375253,0.7708088361362649,0.41337092041858414,0.46797280171363975],[0.9832087591740915,0.18123463080980273,0.10935565243214385,0.9802773730129293,0.20679027705448694,0.9520392196401578,0.12180978186679292,0.2920916784967812,0.9917752880538223,0.6303848353383694],[0.6147082293041649,0.5018695694187415,0.3202736817751606,0.1294922894803865,0.8435085529147411,0.24522963067105086,0.4128310762960993,0.7502691881316497,0.4716008542456518,0.2037492372775901],[0.46931519336004157,0.854625945999402,0.9304889627591953,0.5379752399779014,0.7913398366267042,0.869511760952739,0.17980272423908827,0.12211302384772471,0.5044329977246125,0.4147526083611148]],&quot;colormap&quot;:&quot;Reds&quot;}\" data-images=\"[]\" data-options=\"{&quot;numbers&quot;:false,&quot;width&quot;:600,&quot;description&quot;:null,&quot;height&quot;:null}\" id=\"viz-b50c3f28-009d-42ec-af6c-bfa3d51597c0\" data-initialized=\"false\" class=\"feed-item\"></div></div></div></div><script>window.lightning = window.lightning || {};\n",
       "window.lightning.host = \"http://localhost:3000/\" || 'http://127.0.0.1:3000/';\n",
       "window.lightning.vizCount = (window.lightning.vizCount + 1) || 1;\n",
       "window.lightning.requiredVizTypes = window.lightning.requiredVizTypes || [];\n",
       "if(window.lightning.requiredVizTypes.indexOf(\"matrix\") === -1) {\n",
       "    window.lightning.requiredVizTypes.push(\"matrix\");\n",
       "}\n",
       "window._require = window.require;\n",
       "window.require = undefined;\n",
       "window._define = window.define;\n",
       "window.define = undefined;</script><script src=\"http://localhost:3000/js/embed.js\"></script>"
      ],
      "text/plain": [
       "<lightning.types.plots.Matrix at 0x7fdfad387650>"
      ]
     },
     "execution_count": 6,
     "metadata": {},
     "output_type": "execute_result"
    }
   ],
   "source": [
    "mat = random.rand(10,10)\n",
    "lgn.matrix(mat, colormap='Reds')"
   ]
  },
  {
   "cell_type": "code",
   "execution_count": 7,
   "metadata": {
    "collapsed": false
   },
   "outputs": [
    {
     "data": {
      "text/html": [
       "<meta name=\"viewport\" content=\"width=device-width, initial-scale=1, maximum-scale=1\"/><meta http-equiv=\"X-UA-Compatible\" content=\"IE=10; IE=9; IE=8; IE=7; IE=EDGE\"/><meta charset=\"UTF-8\"/><link href=\"//fonts.googleapis.com/css?family=Open+Sans:400,700\" rel=\"stylesheet\" type=\"text/css\"/><link rel=\"stylesheet\" href=\"http://localhost:3000/css/app.css\"/><div id=\"lightning-body\" class=\"container content wrap push\"><div class=\"feed-container\"><div data-model=\"visualization\" data-model-id=\"be70db8d-f669-4041-ac41-d96b14b6e9aa\" class=\"feed-item-container\"><div data-type=\"lightning-matrix\" data-data=\"{&quot;matrix&quot;:[[0.9542365967298551,0.17168164490101145,0.3742356973169083,0.5418023388450544,0.2863619293826073,0.1534822474071198,0.3474178898327618,0.6657566337583479,0.4445053175465379,0.12309417497785857],[0.8437873659463484,0.17247928531488,0.4236836383016489,0.38839431252002965,0.026169758084677697,0.19111589945334928,0.7030410437312876,0.9760831825387297,0.3313642097238817,0.8189263252187764],[0.4792103609485403,0.8931441110634764,0.1507406929178532,0.30789617126131297,0.5641226856894119,0.4429193437420277,0.2514572817485792,0.9539877530367467,0.3952002297009817,0.6868539123303987],[0.6361586144516455,0.4595778249322001,0.13545598572731388,0.36441895619489695,0.28258496437345615,0.936604479780154,0.7301696662161288,0.008728806819650603,0.749407476842231,0.31337834182697233],[0.8120114051072338,0.49526783340112956,0.44681321063407753,0.13189742173742702,0.4920780159881575,0.8703022757136887,0.06646024660916683,0.6676978970640178,0.6485141858637733,0.5494056373233216],[0.662788157377988,0.7612505434152587,0.989171261960728,0.03738413179165356,0.5799403363802931,0.11625641020442656,0.7273754570939551,0.20525725103693826,0.1429114136524623,0.6686432181088222],[0.022015095298493437,0.9451603714178216,0.008441841679864281,0.5991154675738726,0.513083736206911,0.5480653029362232,0.9162061590991569,0.36640153228692285,0.25770817137805213,0.24653039393296672],[0.37499850820578295,0.27304233254518173,0.30176873210475996,0.8003589493221012,0.04949069344518653,0.7095900087158957,0.7886600382967192,0.480868372614189,0.03294889394933853,0.0903068069627303],[0.8891473361802875,0.5580768631722943,0.673059859311567,0.24537191801801728,0.7822686862428898,0.9578125955685924,0.5408777166614701,0.45014353500701654,0.7110417046514222,0.40637019865737045],[0.650521360759328,0.7491414876353027,0.5299729497650612,0.864380654909062,0.7182925266812615,0.8646116741963615,0.5763119661176271,0.5579834579611959,0.9466784461318549,0.8003248248453267]],&quot;colormap&quot;:&quot;Spectral&quot;}\" data-images=\"[]\" data-options=\"{&quot;numbers&quot;:false,&quot;width&quot;:600,&quot;description&quot;:null,&quot;height&quot;:null}\" id=\"viz-be70db8d-f669-4041-ac41-d96b14b6e9aa\" data-initialized=\"false\" class=\"feed-item\"></div></div></div></div><script>window.lightning = window.lightning || {};\n",
       "window.lightning.host = \"http://localhost:3000/\" || 'http://127.0.0.1:3000/';\n",
       "window.lightning.vizCount = (window.lightning.vizCount + 1) || 1;\n",
       "window.lightning.requiredVizTypes = window.lightning.requiredVizTypes || [];\n",
       "if(window.lightning.requiredVizTypes.indexOf(\"matrix\") === -1) {\n",
       "    window.lightning.requiredVizTypes.push(\"matrix\");\n",
       "}\n",
       "window._require = window.require;\n",
       "window.require = undefined;\n",
       "window._define = window.define;\n",
       "window.define = undefined;</script><script src=\"http://localhost:3000/js/embed.js\"></script>"
      ],
      "text/plain": [
       "<lightning.types.plots.Matrix at 0x7fdfad3e8290>"
      ]
     },
     "execution_count": 7,
     "metadata": {},
     "output_type": "execute_result"
    }
   ],
   "source": [
    "mat = random.rand(10,10)\n",
    "lgn.matrix(mat, colormap='Spectral')"
   ]
  },
  {
   "cell_type": "markdown",
   "metadata": {},
   "source": [
    "## <hr> Etiquetas"
   ]
  },
  {
   "cell_type": "markdown",
   "metadata": {},
   "source": [
    "\n",
    "Puede etiquetar las filas y columnas de una matriz . \n",
    "Al hacer clic en las etiquetas de texto se hará hincapié en las filas y columnas."
   ]
  },
  {
   "cell_type": "code",
   "execution_count": 8,
   "metadata": {
    "collapsed": false
   },
   "outputs": [
    {
     "data": {
      "text/html": [
       "<meta name=\"viewport\" content=\"width=device-width, initial-scale=1, maximum-scale=1\"/><meta http-equiv=\"X-UA-Compatible\" content=\"IE=10; IE=9; IE=8; IE=7; IE=EDGE\"/><meta charset=\"UTF-8\"/><link href=\"//fonts.googleapis.com/css?family=Open+Sans:400,700\" rel=\"stylesheet\" type=\"text/css\"/><link rel=\"stylesheet\" href=\"http://localhost:3000/css/app.css\"/><div id=\"lightning-body\" class=\"container content wrap push\"><div class=\"feed-container\"><div data-model=\"visualization\" data-model-id=\"d8d13150-fa65-42a3-87d0-8e19e34d8efe\" class=\"feed-item-container\"><div data-type=\"lightning-matrix\" data-data=\"{&quot;rowLabels&quot;:[&quot;row 0&quot;,&quot;row 1&quot;,&quot;row 2&quot;,&quot;row 3&quot;,&quot;row 4&quot;,&quot;row 5&quot;,&quot;row 6&quot;,&quot;row 7&quot;,&quot;row 8&quot;,&quot;row 9&quot;],&quot;matrix&quot;:[[0,1,2,3,4,5,6],[7,8,9,10,11,12,13],[14,15,16,17,18,19,20],[21,22,23,24,25,26,27],[28,29,30,31,32,33,34],[35,36,37,38,39,40,41],[42,43,44,45,46,47,48],[49,50,51,52,53,54,55],[56,57,58,59,60,61,62],[63,64,65,66,67,68,69]],&quot;columnLabels&quot;:[&quot;col 0&quot;,&quot;col 1&quot;,&quot;col 2&quot;,&quot;col 3&quot;,&quot;col 4&quot;,&quot;col 5&quot;,&quot;col 6&quot;]}\" data-images=\"[]\" data-options=\"{&quot;numbers&quot;:false,&quot;width&quot;:600,&quot;description&quot;:null,&quot;height&quot;:null}\" id=\"viz-d8d13150-fa65-42a3-87d0-8e19e34d8efe\" data-initialized=\"false\" class=\"feed-item\"></div></div></div></div><script>window.lightning = window.lightning || {};\n",
       "window.lightning.host = \"http://localhost:3000/\" || 'http://127.0.0.1:3000/';\n",
       "window.lightning.vizCount = (window.lightning.vizCount + 1) || 1;\n",
       "window.lightning.requiredVizTypes = window.lightning.requiredVizTypes || [];\n",
       "if(window.lightning.requiredVizTypes.indexOf(\"matrix\") === -1) {\n",
       "    window.lightning.requiredVizTypes.push(\"matrix\");\n",
       "}\n",
       "window._require = window.require;\n",
       "window.require = undefined;\n",
       "window._define = window.define;\n",
       "window.define = undefined;</script><script src=\"http://localhost:3000/js/embed.js\"></script>"
      ],
      "text/plain": [
       "<lightning.types.plots.Matrix at 0x7fdfd4362d90>"
      ]
     },
     "execution_count": 8,
     "metadata": {},
     "output_type": "execute_result"
    }
   ],
   "source": [
    "n, m = (10, 7)\n",
    "mat = arange(n*m).reshape(n,m)\n",
    "rows = ['row ' + str(i) for i in range(n)]\n",
    "columns = ['col ' + str(i) for i in range(m)]\n",
    "\n",
    "lgn.matrix(mat, row_labels=rows, column_labels=columns)"
   ]
  },
  {
   "cell_type": "markdown",
   "metadata": {},
   "source": [
    "También se puede activar en el etiquetado de las celdas por su valor "
   ]
  },
  {
   "cell_type": "code",
   "execution_count": 9,
   "metadata": {
    "collapsed": false
   },
   "outputs": [
    {
     "name": "stdout",
     "output_type": "stream",
     "text": [
      "[[ 0  1  2  3  4  5  6]\n",
      " [ 7  8  9 10 11 12 13]\n",
      " [14 15 16 17 18 19 20]\n",
      " [21 22 23 24 25 26 27]\n",
      " [28 29 30 31 32 33 34]\n",
      " [35 36 37 38 39 40 41]\n",
      " [42 43 44 45 46 47 48]\n",
      " [49 50 51 52 53 54 55]\n",
      " [56 57 58 59 60 61 62]\n",
      " [63 64 65 66 67 68 69]]\n"
     ]
    },
    {
     "data": {
      "text/html": [
       "<meta name=\"viewport\" content=\"width=device-width, initial-scale=1, maximum-scale=1\"/><meta http-equiv=\"X-UA-Compatible\" content=\"IE=10; IE=9; IE=8; IE=7; IE=EDGE\"/><meta charset=\"UTF-8\"/><link href=\"//fonts.googleapis.com/css?family=Open+Sans:400,700\" rel=\"stylesheet\" type=\"text/css\"/><link rel=\"stylesheet\" href=\"http://localhost:3000/css/app.css\"/><div id=\"lightning-body\" class=\"container content wrap push\"><div class=\"feed-container\"><div data-model=\"visualization\" data-model-id=\"17a66603-0855-453a-8d35-eca7cc3956b1\" class=\"feed-item-container\"><div data-type=\"lightning-matrix\" data-data=\"{&quot;matrix&quot;:[[0,1,2,3,4,5,6],[7,8,9,10,11,12,13],[14,15,16,17,18,19,20],[21,22,23,24,25,26,27],[28,29,30,31,32,33,34],[35,36,37,38,39,40,41],[42,43,44,45,46,47,48],[49,50,51,52,53,54,55],[56,57,58,59,60,61,62],[63,64,65,66,67,68,69]]}\" data-images=\"[]\" data-options=\"{&quot;numbers&quot;:true,&quot;width&quot;:600,&quot;description&quot;:null,&quot;height&quot;:null}\" id=\"viz-17a66603-0855-453a-8d35-eca7cc3956b1\" data-initialized=\"false\" class=\"feed-item\"></div></div></div></div><script>window.lightning = window.lightning || {};\n",
       "window.lightning.host = \"http://localhost:3000/\" || 'http://127.0.0.1:3000/';\n",
       "window.lightning.vizCount = (window.lightning.vizCount + 1) || 1;\n",
       "window.lightning.requiredVizTypes = window.lightning.requiredVizTypes || [];\n",
       "if(window.lightning.requiredVizTypes.indexOf(\"matrix\") === -1) {\n",
       "    window.lightning.requiredVizTypes.push(\"matrix\");\n",
       "}\n",
       "window._require = window.require;\n",
       "window.require = undefined;\n",
       "window._define = window.define;\n",
       "window.define = undefined;</script><script src=\"http://localhost:3000/js/embed.js\"></script>"
      ],
      "text/plain": [
       "<lightning.types.plots.Matrix at 0x7fdfad3e83d0>"
      ]
     },
     "execution_count": 9,
     "metadata": {},
     "output_type": "execute_result"
    }
   ],
   "source": [
    "mat = arange(n*m).reshape(n,m)\n",
    "print mat\n",
    "\n",
    "lgn.matrix(mat, numbers=True)"
   ]
  },
  {
   "cell_type": "markdown",
   "metadata": {
    "collapsed": true
   },
   "source": [
    "## Ejemplo Matrix con valores extraidos desde la base de datos"
   ]
  },
  {
   "cell_type": "code",
   "execution_count": 10,
   "metadata": {
    "collapsed": true
   },
   "outputs": [],
   "source": [
    "import psycopg2, psycopg2.extras\n",
    "try:\n",
    "    conn = psycopg2.connect(\"dbname='gp' user='roma' host='localhost' password='roma'\")\n",
    "except:\n",
    "    print \"I am unable to connect to the database\"\n",
    "cur = conn.cursor()"
   ]
  },
  {
   "cell_type": "code",
   "execution_count": 11,
   "metadata": {
    "collapsed": true
   },
   "outputs": [],
   "source": [
    "cur.execute(\"\"\"SELECT cantidad,nomempresa from produccion inner join empresas on produccion.idempresa=empresas.idempresa where anio=2004 and idsubtipo =2\"\"\")\n",
    "rows = cur.fetchall()\n",
    "i=0\n",
    "x=[]\n",
    "y=[]\n",
    "columns=[2004,2005,2006,2007]\n",
    "nomEmpresa=[]\n",
    "for row in rows:\n",
    "    i=i+1\n",
    "    x.append(int(row[0]))\n",
    "    \n",
    "    if i == 4:\n",
    "        nomEmpresa.append(row[1])\n",
    "        y.append(x)\n",
    "        del x\n",
    "        x=[]\n",
    "        i=0 "
   ]
  },
  {
   "cell_type": "markdown",
   "metadata": {},
   "source": [
    "## Energia  producida por Biomasa "
   ]
  },
  {
   "cell_type": "markdown",
   "metadata": {},
   "source": [
    "<br> \n",
    "La siguiente grafica nos muestra la energia producida por 8 empresas electricas en el que se refleja la cantidad producida en cada una e las parcelas coloreadas , segun su opacidad tendran un valor mas alto y mientras mas claras sean su valor sera mas reducido"
   ]
  },
  {
   "cell_type": "code",
   "execution_count": 12,
   "metadata": {
    "collapsed": false
   },
   "outputs": [
    {
     "data": {
      "text/html": [
       "<meta name=\"viewport\" content=\"width=device-width, initial-scale=1, maximum-scale=1\"/><meta http-equiv=\"X-UA-Compatible\" content=\"IE=10; IE=9; IE=8; IE=7; IE=EDGE\"/><meta charset=\"UTF-8\"/><link href=\"//fonts.googleapis.com/css?family=Open+Sans:400,700\" rel=\"stylesheet\" type=\"text/css\"/><link rel=\"stylesheet\" href=\"http://localhost:3000/css/app.css\"/><div id=\"lightning-body\" class=\"container content wrap push\"><div class=\"feed-container\"><div data-model=\"visualization\" data-model-id=\"3e562278-8585-4648-ae28-359d2a41de0b\" class=\"feed-item-container\"><div data-type=\"lightning-matrix\" data-data=\"{&quot;rowLabels&quot;:[&quot;CELEC-Termoesmeraldas&quot;,&quot;CNEL-Esmeraldas&quot;,&quot;CNEL-Sto. Domingo&quot;,&quot;E.E. Cotopaxi&quot;,&quot;E.E. Riobamba&quot;,&quot;Elecaustro&quot;,&quot;Ecoelectric&quot;,&quot;Agip&quot;],&quot;colormap&quot;:&quot;Blues&quot;,&quot;matrix&quot;:[[15,1843,13967,0],[1693,248,21621,31],[2106,3280,15469,44],[49857,2037,540,15581],[94272,2454,411,6532],[14,4706,1703,2406],[8247,257569,2949,1],[1,185727,4144,157]],&quot;columnLabels&quot;:[2004,2005,2006,2007]}\" data-images=\"[]\" data-options=\"{&quot;numbers&quot;:true,&quot;width&quot;:600,&quot;description&quot;:null,&quot;height&quot;:null}\" id=\"viz-3e562278-8585-4648-ae28-359d2a41de0b\" data-initialized=\"false\" class=\"feed-item\"></div></div></div></div><script>window.lightning = window.lightning || {};\n",
       "window.lightning.host = \"http://localhost:3000/\" || 'http://127.0.0.1:3000/';\n",
       "window.lightning.vizCount = (window.lightning.vizCount + 1) || 1;\n",
       "window.lightning.requiredVizTypes = window.lightning.requiredVizTypes || [];\n",
       "if(window.lightning.requiredVizTypes.indexOf(\"matrix\") === -1) {\n",
       "    window.lightning.requiredVizTypes.push(\"matrix\");\n",
       "}\n",
       "window._require = window.require;\n",
       "window.require = undefined;\n",
       "window._define = window.define;\n",
       "window.define = undefined;</script><script src=\"http://localhost:3000/js/embed.js\"></script>"
      ],
      "text/plain": [
       "<lightning.types.plots.Matrix at 0x7fdfad12e510>"
      ]
     },
     "execution_count": 12,
     "metadata": {},
     "output_type": "execute_result"
    }
   ],
   "source": [
    "lgn.matrix(y,row_labels=nomEmpresa,column_labels=columns, colormap='Blues',numbers=True)"
   ]
  },
  {
   "cell_type": "code",
   "execution_count": null,
   "metadata": {
    "collapsed": true
   },
   "outputs": [],
   "source": []
  },
  {
   "cell_type": "code",
   "execution_count": null,
   "metadata": {
    "collapsed": true
   },
   "outputs": [],
   "source": []
  }
 ],
 "metadata": {
  "kernelspec": {
   "display_name": "Python 2",
   "language": "python",
   "name": "python2"
  },
  "language_info": {
   "codemirror_mode": {
    "name": "ipython",
    "version": 2
   },
   "file_extension": ".py",
   "mimetype": "text/x-python",
   "name": "python",
   "nbconvert_exporter": "python",
   "pygments_lexer": "ipython2",
   "version": "2.7.6"
  }
 },
 "nbformat": 4,
 "nbformat_minor": 0
}
