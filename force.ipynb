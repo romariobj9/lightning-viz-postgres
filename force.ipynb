{
 "cells": [
  {
   "cell_type": "markdown",
   "metadata": {},
   "source": [
    "# <img style='float: left' src=\"http://lightning-viz.github.io/images/logo.png\"> <br> <br> &nbsp;&nbsp;&nbsp;&nbsp;&nbsp;Force-directed graphs in <a href='http://lightning-viz.github.io/'><font color='#9175f0'>Lightning</font></a>"
   ]
  },
  {
   "cell_type": "markdown",
   "metadata": {},
   "source": [
    "## <hr> Configuracion"
   ]
  },
  {
   "cell_type": "code",
   "execution_count": 48,
   "metadata": {
    "collapsed": false
   },
   "outputs": [],
   "source": [
    "import os\n",
    "from lightning import Lightning\n",
    "\n",
    "from numpy import random, asarray, linspace, corrcoef\n",
    "from colorsys import hsv_to_rgb\n",
    "import networkx as nx"
   ]
  },
  {
   "cell_type": "markdown",
   "metadata": {},
   "source": [
    "## Conexion al Servidor"
   ]
  },
  {
   "cell_type": "code",
   "execution_count": 49,
   "metadata": {
    "collapsed": false
   },
   "outputs": [
    {
     "data": {
      "text/html": [
       "<div style='margin-top:8px'><img src='data:image/png;base64,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' width='30px' height='35px' style='display: inline-block; padding-right: 10px'></img><span>Lightning initialized</span></div>"
      ],
      "text/plain": [
       "<IPython.core.display.HTML object>"
      ]
     },
     "metadata": {},
     "output_type": "display_data"
    },
    {
     "name": "stdout",
     "output_type": "stream",
     "text": [
      "Connected to server at http://localhost:3000\n"
     ]
    },
    {
     "data": {
      "application/javascript": [
       "(function e(t,n,r){function s(o,u){if(!n[o]){if(!t[o]){var a=typeof require==\"function\"&&require;if(!u&&a)return a(o,!0);if(i)return i(o,!0);throw new Error(\"Cannot find module '\"+o+\"'\")}var f=n[o]={exports:{}};t[o][0].call(f.exports,function(e){var n=t[o][1][e];return s(n?n:e)},f,f.exports,e,t,n,r)}return n[o].exports}var i=typeof require==\"function\"&&require;for(var o=0;o<r.length;o++)s(r[o]);return s})({1:[function(require,module,exports){\n",
       "window.lightning = window.lightning || {};\n",
       "var lightningCommMap = {};\n",
       "var IPython = window.IPython;\n",
       "\n",
       "var readCommData = function(commData, field) {\n",
       "    try {\n",
       "        return commData.content.data[field];\n",
       "    } catch (err) {\n",
       "        return;\n",
       "    }\n",
       "};\n",
       "\n",
       "\n",
       "var init_comm = function() {\n",
       "    IPython.notebook.kernel.comm_manager.register_target('lightning', function(comm, data) {\n",
       "        var id = readCommData(data, 'id');\n",
       "        lightningCommMap[id] = comm;\n",
       "    });\n",
       "\n",
       "    window.lightning.comm_map = lightningCommMap;\n",
       "}\n",
       "\n",
       "\n",
       "if(IPython && IPython.notebook) {\n",
       "\n",
       "    if(IPython.notebook.kernel) {\n",
       "        init_comm();\n",
       "    }\n",
       "\n",
       "    IPython.notebook.events.on('kernel_connected.Kernel', init_comm);\n",
       "\n",
       "}\n",
       "\n",
       "\n",
       "},{}]},{},[1])\n",
       "//# sourceMappingURL=data:application/json;base64,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\n"
      ],
      "text/plain": [
       "<IPython.core.display.Javascript object>"
      ]
     },
     "metadata": {},
     "output_type": "display_data"
    }
   ],
   "source": [
    "lgn = Lightning(ipython=True)"
   ]
  },
  {
   "cell_type": "markdown",
   "metadata": {},
   "source": [
    "## <hr> Red binaria aleatoria"
   ]
  },
  {
   "cell_type": "markdown",
   "metadata": {},
   "source": [
    "Un grafo aleatorio en el que cada nodo tiene el mismo grado , con un estilo predeterminado .\n",
    "<br>\n",
    "Usamos la biblioteca networkx para generar el gráfico y obtener su matriz de adyacencia .\n",
    "<br>\n",
    "Haga doble clic en un punto para ver sus 'vecinos' ( todos deben tener 3 ) \n",
    "<br>\n",
    "Arrastre los puntos para tratar de mover el gráfico , debe permanecer cerrada."
   ]
  },
  {
   "cell_type": "code",
   "execution_count": 50,
   "metadata": {
    "collapsed": false
   },
   "outputs": [
    {
     "name": "stdout",
     "output_type": "stream",
     "text": [
      "[[0 0 0 ..., 0 0 0]\n",
      " [0 0 0 ..., 0 0 0]\n",
      " [0 0 0 ..., 0 0 0]\n",
      " ..., \n",
      " [0 0 0 ..., 0 0 0]\n",
      " [0 0 0 ..., 0 0 0]\n",
      " [0 0 0 ..., 0 0 0]]\n"
     ]
    },
    {
     "data": {
      "text/html": [
       "<meta name=\"viewport\" content=\"width=device-width, initial-scale=1, maximum-scale=1\"/><meta http-equiv=\"X-UA-Compatible\" content=\"IE=10; IE=9; IE=8; IE=7; IE=EDGE\"/><meta charset=\"UTF-8\"/><link href=\"//fonts.googleapis.com/css?family=Open+Sans:400,700\" rel=\"stylesheet\" type=\"text/css\"/><link rel=\"stylesheet\" href=\"http://localhost:3000/css/app.css\"/><div id=\"lightning-body\" class=\"container content wrap push\"><div class=\"feed-container\"><div data-model=\"visualization\" data-model-id=\"e5b2a487-cc37-45fd-9031-bcbe222de842\" class=\"feed-item-container\"><div data-type=\"lightning-force\" data-data=\"{&quot;nodes&quot;:[0,1,2,3,4,5,6,7,8,9,10,11,12,13,14,15,16,17,18,19,20,21,22,23,24,25,26,27,28,29,30,31,32,33,34,35,36,37,38,39,40,41,42,43,44,45,46,47,48,49,50,51,52,53,54,55,56,57,58,59,60,61,62,63,64,65,66,67,68,69,70,71,72,73,74,75,76,77,78,79,80,81,82,83,84,85,86,87,88,89,90,91,92,93,94,95,96,97,98,99],&quot;links&quot;:[[0,15,1],[0,33,1],[0,79,1],[1,25,1],[1,28,1],[1,56,1],[2,3,1],[2,20,1],[2,21,1],[3,2,1],[3,72,1],[3,82,1],[4,30,1],[4,52,1],[4,98,1],[5,20,1],[5,41,1],[5,98,1],[6,26,1],[6,64,1],[6,74,1],[7,62,1],[7,85,1],[7,89,1],[8,10,1],[8,16,1],[8,59,1],[9,39,1],[9,57,1],[9,74,1],[10,8,1],[10,28,1],[10,43,1],[11,17,1],[11,65,1],[11,75,1],[12,18,1],[12,35,1],[12,36,1],[13,46,1],[13,54,1],[13,72,1],[14,46,1],[14,50,1],[14,55,1],[15,0,1],[15,45,1],[15,95,1],[16,8,1],[16,32,1],[16,51,1],[17,11,1],[17,35,1],[17,86,1],[18,12,1],[18,38,1],[18,43,1],[19,32,1],[19,35,1],[19,78,1],[20,2,1],[20,5,1],[20,72,1],[21,2,1],[21,22,1],[21,70,1],[22,21,1],[22,52,1],[22,53,1],[23,24,1],[23,27,1],[23,47,1],[24,23,1],[24,40,1],[24,67,1],[25,1,1],[25,76,1],[25,78,1],[26,6,1],[26,29,1],[26,51,1],[27,23,1],[27,34,1],[27,88,1],[28,1,1],[28,10,1],[28,97,1],[29,26,1],[29,34,1],[29,69,1],[30,4,1],[30,60,1],[30,95,1],[31,57,1],[31,58,1],[31,60,1],[32,16,1],[32,19,1],[32,45,1],[33,0,1],[33,42,1],[33,82,1],[34,27,1],[34,29,1],[34,56,1],[35,12,1],[35,17,1],[35,19,1],[36,12,1],[36,53,1],[36,71,1],[37,68,1],[37,70,1],[37,91,1],[38,18,1],[38,44,1],[38,83,1],[39,9,1],[39,94,1],[39,97,1],[40,24,1],[40,76,1],[40,92,1],[41,5,1],[41,47,1],[41,75,1],[42,33,1],[42,63,1],[42,78,1],[43,10,1],[43,18,1],[43,65,1],[44,38,1],[44,56,1],[44,67,1],[45,15,1],[45,32,1],[45,59,1],[46,13,1],[46,14,1],[46,95,1],[47,23,1],[47,41,1],[47,85,1],[48,63,1],[48,66,1],[48,81,1],[49,59,1],[49,74,1],[49,99,1],[50,14,1],[50,62,1],[50,92,1],[51,16,1],[51,26,1],[51,64,1],[52,4,1],[52,22,1],[52,61,1],[53,22,1],[53,36,1],[53,77,1],[54,13,1],[54,89,1],[54,97,1],[55,14,1],[55,61,1],[55,86,1],[56,1,1],[56,34,1],[56,44,1],[57,9,1],[57,31,1],[57,67,1],[58,31,1],[58,73,1],[58,77,1],[59,8,1],[59,45,1],[59,49,1],[60,30,1],[60,31,1],[60,98,1],[61,52,1],[61,55,1],[61,73,1],[62,7,1],[62,50,1],[62,81,1],[63,42,1],[63,48,1],[63,80,1],[64,6,1],[64,51,1],[64,69,1],[65,11,1],[65,43,1],[65,66,1],[66,48,1],[66,65,1],[66,87,1],[67,24,1],[67,44,1],[67,57,1],[68,37,1],[68,71,1],[68,93,1],[69,29,1],[69,64,1],[69,88,1],[70,21,1],[70,37,1],[70,76,1],[71,36,1],[71,68,1],[71,91,1],[72,3,1],[72,13,1],[72,20,1],[73,58,1],[73,61,1],[73,84,1],[74,6,1],[74,9,1],[74,49,1],[75,11,1],[75,41,1],[75,96,1],[76,25,1],[76,40,1],[76,70,1],[77,53,1],[77,58,1],[77,81,1],[78,19,1],[78,25,1],[78,42,1],[79,0,1],[79,80,1],[79,84,1],[80,63,1],[80,79,1],[80,93,1],[81,48,1],[81,62,1],[81,77,1],[82,3,1],[82,33,1],[82,96,1],[83,38,1],[83,90,1],[83,94,1],[84,73,1],[84,79,1],[84,86,1],[85,7,1],[85,47,1],[85,90,1],[86,17,1],[86,55,1],[86,84,1],[87,66,1],[87,88,1],[87,96,1],[88,27,1],[88,69,1],[88,87,1],[89,7,1],[89,54,1],[89,99,1],[90,83,1],[90,85,1],[90,99,1],[91,37,1],[91,71,1],[91,94,1],[92,40,1],[92,50,1],[92,93,1],[93,68,1],[93,80,1],[93,92,1],[94,39,1],[94,83,1],[94,91,1],[95,15,1],[95,30,1],[95,46,1],[96,75,1],[96,82,1],[96,87,1],[97,28,1],[97,39,1],[97,54,1],[98,4,1],[98,5,1],[98,60,1],[99,49,1],[99,89,1],[99,90,1]]}\" data-images=\"[]\" data-options=\"{&quot;tooltips&quot;:true,&quot;description&quot;:null,&quot;zoom&quot;:true,&quot;height&quot;:null,&quot;width&quot;:600,&quot;brush&quot;:true}\" id=\"viz-e5b2a487-cc37-45fd-9031-bcbe222de842\" data-initialized=\"false\" class=\"feed-item\"></div></div></div></div><script>window.lightning = window.lightning || {};\n",
       "window.lightning.host = \"http://localhost:3000/\" || 'http://127.0.0.1:3000/';\n",
       "window.lightning.vizCount = (window.lightning.vizCount + 1) || 1;\n",
       "window.lightning.requiredVizTypes = window.lightning.requiredVizTypes || [];\n",
       "if(window.lightning.requiredVizTypes.indexOf(\"force\") === -1) {\n",
       "    window.lightning.requiredVizTypes.push(\"force\");\n",
       "}\n",
       "window._require = window.require;\n",
       "window.require = undefined;\n",
       "window._define = window.define;\n",
       "window.define = undefined;</script><script src=\"http://localhost:3000/js/embed.js\"></script>"
      ],
      "text/plain": [
       "<lightning.types.plots.Force at 0x7fc041a15fd0>"
      ]
     },
     "execution_count": 50,
     "metadata": {},
     "output_type": "execute_result"
    }
   ],
   "source": [
    "n = 100\n",
    "G = nx.random_regular_graph(3,n)\n",
    "mat = nx.adjacency_matrix(G).todense()\n",
    "print mat\n",
    "lgn.force(mat)"
   ]
  },
  {
   "cell_type": "markdown",
   "metadata": {},
   "source": [
    "## <hr> La red ponderada aleatoria"
   ]
  },
  {
   "cell_type": "markdown",
   "metadata": {},
   "source": [
    "\n",
    "La red anterior era binario ( todos los enlaces , ya sea 0 o 1 ) .\n",
    "Aquí los enlaces son ponderados."
   ]
  },
  {
   "cell_type": "code",
   "execution_count": 65,
   "metadata": {
    "collapsed": false
   },
   "outputs": [
    {
     "data": {
      "text/html": [
       "<meta name=\"viewport\" content=\"width=device-width, initial-scale=1, maximum-scale=1\"/><meta http-equiv=\"X-UA-Compatible\" content=\"IE=10; IE=9; IE=8; IE=7; IE=EDGE\"/><meta charset=\"UTF-8\"/><link href=\"//fonts.googleapis.com/css?family=Open+Sans:400,700\" rel=\"stylesheet\" type=\"text/css\"/><link rel=\"stylesheet\" href=\"http://localhost:3000/css/app.css\"/><div id=\"lightning-body\" class=\"container content wrap push\"><div class=\"feed-container\"><div data-model=\"visualization\" data-model-id=\"727b44d4-4e56-43ae-aae4-3739c41ee304\" class=\"feed-item-container\"><div data-type=\"lightning-force\" data-data=\"{&quot;nodes&quot;:[0,1,2,3,4,5,6,7,8,9,10,11,12,13,14,15,16,17,18,19,20,21,22,23,24,25,26,27,28,29,30,31,32,33,34,35,36,37,38,39,40,41,42,43,44,45,46,47,48,49,50,51,52,53,54,55,56,57,58,59,60,61,62,63,64,65,66,67,68,69,70,71,72,73,74,75,76,77,78,79,80,81,82,83,84,85,86,87,88,89,90,91,92,93,94,95,96,97,98,99],&quot;links&quot;:[[0,36,0.20939447313865342],[0,57,0.34121451082281007],[0,69,10.078054135241173],[1,9,4.375630012126393],[1,34,3.478897785717378],[1,59,0.6009392609986338],[2,6,0.6589080855005023],[2,66,5.998402725135325],[2,86,0.1448557334460705],[3,32,6.972524897012396],[3,83,0.5430976790594431],[3,94,0.04094730548305716],[4,7,17.89286813985015],[4,47,0.8758133280402393],[4,74,5.741214717028027],[5,39,0.48138331679274304],[5,72,5.18837671858508],[5,83,12.586155038557997],[6,2,8.633795414866201],[6,63,4.040564865999062],[6,82,0.3093363396679385],[7,4,6.519900335223542],[7,56,13.07441194068863],[7,89,12.511895421755774],[8,13,3.036287033945232],[8,63,1.1212153824980446],[8,91,2.6036010616853225],[9,1,0.15281919180776016],[9,32,11.011227244372483],[9,89,21.24664512359587],[10,26,2.369206738316631],[10,49,6.819344090837098],[10,75,11.245070109579702],[11,12,14.990926721457537],[11,65,2.2393938088910925],[11,90,0.4658088858866671],[12,11,0.0059063901867575834],[12,56,9.83064210050753],[12,99,4.8642668954461445],[13,8,7.343107560513469],[13,30,4.810416104437935],[13,35,5.158147666351692],[14,44,5.818593517993559],[14,51,0.13390014195766975],[14,57,11.024929669794918],[15,47,23.263614842858594],[15,62,5.9148203851001275],[15,94,0.05107956275693829],[16,34,19.278094508206713],[16,40,0.6305999160702503],[16,62,0.015727616087153517],[17,57,0.3806353476720801],[17,60,7.328469290788704],[17,68,1.4243322636156368],[18,20,0.35568255017830286],[18,22,1.4140458555027984],[18,60,0.17006018568019868],[19,22,0.01028747761951183],[19,31,8.080621692959866],[19,92,0.6787883877485668],[20,18,21.888852736573522],[20,21,0.012093730373828618],[20,82,22.46853879605493],[21,20,3.977894901128012],[21,49,6.853619416905784],[21,58,10.086089933890491],[22,18,0.7266641478835295],[22,19,4.04196757498319],[22,28,0.4438230367914792],[23,44,1.0444176639726628],[23,50,0.0038496603780497135],[23,70,8.765776047370093],[24,68,19.5315416992157],[24,75,5.66907925696895],[24,91,14.846117223613398],[25,52,0.22636656811236464],[25,88,20.57341266949571],[25,92,2.3570579315171507],[26,10,2.5169139694644294],[26,67,15.969214247225494],[26,90,1.1716684062917102],[27,45,0.776929171578361],[27,65,4.755147736235618],[27,93,4.761071493435889],[28,22,1.5651437116051496],[28,70,1.9288332893745188],[28,86,0.8568328682995571],[29,37,0.33486603683338534],[29,92,1.3130393307514487],[29,95,0.17572261997381558],[30,13,21.749618551920015],[30,87,24.70260465539303],[30,91,0.05278001871669556],[31,19,15.624423634043437],[31,45,7.664527136685719],[31,75,0.7596107193559245],[32,3,5.423289632385643],[32,9,24.686967930887363],[32,54,23.527169433526566],[33,72,7.5866766543645365],[33,78,1.041737917987997],[33,93,13.642296421615635],[34,1,2.141791789867242],[34,16,5.244181039490983],[34,98,2.2575053707055557],[35,13,4.486155466728688],[35,80,7.592774298302475],[35,97,6.733186074403437],[36,0,1.1026850566561697],[36,43,11.195821870426245],[36,78,2.9571867292808296],[37,29,21.785286109540916],[37,61,0.4228266581220642],[37,69,19.691634613645437],[38,51,0.3807164744590455],[38,60,4.072446641901447],[38,81,2.7282020429185234],[39,5,1.6121241605389116],[39,73,2.319560321963418],[39,80,24.33963942384203],[40,16,7.483576082584004],[40,70,5.2260059507718015],[40,71,0.09779493857671905],[41,61,1.8878210951303644],[41,88,19.813735123868753],[41,99,5.768285015806498],[42,59,7.349759308756902],[42,68,0.00841659537016859],[42,77,22.843991035514904],[43,36,10.106133127046315],[43,64,0.9318373446780588],[43,99,16.687725231808066],[44,14,13.198848810327902],[44,23,13.474598800801564],[44,55,6.096091056960307],[45,27,20.331330524553696],[45,31,2.4378504279893023],[45,81,22.55414769011863],[46,47,2.020681349508995],[46,54,0.8443658946995919],[46,55,24.47225758115189],[47,4,0.04413352990091096],[47,15,21.87247631333591],[47,46,2.138203276403687],[48,69,0.3168569169349884],[48,84,19.584787916134022],[48,93,17.69963893305424],[49,10,20.890938159847835],[49,21,0.7177153798168019],[49,84,20.56410730609979],[50,23,0.49607566331425396],[50,71,10.263882552379288],[50,76,0.9847128221010003],[51,14,9.734275166841716],[51,38,10.245242673158524],[51,94,24.388969011872064],[52,25,0.7683825898052391],[52,53,0.7528196442860378],[52,66,3.176296029059058],[53,52,18.52945416679918],[53,80,15.855834613640617],[53,83,0.33503339236587565],[54,32,5.370398473093522],[54,46,4.6955315296188145],[54,64,23.371918069569485],[55,44,7.089967026331542],[55,46,7.886144242602254],[55,76,19.770039845615837],[56,7,13.24924350242261],[56,12,15.457703352953855],[56,62,0.8352152206064515],[57,0,13.238876290058506],[57,14,0.04746120606706456],[57,17,18.853438056114584],[58,21,0.750547704281879],[58,85,8.276390040974636],[58,90,14.101328971447565],[59,1,0.4714434300626503],[59,42,3.3897492548760577],[59,98,22.838740336219303],[60,17,17.3774404969052],[60,18,5.218595586681569],[60,38,7.08338757549307],[61,37,13.001805380404623],[61,41,0.05511540764608109],[61,85,8.320402558895367],[62,15,15.692760400362719],[62,16,1.072010594378247],[62,56,6.731596210428871],[63,6,7.561019401333355],[63,8,18.4068474172012],[63,74,10.789241553994055],[64,43,8.175326632517068],[64,54,1.5753950620601163],[64,85,22.687121848682345],[65,11,14.031090725090447],[65,27,0.8080318898559461],[65,95,21.976720778217018],[66,2,0.0048215339965687115],[66,52,1.45129487852891],[66,86,10.648048641831496],[67,26,8.630815469052367],[67,88,22.89675194849943],[67,97,9.673785195324824],[68,17,0.6488555592166158],[68,24,8.840659807635587],[68,42,9.266547943464952],[69,0,0.7360001712937649],[69,37,10.880509713352586],[69,48,14.798848701964202],[70,23,14.124567590276888],[70,28,18.242253188267576],[70,40,17.1198229565985],[71,40,19.992623135808003],[71,50,0.16296236035115602],[71,79,22.69632150276108],[72,5,6.654822662588381],[72,33,18.286878051281008],[72,74,11.93079703432983],[73,39,16.600269276494675],[73,79,2.1543570454654906],[73,87,1.009904995718757],[74,4,0.47915731830213876],[74,63,9.369100340273913],[74,72,2.3343997222059407],[75,10,14.753773465901642],[75,24,0.5486264450625797],[75,31,17.32686671779419],[76,50,17.877716809785937],[76,55,0.6843058809757254],[76,81,5.571769997998904],[77,42,0.8067366559113107],[77,82,22.13901578566408],[77,96,0.2597534745365031],[78,33,2.423546683810416],[78,36,22.084132110980853],[78,98,11.075250465767827],[79,71,14.454635083101842],[79,73,0.6112696429840789],[79,96,14.226291071886745],[80,35,6.048542278159705],[80,39,1.894541585751471],[80,53,3.57806476695223],[81,38,8.339909791166615],[81,45,13.988365648607752],[81,76,0.26543126901274544],[82,6,0.013686324551933575],[82,20,17.949904362083384],[82,77,6.479566723919644],[83,3,0.3501356335676776],[83,5,22.1790540307639],[83,53,2.5320829007749155],[84,48,24.96336793484082],[84,49,2.5622874750370856],[84,96,9.428428888649188],[85,58,23.16345743254934],[85,61,18.249896387225046],[85,64,18.84736638111448],[86,2,13.105793521984271],[86,28,2.7957682716126775],[86,66,0.17004405711776396],[87,30,11.916119484855447],[87,73,22.12514241319803],[87,89,1.2545166821017026],[88,25,0.46367226179687704],[88,41,0.47089986622099617],[88,67,18.828849031376315],[89,7,2.0844506699319965],[89,9,1.5854784370646742],[89,87,4.487383283360945],[90,11,19.256037920962836],[90,26,18.83265059514637],[90,58,10.612936769355755],[91,8,6.794010324719961],[91,24,6.671988181817807],[91,30,19.491184276197227],[92,19,2.6868837589498855],[92,25,8.631453777592606],[92,29,0.48865321864519146],[93,27,7.508440014346991],[93,33,21.105498174524413],[93,48,17.084199412083333],[94,3,5.785005073484702],[94,15,0.5759193776906663],[94,51,19.792409941583184],[95,29,1.5580987452934263],[95,65,8.44662978224216],[95,97,0.00002584597179784415],[96,77,7.829195684958513],[96,79,23.062350415464586],[96,84,0.49375045375812027],[97,35,3.7618846069128127],[97,67,5.488608759000793],[97,95,1.4444789868355754],[98,34,23.895467704077696],[98,59,0.009673261976721118],[98,78,15.443937074609698],[99,12,3.34319600372275],[99,41,5.569356917900502],[99,43,1.15645321101525]]}\" data-images=\"[]\" data-options=\"{&quot;tooltips&quot;:true,&quot;description&quot;:null,&quot;zoom&quot;:true,&quot;height&quot;:null,&quot;width&quot;:600,&quot;brush&quot;:true}\" id=\"viz-727b44d4-4e56-43ae-aae4-3739c41ee304\" data-initialized=\"false\" class=\"feed-item\"></div></div></div></div><script>window.lightning = window.lightning || {};\n",
       "window.lightning.host = \"http://localhost:3000/\" || 'http://127.0.0.1:3000/';\n",
       "window.lightning.vizCount = (window.lightning.vizCount + 1) || 1;\n",
       "window.lightning.requiredVizTypes = window.lightning.requiredVizTypes || [];\n",
       "if(window.lightning.requiredVizTypes.indexOf(\"force\") === -1) {\n",
       "    window.lightning.requiredVizTypes.push(\"force\");\n",
       "}\n",
       "window._require = window.require;\n",
       "window.require = undefined;\n",
       "window._define = window.define;\n",
       "window.define = undefined;</script><script src=\"http://localhost:3000/js/embed.js\"></script>"
      ],
      "text/plain": [
       "<lightning.types.plots.Force at 0x7fc046f05a10>"
      ]
     },
     "execution_count": 65,
     "metadata": {},
     "output_type": "execute_result"
    }
   ],
   "source": [
    "G = nx.random_regular_graph(3,100)\n",
    "mat = asarray(nx.adjacency_matrix(G).todense()) * (((random.rand(100,100))*5) ** 2)\n",
    "lgn.force(mat)"
   ]
  },
  {
   "cell_type": "markdown",
   "metadata": {},
   "source": [
    "## <hr> Red langosta"
   ]
  },
  {
   "cell_type": "markdown",
   "metadata": {},
   "source": [
    "El gráfico de langosta , y la columna vertebral con algunas hojas , está coloreada por orden de nodo.\n",
    "<br>\n",
    "También establecemos todos los nodos con valor menor que 2 a un color gris ."
   ]
  },
  {
   "cell_type": "code",
   "execution_count": 66,
   "metadata": {
    "collapsed": false
   },
   "outputs": [
    {
     "data": {
      "text/html": [
       "<meta name=\"viewport\" content=\"width=device-width, initial-scale=1, maximum-scale=1\"/><meta http-equiv=\"X-UA-Compatible\" content=\"IE=10; IE=9; IE=8; IE=7; IE=EDGE\"/><meta charset=\"UTF-8\"/><link href=\"//fonts.googleapis.com/css?family=Open+Sans:400,700\" rel=\"stylesheet\" type=\"text/css\"/><link rel=\"stylesheet\" href=\"http://localhost:3000/css/app.css\"/><div id=\"lightning-body\" class=\"container content wrap push\"><div class=\"feed-container\"><div data-model=\"visualization\" data-model-id=\"353f528e-ec95-42e9-9bde-836ccf1e3520\" class=\"feed-item-container\"><div data-type=\"lightning-force\" data-data=\"{&quot;color&quot;:[[150,150,150],[255,67.99999999999999,50.999999999999986],[255,84.99999999999999,50.999999999999986],[255,101.99999999999997,50.999999999999986],[255,118.99999999999997,50.999999999999986],[255,136.00000000000003,50.999999999999986],[255,153,50.999999999999986],[255,170.00000000000003,50.999999999999986],[255,187,50.999999999999986],[255,204,50.999999999999986],[255,221,50.999999999999986],[255,238,50.999999999999986],[255,255,50.999999999999986],[238,255,50.999999999999986],[220.99999999999997,255,50.999999999999986],[204,255,50.999999999999986],[187.00000000000003,255,50.999999999999986],[170.00000000000003,255,50.999999999999986],[153,255,50.999999999999986],[135.99999999999997,255,50.999999999999986],[118.99999999999997,255,50.999999999999986],[101.99999999999997,255,50.999999999999986],[84.99999999999996,255,50.999999999999986],[68.00000000000001,255,50.999999999999986],[50.999999999999986,255,50.999999999999986],[50.999999999999986,255,67.99999999999993],[50.999999999999986,255,84.99999999999996],[50.999999999999986,255,101.99999999999997],[50.999999999999986,255,119.00000000000003],[50.999999999999986,255,136.00000000000006],[50.999999999999986,255,153],[50.999999999999986,255,170.00000000000003],[50.999999999999986,255,186.99999999999997],[50.999999999999986,255,204],[50.999999999999986,255,220.99999999999994],[50.999999999999986,255,237.99999999999997],[50.999999999999986,255,255],[50.999999999999986,238.00000000000006,255],[50.999999999999986,220.99999999999994,255],[50.999999999999986,204,255],[50.999999999999986,186.99999999999997,255],[50.999999999999986,170.00000000000003,255],[50.999999999999986,153,255],[50.999999999999986,136.00000000000006,255],[50.999999999999986,118.99999999999994,255],[50.999999999999986,101.99999999999997,255],[50.999999999999986,85.00000000000004,255],[50.999999999999986,67.99999999999993,255],[50.999999999999986,50.999999999999986,255],[150,150,150],[150,150,150],[150,150,150],[150,150,150],[150,150,150],[150,150,150],[150,150,150],[150,150,150],[150,150,150],[150,150,150],[150,150,150],[150,150,150],[150,150,150],[150,150,150],[150,150,150],[150,150,150],[150,150,150],[150,150,150],[150,150,150],[150,150,150],[150,150,150],[150,150,150],[150,150,150]],&quot;nodes&quot;:[0,1,2,3,4,5,6,7,8,9,10,11,12,13,14,15,16,17,18,19,20,21,22,23,24,25,26,27,28,29,30,31,32,33,34,35,36,37,38,39,40,41,42,43,44,45,46,47,48,49,50,51,52,53,54,55,56,57,58,59,60,61,62,63,64,65,66,67,68,69,70,71],&quot;links&quot;:[[0,1,1],[1,0,1],[1,2,1],[2,1,1],[2,3,1],[2,49,1],[3,2,1],[3,4,1],[3,50,1],[4,3,1],[4,5,1],[4,51,1],[5,4,1],[5,6,1],[6,5,1],[6,7,1],[7,6,1],[7,8,1],[8,7,1],[8,9,1],[8,52,1],[9,8,1],[9,10,1],[10,9,1],[10,11,1],[10,53,1],[11,10,1],[11,12,1],[12,11,1],[12,13,1],[13,12,1],[13,14,1],[13,54,1],[14,13,1],[14,15,1],[14,55,1],[15,14,1],[15,16,1],[15,56,1],[16,15,1],[16,17,1],[17,16,1],[17,18,1],[17,57,1],[18,17,1],[18,19,1],[18,58,1],[19,18,1],[19,20,1],[19,59,1],[20,19,1],[20,21,1],[20,60,1],[21,20,1],[21,22,1],[22,21,1],[22,23,1],[23,22,1],[23,24,1],[23,61,1],[24,23,1],[24,25,1],[25,24,1],[25,26,1],[26,25,1],[26,27,1],[27,26,1],[27,28,1],[27,62,1],[28,27,1],[28,29,1],[29,28,1],[29,30,1],[30,29,1],[30,31,1],[31,30,1],[31,32,1],[31,63,1],[32,31,1],[32,33,1],[33,32,1],[33,34,1],[34,33,1],[34,35,1],[34,64,1],[35,34,1],[35,36,1],[36,35,1],[36,37,1],[36,65,1],[37,36,1],[37,38,1],[37,66,1],[38,37,1],[38,39,1],[39,38,1],[39,40,1],[40,39,1],[40,41,1],[41,40,1],[41,42,1],[42,41,1],[42,43,1],[42,67,1],[43,42,1],[43,44,1],[43,68,1],[44,43,1],[44,45,1],[45,44,1],[45,46,1],[46,45,1],[46,47,1],[46,69,1],[47,46,1],[47,48,1],[47,70,1],[48,47,1],[48,71,1],[49,2,1],[50,3,1],[51,4,1],[52,8,1],[53,10,1],[54,13,1],[55,14,1],[56,15,1],[57,17,1],[58,18,1],[59,19,1],[60,20,1],[61,23,1],[62,27,1],[63,31,1],[64,34,1],[65,36,1],[66,37,1],[67,42,1],[68,43,1],[69,46,1],[70,47,1],[71,48,1]]}\" data-images=\"[]\" data-options=\"{&quot;tooltips&quot;:true,&quot;description&quot;:null,&quot;zoom&quot;:true,&quot;height&quot;:null,&quot;width&quot;:600,&quot;brush&quot;:true}\" id=\"viz-353f528e-ec95-42e9-9bde-836ccf1e3520\" data-initialized=\"false\" class=\"feed-item\"></div></div></div></div><script>window.lightning = window.lightning || {};\n",
       "window.lightning.host = \"http://localhost:3000/\" || 'http://127.0.0.1:3000/';\n",
       "window.lightning.vizCount = (window.lightning.vizCount + 1) || 1;\n",
       "window.lightning.requiredVizTypes = window.lightning.requiredVizTypes || [];\n",
       "if(window.lightning.requiredVizTypes.indexOf(\"force\") === -1) {\n",
       "    window.lightning.requiredVizTypes.push(\"force\");\n",
       "}\n",
       "window._require = window.require;\n",
       "window.require = undefined;\n",
       "window._define = window.define;\n",
       "window.define = undefined;</script><script src=\"http://localhost:3000/js/embed.js\"></script>"
      ],
      "text/plain": [
       "<lightning.types.plots.Force at 0x7fc0419e7090>"
      ]
     },
     "execution_count": 66,
     "metadata": {},
     "output_type": "execute_result"
    }
   ],
   "source": [
    "G = nx.random_lobster(60, 0.5, 0.0, seed=44)\n",
    "mat = nx.adjacency_matrix(G).todense()\n",
    "n = len(G.nodes())\n",
    "c = [list(asarray(hsv_to_rgb(float(x) / n , 0.8, 1.0))*255) if y > 1 else [150,150,150] for (x,y) in G.degree_iter()]\n",
    "lgn.force(mat, color=c)"
   ]
  },
  {
   "cell_type": "markdown",
   "metadata": {},
   "source": [
    "## <hr> Coloracion por grado"
   ]
  },
  {
   "cell_type": "markdown",
   "metadata": {},
   "source": [
    "Aquí coloreamos puntos para indicar su grado.\n",
    "<br>\n",
    "Haga clic para confirmar que los puntos más grandes tienen más conexiones"
   ]
  },
  {
   "cell_type": "code",
   "execution_count": 53,
   "metadata": {
    "collapsed": false
   },
   "outputs": [
    {
     "name": "stdout",
     "output_type": "stream",
     "text": [
      "[[0 0 0 ..., 0 0 0]\n",
      " [0 0 1 ..., 0 0 0]\n",
      " [0 1 0 ..., 0 0 0]\n",
      " ..., \n",
      " [0 0 0 ..., 0 0 0]\n",
      " [0 0 0 ..., 0 0 0]\n",
      " [0 0 0 ..., 0 0 0]]\n"
     ]
    },
    {
     "data": {
      "text/html": [
       "<meta name=\"viewport\" content=\"width=device-width, initial-scale=1, maximum-scale=1\"/><meta http-equiv=\"X-UA-Compatible\" content=\"IE=10; IE=9; IE=8; IE=7; IE=EDGE\"/><meta charset=\"UTF-8\"/><link href=\"//fonts.googleapis.com/css?family=Open+Sans:400,700\" rel=\"stylesheet\" type=\"text/css\"/><link rel=\"stylesheet\" href=\"http://localhost:3000/css/app.css\"/><div id=\"lightning-body\" class=\"container content wrap push\"><div class=\"feed-container\"><div data-model=\"visualization\" data-model-id=\"0733112c-3ebe-4851-bb61-6284bb071a1c\" class=\"feed-item-container\"><div data-type=\"lightning-force\" data-data=\"{&quot;nodes&quot;:[0,1,2,3,4,5,6,7,8,9,10,11,12,13,14,15,16,17,18,19,20,21,22,23,24,25,26,27,28,29,30,31,32,33,34,35,36,37,38,39,40,41,42,43,44,45,46,47,48,49],&quot;group&quot;:[2,5,4,2,3,0,1,1,1,0,0,0,2,2,0,0,0,2,0,2,1,1,2,1,1,1,2,3,2,1,3,0,2,2,4,2,1,0,0,2,4,0,2,4,5,3,0,0,1,1],&quot;links&quot;:[[0,30,1],[0,45,1],[1,2,1],[1,26,1],[1,40,1],[1,43,1],[1,44,1],[2,1,1],[2,40,1],[2,43,1],[2,44,1],[3,22,1],[3,35,1],[4,21,1],[4,32,1],[4,42,1],[6,20,1],[7,24,1],[8,48,1],[12,27,1],[12,39,1],[13,17,1],[13,28,1],[17,13,1],[17,28,1],[19,25,1],[19,27,1],[20,6,1],[21,4,1],[22,3,1],[22,35,1],[23,33,1],[24,7,1],[25,19,1],[26,1,1],[26,44,1],[27,12,1],[27,19,1],[27,39,1],[28,13,1],[28,17,1],[29,49,1],[30,0,1],[30,34,1],[30,45,1],[32,4,1],[32,34,1],[33,23,1],[33,36,1],[34,30,1],[34,32,1],[34,42,1],[34,45,1],[35,3,1],[35,22,1],[36,33,1],[39,12,1],[39,27,1],[40,1,1],[40,2,1],[40,43,1],[40,44,1],[42,4,1],[42,34,1],[43,1,1],[43,2,1],[43,40,1],[43,44,1],[44,1,1],[44,2,1],[44,26,1],[44,40,1],[44,43,1],[45,0,1],[45,30,1],[45,34,1],[48,8,1],[49,29,1]],&quot;size&quot;:[10.5,19.5,16.5,10.5,13.5,4.5,7.5,7.5,7.5,4.5,4.5,4.5,10.5,10.5,4.5,4.5,4.5,10.5,4.5,10.5,7.5,7.5,10.5,7.5,7.5,7.5,10.5,13.5,10.5,7.5,13.5,4.5,10.5,10.5,16.5,10.5,7.5,4.5,4.5,10.5,16.5,4.5,10.5,16.5,19.5,13.5,4.5,4.5,7.5,7.5]}\" data-images=\"[]\" data-options=\"{&quot;tooltips&quot;:true,&quot;description&quot;:null,&quot;zoom&quot;:true,&quot;height&quot;:null,&quot;width&quot;:600,&quot;brush&quot;:true}\" id=\"viz-0733112c-3ebe-4851-bb61-6284bb071a1c\" data-initialized=\"false\" class=\"feed-item\"></div></div></div></div><script>window.lightning = window.lightning || {};\n",
       "window.lightning.host = \"http://localhost:3000/\" || 'http://127.0.0.1:3000/';\n",
       "window.lightning.vizCount = (window.lightning.vizCount + 1) || 1;\n",
       "window.lightning.requiredVizTypes = window.lightning.requiredVizTypes || [];\n",
       "if(window.lightning.requiredVizTypes.indexOf(\"force\") === -1) {\n",
       "    window.lightning.requiredVizTypes.push(\"force\");\n",
       "}\n",
       "window._require = window.require;\n",
       "window.require = undefined;\n",
       "window._define = window.define;\n",
       "window.define = undefined;</script><script src=\"http://localhost:3000/js/embed.js\"></script>"
      ],
      "text/plain": [
       "<lightning.types.plots.Force at 0x7fc0419d9d10>"
      ]
     },
     "execution_count": 53,
     "metadata": {},
     "output_type": "execute_result"
    }
   ],
   "source": [
    "G = nx.random_geometric_graph(50, 0.1)\n",
    "mat = nx.adjacency_matrix(G).todense()\n",
    "g = G.degree().values()\n",
    "print mat\n",
    "lgn.force(mat, group=g, size=(asarray(g) + 1.5)*3)"
   ]
  },
  {
   "cell_type": "markdown",
   "metadata": {},
   "source": [
    "## <hr> Grafica de la agrupacion"
   ]
  },
  {
   "cell_type": "markdown",
   "metadata": {},
   "source": [
    "Aquí creamos un gráfico a partir de una matriz de correlación de umbral en los datos extraídos de un conjunto de agrupaciones.\n",
    "<br>\n",
    "Las identidades de los cliusters son claros en el gráfico resultante ."
   ]
  },
  {
   "cell_type": "code",
   "execution_count": 72,
   "metadata": {
    "collapsed": false,
    "scrolled": true
   },
   "outputs": [
    {
     "ename": "NameError",
     "evalue": "name 'datasets' is not defined",
     "output_type": "error",
     "traceback": [
      "\u001b[1;31m---------------------------------------------------------------------------\u001b[0m",
      "\u001b[1;31mNameError\u001b[0m                                 Traceback (most recent call last)",
      "\u001b[1;32m<ipython-input-72-fc7d614b358d>\u001b[0m in \u001b[0;36m<module>\u001b[1;34m()\u001b[0m\n\u001b[1;32m----> 1\u001b[1;33m \u001b[0md\u001b[0m\u001b[1;33m,\u001b[0m \u001b[0mg\u001b[0m \u001b[1;33m=\u001b[0m \u001b[0mdatasets\u001b[0m\u001b[1;33m.\u001b[0m\u001b[0mmake_blobs\u001b[0m\u001b[1;33m(\u001b[0m\u001b[0mn_features\u001b[0m\u001b[1;33m=\u001b[0m\u001b[1;36m5\u001b[0m\u001b[1;33m,\u001b[0m \u001b[0mn_samples\u001b[0m\u001b[1;33m=\u001b[0m\u001b[1;36m50\u001b[0m\u001b[1;33m,\u001b[0m \u001b[0mcenters\u001b[0m\u001b[1;33m=\u001b[0m\u001b[1;36m5\u001b[0m\u001b[1;33m,\u001b[0m \u001b[0mcluster_std\u001b[0m\u001b[1;33m=\u001b[0m\u001b[1;36m2.0\u001b[0m\u001b[1;33m,\u001b[0m \u001b[0mrandom_state\u001b[0m\u001b[1;33m=\u001b[0m\u001b[1;36m100\u001b[0m\u001b[1;33m)\u001b[0m\u001b[1;33m\u001b[0m\u001b[0m\n\u001b[0m\u001b[0;32m      2\u001b[0m \u001b[0mc\u001b[0m \u001b[1;33m=\u001b[0m \u001b[0mcorrcoef\u001b[0m\u001b[1;33m(\u001b[0m\u001b[0md\u001b[0m\u001b[1;33m)\u001b[0m\u001b[1;33m\u001b[0m\u001b[0m\n\u001b[0;32m      3\u001b[0m \u001b[0mc\u001b[0m\u001b[1;33m[\u001b[0m\u001b[0mc\u001b[0m\u001b[1;33m<\u001b[0m\u001b[1;36m0.9\u001b[0m\u001b[1;33m]\u001b[0m \u001b[1;33m=\u001b[0m \u001b[1;36m0\u001b[0m\u001b[1;33m\u001b[0m\u001b[0m\n\u001b[0;32m      4\u001b[0m \u001b[0mlgn\u001b[0m\u001b[1;33m.\u001b[0m\u001b[0mforce\u001b[0m\u001b[1;33m(\u001b[0m\u001b[0mc\u001b[0m\u001b[1;33m,\u001b[0m \u001b[0mgroup\u001b[0m\u001b[1;33m=\u001b[0m\u001b[0mg\u001b[0m\u001b[1;33m)\u001b[0m\u001b[1;33m\u001b[0m\u001b[0m\n",
      "\u001b[1;31mNameError\u001b[0m: name 'datasets' is not defined"
     ]
    }
   ],
   "source": [
    "d, g = datasets.make_blobs(n_features=5, n_samples=50, centers=5, cluster_std=2.0, random_state=100)\n",
    "c = corrcoef(d)\n",
    "c[c<0.9] = 0\n",
    "lgn.force(c, group=g)"
   ]
  },
  {
   "cell_type": "markdown",
   "metadata": {},
   "source": [
    "## Ejemplo Force datos extraidos de una base de datos"
   ]
  },
  {
   "cell_type": "code",
   "execution_count": 73,
   "metadata": {
    "collapsed": true
   },
   "outputs": [],
   "source": [
    "import psycopg2, psycopg2.extras\n",
    "try:\n",
    "    conn = psycopg2.connect(\"dbname='gp' user='roma' host='localhost' password='roma'\")\n",
    "except:\n",
    "    print \"I am unable to connect to the database\"\n",
    "cur = conn.cursor()"
   ]
  },
  {
   "cell_type": "code",
   "execution_count": 68,
   "metadata": {
    "collapsed": true
   },
   "outputs": [],
   "source": [
    "cur.execute(\"\"\"SELECT subtipos.idsubtipo,empresas.idempresa,nomempresa,nomsubtipo from produccion inner join empresas on produccion.idempresa=empresas.idempresa inner join subtipos on produccion.idsubtipo=subtipos.idsubtipo where anio=2004 and subtipos.idsubtipo=5\"\"\")\n",
    "rows = cur.fetchall()\n",
    "i=1\n",
    "x=[]\n",
    "y=[]\n",
    "x.append(\"Tipo de Energia\")\n",
    "x.append(\"Energia Hidraulica\")\n",
    "\n",
    "for row in rows:\n",
    "    x.append(str(row[2]))\n",
    "    i=i+1\n",
    "    y.append([int(row[0]),int(row[1])])"
   ]
  },
  {
   "cell_type": "markdown",
   "metadata": {},
   "source": [
    "## Relacion entre las empresas y el tipo de Energia Hidraulica"
   ]
  },
  {
   "cell_type": "markdown",
   "metadata": {},
   "source": [
    "<br>\n",
    "En esta grafica podemos observar el tipo de Energia Hidraulica se relaciona con todas las empresas , ya que cada una de las empresas producen energia a traves de procesos hidraulicos , el nodo 1 o el central en este caso es el tipo de energia Hidraulica y todas las que estan enlazadas a este nodo son las empresas."
   ]
  },
  {
   "cell_type": "code",
   "execution_count": 75,
   "metadata": {
    "collapsed": false
   },
   "outputs": [
    {
     "data": {
      "text/html": [
       "<meta name=\"viewport\" content=\"width=device-width, initial-scale=1, maximum-scale=1\"/><meta http-equiv=\"X-UA-Compatible\" content=\"IE=10; IE=9; IE=8; IE=7; IE=EDGE\"/><meta charset=\"UTF-8\"/><link href=\"//fonts.googleapis.com/css?family=Open+Sans:400,700\" rel=\"stylesheet\" type=\"text/css\"/><link rel=\"stylesheet\" href=\"http://localhost:3000/css/app.css\"/><div id=\"lightning-body\" class=\"container content wrap push\"><div class=\"feed-container\"><div data-model=\"visualization\" data-model-id=\"c3f2f489-fa0c-4b70-b614-f5fc244fead3\" class=\"feed-item-container\"><div data-type=\"lightning-force\" data-data=\"{&quot;nodes&quot;:[0,1,2,3,4,5,6,7,8,9,10,11,12,13,14,15,16,17,18,19,20,21,22,23,24,25,26,27,28,29,30,31,32,33,34],&quot;links&quot;:[[5,1,1],[5,2,1],[5,3,1],[5,4,1],[5,5,1],[5,6,1],[5,7,1],[5,8,1],[5,9,1],[5,10,1],[5,11,1],[5,12,1],[5,13,1],[5,14,1],[5,15,1],[5,16,1],[5,17,1],[5,18,1],[5,19,1],[5,20,1],[5,21,1],[5,22,1],[5,23,1],[5,24,1],[5,25,1],[5,26,1],[5,27,1],[5,28,1],[5,29,1],[5,30,1],[5,31,1],[5,32,1],[5,33,1],[5,34,1]]}\" data-images=\"[]\" data-options=\"{&quot;tooltips&quot;:true,&quot;description&quot;:null,&quot;zoom&quot;:true,&quot;height&quot;:null,&quot;width&quot;:600,&quot;brush&quot;:true}\" id=\"viz-c3f2f489-fa0c-4b70-b614-f5fc244fead3\" data-initialized=\"false\" class=\"feed-item\"></div></div></div></div><script>window.lightning = window.lightning || {};\n",
       "window.lightning.host = \"http://localhost:3000/\" || 'http://127.0.0.1:3000/';\n",
       "window.lightning.vizCount = (window.lightning.vizCount + 1) || 1;\n",
       "window.lightning.requiredVizTypes = window.lightning.requiredVizTypes || [];\n",
       "if(window.lightning.requiredVizTypes.indexOf(\"force\") === -1) {\n",
       "    window.lightning.requiredVizTypes.push(\"force\");\n",
       "}\n",
       "window._require = window.require;\n",
       "window.require = undefined;\n",
       "window._define = window.define;\n",
       "window.define = undefined;</script><script src=\"http://localhost:3000/js/embed.js\"></script>"
      ],
      "text/plain": [
       "<lightning.types.plots.Force at 0x7fc041a15b10>"
      ]
     },
     "execution_count": 75,
     "metadata": {},
     "output_type": "execute_result"
    }
   ],
   "source": [
    "\n",
    "lgn.force(y)"
   ]
  },
  {
   "cell_type": "code",
   "execution_count": null,
   "metadata": {
    "collapsed": true
   },
   "outputs": [],
   "source": []
  },
  {
   "cell_type": "code",
   "execution_count": null,
   "metadata": {
    "collapsed": true
   },
   "outputs": [],
   "source": []
  }
 ],
 "metadata": {
  "kernelspec": {
   "display_name": "Python 2",
   "language": "python",
   "name": "python2"
  },
  "language_info": {
   "codemirror_mode": {
    "name": "ipython",
    "version": 2
   },
   "file_extension": ".py",
   "mimetype": "text/x-python",
   "name": "python",
   "nbconvert_exporter": "python",
   "pygments_lexer": "ipython2",
   "version": "2.7.6"
  }
 },
 "nbformat": 4,
 "nbformat_minor": 0
}
