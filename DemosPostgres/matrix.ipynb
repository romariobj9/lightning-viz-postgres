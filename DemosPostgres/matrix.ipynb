{
 "cells": [
  {
   "cell_type": "markdown",
   "metadata": {},
   "source": [
    "# <img style='float: left' src=\"http://lightning-viz.github.io/images/logo.png\"> <br> <br> &nbsp;&nbsp;&nbsp;&nbsp;&nbsp;Matrix plots in <a href='http://lightning-viz.github.io/'><font color='#9175f0'>Lightning</font></a>"
   ]
  },
  {
   "cell_type": "markdown",
   "metadata": {},
   "source": [
    "## <hr> Configuracion"
   ]
  },
  {
   "cell_type": "code",
   "execution_count": 1,
   "metadata": {
    "collapsed": false
   },
   "outputs": [],
   "source": [
    "from lightning import Lightning\n",
    "\n",
    "from numpy import random, arange, asarray, corrcoef, argsort, array\n",
    "import networkx as nx\n"
   ]
  },
  {
   "cell_type": "markdown",
   "metadata": {},
   "source": [
    "## Conexion al Servidor"
   ]
  },
  {
   "cell_type": "code",
   "execution_count": 2,
   "metadata": {
    "collapsed": false
   },
   "outputs": [
    {
     "data": {
      "text/html": [
       "<div style='margin-top:8px'><img src='data:image/png;base64,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' width='30px' height='35px' style='display: inline-block; padding-right: 10px'></img><span>Lightning initialized</span></div>"
      ],
      "text/plain": [
       "<IPython.core.display.HTML object>"
      ]
     },
     "metadata": {},
     "output_type": "display_data"
    },
    {
     "name": "stdout",
     "output_type": "stream",
     "text": [
      "Connected to server at http://localhost:3000\n"
     ]
    },
    {
     "data": {
      "application/javascript": [
       "(function e(t,n,r){function s(o,u){if(!n[o]){if(!t[o]){var a=typeof require==\"function\"&&require;if(!u&&a)return a(o,!0);if(i)return i(o,!0);throw new Error(\"Cannot find module '\"+o+\"'\")}var f=n[o]={exports:{}};t[o][0].call(f.exports,function(e){var n=t[o][1][e];return s(n?n:e)},f,f.exports,e,t,n,r)}return n[o].exports}var i=typeof require==\"function\"&&require;for(var o=0;o<r.length;o++)s(r[o]);return s})({1:[function(require,module,exports){\n",
       "window.lightning = window.lightning || {};\n",
       "var lightningCommMap = {};\n",
       "var IPython = window.IPython;\n",
       "\n",
       "var readCommData = function(commData, field) {\n",
       "    try {\n",
       "        return commData.content.data[field];\n",
       "    } catch (err) {\n",
       "        return;\n",
       "    }\n",
       "};\n",
       "\n",
       "\n",
       "var init_comm = function() {\n",
       "    IPython.notebook.kernel.comm_manager.register_target('lightning', function(comm, data) {\n",
       "        var id = readCommData(data, 'id');\n",
       "        lightningCommMap[id] = comm;\n",
       "    });\n",
       "\n",
       "    window.lightning.comm_map = lightningCommMap;\n",
       "}\n",
       "\n",
       "\n",
       "if(IPython && IPython.notebook) {\n",
       "\n",
       "    if(IPython.notebook.kernel) {\n",
       "        init_comm();\n",
       "    }\n",
       "\n",
       "    IPython.notebook.events.on('kernel_connected.Kernel', init_comm);\n",
       "\n",
       "}\n",
       "\n",
       "\n",
       "},{}]},{},[1])\n",
       "//# sourceMappingURL=data:application/json;base64,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\n"
      ],
      "text/plain": [
       "<IPython.core.display.Javascript object>"
      ]
     },
     "metadata": {},
     "output_type": "display_data"
    }
   ],
   "source": [
    "lgn = Lightning(ipython=True)\n"
   ]
  },
  {
   "cell_type": "markdown",
   "metadata": {},
   "source": [
    "## <hr> Matrix simple"
   ]
  },
  {
   "cell_type": "markdown",
   "metadata": {},
   "source": [
    "Las matrices son formas útiles para visualizar tablas de datos densos.\n",
    "<br>\n",
    "En primer lugar mostramos una matriz aleatoria con estilos predeterminados .\n",
    "<br>\n",
    "Usted puede usar las flechas para cambiar el contraste (arriba/abajo) o el colormap (izquierda/derecha)\n"
   ]
  },
  {
   "cell_type": "code",
   "execution_count": 3,
   "metadata": {
    "collapsed": false,
    "scrolled": true
   },
   "outputs": [
    {
     "data": {
      "text/html": [
       "<meta name=\"viewport\" content=\"width=device-width, initial-scale=1, maximum-scale=1\"/><meta http-equiv=\"X-UA-Compatible\" content=\"IE=10; IE=9; IE=8; IE=7; IE=EDGE\"/><meta charset=\"UTF-8\"/><link href=\"//fonts.googleapis.com/css?family=Open+Sans:400,700\" rel=\"stylesheet\" type=\"text/css\"/><link rel=\"stylesheet\" href=\"http://localhost:3000/css/app.css\"/><div id=\"lightning-body\" class=\"container content wrap push\"><div class=\"feed-container\"><div data-model=\"visualization\" data-model-id=\"7ad29fec-4d35-4aa5-8f67-9767cdd48cdb\" class=\"feed-item-container\"><div data-type=\"lightning-matrix\" data-data=\"{&quot;matrix&quot;:[[-1.4852900855624656,-0.6493007290039797,-0.03954324766694855,-0.16911385089353456,-0.5550787665487501,-0.6490947359960396,1.6265079867382644,-0.4921348331481877,1.0141562488755596,-0.6207100665722401],[-0.6165831191930135,-1.4340610442712256,1.4256248715376472,-0.7738949398544751,1.3134480492440996,-1.285416115155988,1.5545082961790773,0.18465318742167908,0.48166599700934437,-1.0169405404907488],[1.6065723331848378,1.224613990614362,-0.4058907843087376,0.4102449668233363,0.5408462430858908,-0.5724370013474498,0.367520202425899,0.16289428530810543,0.6896485794021304,0.24129061664600318],[1.04307103074478,-1.1934640338414737,-0.2027790903127804,-3.171657098289602,-0.09853366212599515,0.5320833354233485,1.065171515096525,-1.468966620009518,-0.6635430100158924,0.5612827278278985],[0.5848889561729461,-0.38621704325918393,-0.45793854695279906,1.6470113364496421,-0.22468442580060666,1.7097620256497867,-1.4338564267309477,2.9174246990314243,1.5961892759521275,-2.499590359154298],[0.40012110084046204,-0.8806297427850119,0.9604090217391918,0.4618431209060844,-0.6393277010124472,-0.9637846246419303,-1.0889006981539118,2.5021550578876446,0.29894543105004956,-1.259505549195801],[-0.8212977332178175,2.1471173369730323,1.5618988649969865,-0.43751360657923427,-0.03037964224263108,0.12632281262842518,0.7695982871262548,0.3013528024746671,-0.8912367966893933,0.551580905605755],[-1.018145557390416,0.22473526169797575,0.06505699387866136,-1.8678931256331794,0.14372987357582417,0.922630829669208,0.0368460333086934,0.4530681105700394,0.011699831911056707,0.41340796465724167],[-0.6567266919805658,-1.3945735009831781,-1.1826830610558492,0.7874882373700824,-2.5909139325397907,0.4012439276513608,1.1477130859006328,0.8066361831353794,0.6677690119776741,-1.1304315185578542],[-0.131390155828359,0.5504187119812364,0.3490569614090919,0.7974215774945914,-1.0963924142290233,-1.4360083425160273,0.39296933306497805,-1.3013587348412357,-0.8426026785856044,-0.6419826489334924]]}\" data-images=\"[]\" data-options=\"{&quot;numbers&quot;:false,&quot;width&quot;:600,&quot;description&quot;:null,&quot;height&quot;:null}\" id=\"viz-7ad29fec-4d35-4aa5-8f67-9767cdd48cdb\" data-initialized=\"false\" class=\"feed-item\"></div></div></div></div><script>window.lightning = window.lightning || {};\n",
       "window.lightning.host = \"http://localhost:3000/\" || 'http://127.0.0.1:3000/';\n",
       "window.lightning.vizCount = (window.lightning.vizCount + 1) || 1;\n",
       "window.lightning.requiredVizTypes = window.lightning.requiredVizTypes || [];\n",
       "if(window.lightning.requiredVizTypes.indexOf(\"matrix\") === -1) {\n",
       "    window.lightning.requiredVizTypes.push(\"matrix\");\n",
       "}\n",
       "window._require = window.require;\n",
       "window.require = undefined;\n",
       "window._define = window.define;\n",
       "window.define = undefined;</script><script src=\"http://localhost:3000/js/embed.js\"></script>"
      ],
      "text/plain": [
       "<lightning.types.plots.Matrix at 0x7f36f4595bd0>"
      ]
     },
     "execution_count": 3,
     "metadata": {},
     "output_type": "execute_result"
    }
   ],
   "source": [
    "mat = random.randn(10,10)\n",
    "lgn.matrix(mat)"
   ]
  },
  {
   "cell_type": "markdown",
   "metadata": {},
   "source": [
    "## <hr> Formas diferentes"
   ]
  },
  {
   "cell_type": "markdown",
   "metadata": {},
   "source": [
    "Matrices rectanglulares se adecuaran al tamaño automaticamente."
   ]
  },
  {
   "cell_type": "code",
   "execution_count": 4,
   "metadata": {
    "collapsed": false
   },
   "outputs": [
    {
     "data": {
      "text/html": [
       "<meta name=\"viewport\" content=\"width=device-width, initial-scale=1, maximum-scale=1\"/><meta http-equiv=\"X-UA-Compatible\" content=\"IE=10; IE=9; IE=8; IE=7; IE=EDGE\"/><meta charset=\"UTF-8\"/><link href=\"//fonts.googleapis.com/css?family=Open+Sans:400,700\" rel=\"stylesheet\" type=\"text/css\"/><link rel=\"stylesheet\" href=\"http://localhost:3000/css/app.css\"/><div id=\"lightning-body\" class=\"container content wrap push\"><div class=\"feed-container\"><div data-model=\"visualization\" data-model-id=\"447eacfd-17fe-4cd0-83a9-cb3840b75e2c\" class=\"feed-item-container\"><div data-type=\"lightning-matrix\" data-data=\"{&quot;matrix&quot;:[[0.13565726405707973,0.3973970020862222,-0.17376611365245684,0.36314606779246833,0.12078089740006409,0.24968829113714391,0.3893422162783321,-0.009851842063874208,0.3918844388116569,0.9926799489570861,-1.4056586941042206,-0.6801253085026624,-1.18889810409115,-0.9477167274663989,0.5060193697721862,-1.5635413009652852,-0.20290113049551312,-2.1443645076417788,-0.26362678247173754,-0.7379607044693415],[1.5129021082416327,-0.3116738734286587,-0.45622411046047046,0.7670398723579213,0.33767670470221467,0.7322587372608819,-0.8361722217116853,0.9027712352447432,-1.8551991035946935,-1.723279271831965,0.8563053638792623,-0.8159056462291668,-0.8312138921809467,0.504553657771374,-0.35904662053430353,-0.8759148297692184,-1.759895998259418,1.0213484695410227,0.8194992146569036,0.8349307572661533],[1.3640573221265708,0.47135266470760945,-0.5854344615598736,-0.23248184777878372,0.9104690611784358,1.5376554838967995,-0.15270505629333098,0.295267736286521,-2.088451001818248,-0.6262631581606728,1.273189745803154,0.04301622375654714,-0.4715171337963165,0.4078043189836381,0.6981743683213143,0.4541222270026059,-1.6965859658976556,-0.5412884880758942,-1.6811661146136432,-0.5298662301550973],[-1.6649191365449456,-1.4183496793416266,0.4095770515716329,-1.4350150651466798,-1.5012533735804587,0.8510592903558806,0.23882271269435945,-0.23344908080961838,-0.0020256648259072987,-1.2831352924661177,-1.294691337586515,-0.12339326794138493,-1.2076717515149866,0.6080118475924817,-1.294523512230787,0.9530039409372274,-2.8268838947698782,-1.2396323344567957,-0.711335633726125,0.6295323869250344],[0.5487633854666559,0.9770674458794831,0.12516912282675735,0.8418765707198773,0.6996915497233442,-1.66762778187837,0.4599673652885619,-0.42221958182760927,0.6329143630358428,0.737608110267099,0.9590913156071896,-2.2291778263089213,1.5101634206321108,1.908936124416461,-0.6990115055197823,-0.38677480821000315,0.4069077895224761,-0.9387715382342785,-0.964011270723073,-0.47387913369170154],[0.8207045502809717,0.18717961120295123,-1.1612382147872906,-0.13996534155666013,-1.2018659199325428,0.22000277923008105,-0.5954622585632272,1.0315426702269634,0.42107466320379433,0.299446503353466,-1.2834971128561745,0.03406446495329847,0.8239087435808228,1.3920685367893493,-1.4221833136894548,0.73694907972204,-0.6508724735101425,1.4724793190094163,-0.8143525498031189,0.2091629733529881],[-0.044946083304777264,-0.6907336693121044,-1.3835758522264154,-2.5867682482040397,0.05894908481393091,-0.9321049933312457,0.23140522088405197,0.34089019355278205,0.5446070999994139,-0.12931676004570716,-0.3727672987708459,-0.9009853626988653,0.48573166425134917,-1.2234753027655492,-1.8368395181480002,1.4099292601711468,0.4779911540925215,-0.6350865825815941,0.04955777475068462,0.45555902026471917],[1.1195598757246907,0.5922970483027554,-0.271004438267745,-1.6544911978120913,-1.2947562419723888,-0.7247937603347042,0.18472231409268586,-0.2852879045309536,-0.6578043926550239,-0.5004213404728345,-0.3786789044302608,0.12289346428946271,0.14881376477721628,-0.000038139151868940263,2.1991546397786,-0.22464718397844713,-1.3960773357248855,0.22805506732441028,0.0944102128101343,-2.2527039678713945],[0.44007216973210384,0.4968681187605245,0.5373406936098162,0.2754705481196722,-1.324221559825433,1.8219444263751752,-0.2913822744939749,-1.3890056988082593,-0.5445521936660482,1.276304925220094,-0.800376649097673,-0.2710440930947923,1.9598691857031356,0.1733802892575579,-0.2665050932605553,0.6609312861763057,1.1795800345351115,-0.3430706180771042,-1.2263296246265003,-0.18548278692839282],[-2.1587081724856985,-0.37032249807853074,0.5270999863617652,-0.9141105959779776,0.2170073431307319,0.9793785921855732,0.42008749486949126,-0.9650910161976015,-0.5207657249217428,1.390200638391019,-0.9008589526471984,-4.134444255952806,-1.6166247603299755,-0.8522270359108847,-0.1636088966851733,-0.6381211430436879,0.05860549313802383,1.9224502525291354,-1.1789819054754418,1.4004934381716176]]}\" data-images=\"[]\" data-options=\"{&quot;numbers&quot;:false,&quot;width&quot;:600,&quot;description&quot;:null,&quot;height&quot;:null}\" id=\"viz-447eacfd-17fe-4cd0-83a9-cb3840b75e2c\" data-initialized=\"false\" class=\"feed-item\"></div></div></div></div><script>window.lightning = window.lightning || {};\n",
       "window.lightning.host = \"http://localhost:3000/\" || 'http://127.0.0.1:3000/';\n",
       "window.lightning.vizCount = (window.lightning.vizCount + 1) || 1;\n",
       "window.lightning.requiredVizTypes = window.lightning.requiredVizTypes || [];\n",
       "if(window.lightning.requiredVizTypes.indexOf(\"matrix\") === -1) {\n",
       "    window.lightning.requiredVizTypes.push(\"matrix\");\n",
       "}\n",
       "window._require = window.require;\n",
       "window.require = undefined;\n",
       "window._define = window.define;\n",
       "window.define = undefined;</script><script src=\"http://localhost:3000/js/embed.js\"></script>"
      ],
      "text/plain": [
       "<lightning.types.plots.Matrix at 0x7f36cdcaf710>"
      ]
     },
     "execution_count": 4,
     "metadata": {},
     "output_type": "execute_result"
    }
   ],
   "source": [
    "mat = random.randn(10,20)\n",
    "lgn.matrix(mat)"
   ]
  },
  {
   "cell_type": "code",
   "execution_count": 5,
   "metadata": {
    "collapsed": false
   },
   "outputs": [
    {
     "data": {
      "text/html": [
       "<meta name=\"viewport\" content=\"width=device-width, initial-scale=1, maximum-scale=1\"/><meta http-equiv=\"X-UA-Compatible\" content=\"IE=10; IE=9; IE=8; IE=7; IE=EDGE\"/><meta charset=\"UTF-8\"/><link href=\"//fonts.googleapis.com/css?family=Open+Sans:400,700\" rel=\"stylesheet\" type=\"text/css\"/><link rel=\"stylesheet\" href=\"http://localhost:3000/css/app.css\"/><div id=\"lightning-body\" class=\"container content wrap push\"><div class=\"feed-container\"><div data-model=\"visualization\" data-model-id=\"bd0c9be6-086e-45e8-9c9f-acc29a5d40c4\" class=\"feed-item-container\"><div data-type=\"lightning-matrix\" data-data=\"{&quot;matrix&quot;:[[-0.7487277915213342,-1.1760482868263913,0.41240215962521365,-1.1891313400967765,-0.3272725063875346,2.046985928661379,0.005830221100954494,-1.8329786255277576,0.2933870094169634,-1.8647539127976285],[-0.3515699134036997,-2.2790973842990683,-1.1354517452666826,-1.2790292372403689,0.6782424390164272,-1.3875748636750416,-0.3422308696719822,-1.4159554095412585,0.49438943313570294,-1.0318041587553417],[0.030221080709212953,-0.8287283687418128,1.3146690326454495,1.6675344421807308,-0.15766246450610946,-0.6255539482434964,0.7406956305048138,-1.1746951567838781,-0.6057782915909524,1.7638173245720452],[1.2781343192306747,0.7719260995639878,-0.6720163833588942,-0.7006163797235627,0.25852938286101146,0.5274599534847556,0.10282942818120057,-1.3723297270661974,-0.4929301325469273,1.1562433238498517],[-0.2346879339093238,-0.2731663437882495,-0.3782508098667599,0.2472563979662214,1.356704533295984,0.6257884520002056,0.7246927800259048,1.3577746980325298,0.33680302521912503,0.7497178790281851],[-1.7221454470486353,-0.60848061750483,-1.4846349842762874,-0.6063054921178107,0.3923532384806244,0.6037272846958497,0.8182585801839054,-1.1223531284919765,-0.27945268665976997,-1.3301740830773612],[-0.9838387627854616,1.5843123540245896,0.17114624958911737,-0.3320231750048614,1.425665117149346,-0.48875276400583745,-0.12390568863693392,0.18275728672942865,-2.1531764932660056,0.0982089615348097],[1.2298867303247032,-0.7242942174529924,-1.4912781330272047,0.5058426705552962,0.4298657203358382,1.3065426524571704,0.08378259359282154,0.5640860891405368,-0.5499009990713211,-1.5090118845470442],[-0.8226225442630907,1.5811028619470318,-0.07351243900870513,1.0974290593666582,1.4871090931127386,0.12355014841480544,2.1655350210376447,0.27194893593398806,1.1389905193195229,-1.1661843599998445],[-0.7734887752357764,0.9121469891686558,-0.5750275072758185,-1.5727404865443377,-0.4017545259521609,0.7190882790401932,-2.202920582651505,-0.9163932392103854,-0.6662460570926,0.4658038238515225],[1.353833365915052,0.1245524682722388,-0.9809163691589046,-0.4886951003989689,-0.21618547236979055,0.3565012751655371,-0.15089340741813634,-0.10807363035385632,0.8100488857276956,0.2775973414077312],[0.4393161863202202,-1.7012269071071848,0.8055848536212403,-1.2464613883528062,-0.33649382788292065,0.2418660744120451,-1.1476916314690926,0.7284942248405762,-0.9044760672412316,-0.06226325645418963],[-0.03227808092956164,-0.4405027079316803,-0.29628999636280506,1.4936516457737905,1.4916723785347898,-1.2673427041600211,-2.164927277418358,-2.050471905921751,-0.014392056708616133,-2.172055803493667],[-0.9793910074529426,-1.8214969124592941,-0.9723323745569107,-0.07821289553143385,0.04299299089985659,-1.3926009545733524,0.2446287505957727,0.3268895573920236,-2.194029350174645,1.44810823230409],[1.9536842709691213,1.6330042819360089,-0.5559959114193124,-2.2032542721497204,0.05653673734820347,-0.4883890906736503,1.6617407856676167,0.33156749887791453,0.09072724548169533,-1.0790737560278607],[0.21697390084052118,1.2019304446419414,-1.1260828260950957,-1.1676358876018647,0.2902205332059756,-0.8185157294170184,-0.3546482374059674,-0.12406681839362763,-1.3657860309665157,0.8324443228063291],[0.09529988820223863,-0.5214716097816837,0.5958078246962127,-0.14826061734266066,1.5578298140157605,-1.1686215251424574,0.8350904230127648,0.5796411687122612,-0.39016878328227544,-0.9028916906902533],[-1.8919912420697,2.3756417502152596,0.8202316688072819,-0.3995093523519583,-0.32992940510397395,-0.8877616261165676,-0.17317681998544987,0.004558382608801635,0.385274024589166,0.14174657033472385],[0.40097771037534363,1.7537344726349668,-0.47064392887196654,-0.9039282771221235,1.601361412508151,0.6192886376597581,-0.5660644352549566,1.2705162443119304,0.5757303460012028,-0.3772241524897823],[1.5752915390084414,0.6521580833533803,-0.021644787355200194,-0.8522129776168899,0.13583964432559323,-0.16222209005491225,0.6047053201750695,0.5099022725028266,0.7286928507901422,0.5571775532299234]]}\" data-images=\"[]\" data-options=\"{&quot;numbers&quot;:false,&quot;width&quot;:600,&quot;description&quot;:null,&quot;height&quot;:null}\" id=\"viz-bd0c9be6-086e-45e8-9c9f-acc29a5d40c4\" data-initialized=\"false\" class=\"feed-item\"></div></div></div></div><script>window.lightning = window.lightning || {};\n",
       "window.lightning.host = \"http://localhost:3000/\" || 'http://127.0.0.1:3000/';\n",
       "window.lightning.vizCount = (window.lightning.vizCount + 1) || 1;\n",
       "window.lightning.requiredVizTypes = window.lightning.requiredVizTypes || [];\n",
       "if(window.lightning.requiredVizTypes.indexOf(\"matrix\") === -1) {\n",
       "    window.lightning.requiredVizTypes.push(\"matrix\");\n",
       "}\n",
       "window._require = window.require;\n",
       "window.require = undefined;\n",
       "window._define = window.define;\n",
       "window.define = undefined;</script><script src=\"http://localhost:3000/js/embed.js\"></script>"
      ],
      "text/plain": [
       "<lightning.types.plots.Matrix at 0x7f36cdccbc50>"
      ]
     },
     "execution_count": 5,
     "metadata": {},
     "output_type": "execute_result"
    }
   ],
   "source": [
    "mat = random.randn(20,10)\n",
    "lgn.matrix(mat)"
   ]
  },
  {
   "cell_type": "markdown",
   "metadata": {},
   "source": [
    "## <hr> Colores"
   ]
  },
  {
   "cell_type": "markdown",
   "metadata": {},
   "source": [
    "Las matrices se pueden representar usando algun colorbrewer colormaps."
   ]
  },
  {
   "cell_type": "code",
   "execution_count": 6,
   "metadata": {
    "collapsed": false
   },
   "outputs": [
    {
     "data": {
      "text/html": [
       "<meta name=\"viewport\" content=\"width=device-width, initial-scale=1, maximum-scale=1\"/><meta http-equiv=\"X-UA-Compatible\" content=\"IE=10; IE=9; IE=8; IE=7; IE=EDGE\"/><meta charset=\"UTF-8\"/><link href=\"//fonts.googleapis.com/css?family=Open+Sans:400,700\" rel=\"stylesheet\" type=\"text/css\"/><link rel=\"stylesheet\" href=\"http://localhost:3000/css/app.css\"/><div id=\"lightning-body\" class=\"container content wrap push\"><div class=\"feed-container\"><div data-model=\"visualization\" data-model-id=\"8aacf6ed-9c25-446d-b285-0d6dbaf04b1d\" class=\"feed-item-container\"><div data-type=\"lightning-matrix\" data-data=\"{&quot;matrix&quot;:[[0.7643683499030186,0.515483726065982,0.16425039779986106,0.0011035951544952072,0.5762411103636251,0.01646064911363443,0.1382077361501043,0.8553321585568694,0.6189462654409547,0.5620940936646107],[0.4041262123315197,0.6016016648383579,0.031806477189640026,0.5247773910205155,0.553905002513516,0.2805606777053252,0.9890877655052076,0.8695785917426779,0.1448150406837586,0.36495136030878295],[0.4489478401359094,0.9284651331329132,0.9644096404543353,0.39805886476561525,0.7072373353852188,0.3273964667804714,0.013163418805000049,0.3436753634389902,0.13860351208764576,0.5232665695501805],[0.6247762924683623,0.562673551988164,0.8333971133789713,0.545005839419113,0.2701593507917269,0.021072461459450187,0.7722250245481775,0.6838677044934938,0.3880779432266763,0.9669429243207481],[0.04105367121593828,0.4735060292991312,0.3424441768316938,0.030185656180620413,0.40245942611200347,0.4681105158029366,0.5046932906300576,0.4870619330320286,0.35440143160876825,0.11919214284326352],[0.7817387680236042,0.8896973078340862,0.8168920928218292,0.8044918160491642,0.08552479114686196,0.2988551282988954,0.840813649488787,0.3222671752141104,0.6978242012684562,0.9289454219941303],[0.44066472458039896,0.8388749444375134,0.863533141945131,0.6742832758575579,0.8045406978175604,0.6981552592870817,0.17259884357157906,0.8642196194448124,0.9843795656705696,0.5823245332452384],[0.1640298296124092,0.8039836820053975,0.9324714671889938,0.06500676994892474,0.02616055430788289,0.02585571653075258,0.3820328898994013,0.8243799721538178,0.05646080818568511,0.9746436572407409],[0.2328084833312396,0.6359691706416631,0.4218931675281744,0.6056894696883075,0.8894945692862991,0.015820242437553422,0.08533098059393218,0.18556055170661767,0.5685136572192608,0.6936593581314014],[0.9294398850411509,0.6992023787972402,0.7263334635790256,0.7343010022229797,0.15457089076765185,0.6863222177338858,0.6998017861435485,0.8764796763783125,0.2905209707838122,0.8222158221211975]],&quot;colormap&quot;:&quot;Reds&quot;}\" data-images=\"[]\" data-options=\"{&quot;numbers&quot;:false,&quot;width&quot;:600,&quot;description&quot;:null,&quot;height&quot;:null}\" id=\"viz-8aacf6ed-9c25-446d-b285-0d6dbaf04b1d\" data-initialized=\"false\" class=\"feed-item\"></div></div></div></div><script>window.lightning = window.lightning || {};\n",
       "window.lightning.host = \"http://localhost:3000/\" || 'http://127.0.0.1:3000/';\n",
       "window.lightning.vizCount = (window.lightning.vizCount + 1) || 1;\n",
       "window.lightning.requiredVizTypes = window.lightning.requiredVizTypes || [];\n",
       "if(window.lightning.requiredVizTypes.indexOf(\"matrix\") === -1) {\n",
       "    window.lightning.requiredVizTypes.push(\"matrix\");\n",
       "}\n",
       "window._require = window.require;\n",
       "window.require = undefined;\n",
       "window._define = window.define;\n",
       "window.define = undefined;</script><script src=\"http://localhost:3000/js/embed.js\"></script>"
      ],
      "text/plain": [
       "<lightning.types.plots.Matrix at 0x7f36e4542110>"
      ]
     },
     "execution_count": 6,
     "metadata": {},
     "output_type": "execute_result"
    }
   ],
   "source": [
    "mat = random.rand(10,10)\n",
    "lgn.matrix(mat, colormap='Reds')"
   ]
  },
  {
   "cell_type": "code",
   "execution_count": 7,
   "metadata": {
    "collapsed": false
   },
   "outputs": [
    {
     "data": {
      "text/html": [
       "<meta name=\"viewport\" content=\"width=device-width, initial-scale=1, maximum-scale=1\"/><meta http-equiv=\"X-UA-Compatible\" content=\"IE=10; IE=9; IE=8; IE=7; IE=EDGE\"/><meta charset=\"UTF-8\"/><link href=\"//fonts.googleapis.com/css?family=Open+Sans:400,700\" rel=\"stylesheet\" type=\"text/css\"/><link rel=\"stylesheet\" href=\"http://localhost:3000/css/app.css\"/><div id=\"lightning-body\" class=\"container content wrap push\"><div class=\"feed-container\"><div data-model=\"visualization\" data-model-id=\"a033c86c-2875-4724-aff2-eacce8c13734\" class=\"feed-item-container\"><div data-type=\"lightning-matrix\" data-data=\"{&quot;matrix&quot;:[[0.11230854451872174,0.8283996250247438,0.005743142825297198,0.07954366135505053,0.24159665657883667,0.32532291195976426,0.5370087523860682,0.8386505923501544,0.07536747770460994,0.7096884898364819],[0.7992271288935959,0.6030789202334286,0.970404925935099,0.8698665770909921,0.976435007772478,0.061700030599199374,0.6606864508840015,0.6276156903675348,0.669328003006044,0.9459094424085399],[0.2160257414531006,0.5049350567552926,0.3275424997080437,0.809163802503103,0.44697565116979254,0.5742374422352773,0.2207490762821962,0.950585148445883,0.6478671721278143,0.10538072724424696],[0.9800908589223709,0.23722825524819813,0.009177131916203285,0.8841559473500155,0.0038506190942413365,0.931251571984034,0.016009915983854484,0.38594368847256966,0.7865955697749633,0.36873562391263015],[0.828618413687288,0.3306624497510222,0.4224681171139113,0.8138422181657754,0.492615354849007,0.05341096700889758,0.9021640978810418,0.1445078574093024,0.5103969157925394,0.9239078792022385],[0.6068317716274214,0.5931991246177547,0.5204528236415135,0.1609196379532709,0.945987269925472,0.07428913919391444,0.6126150211778428,0.5801090487998839,0.2589251209400617,0.8364496326855018],[0.5337021669551267,0.3381373517150371,0.4290503784227796,0.7224451227605273,0.5122544432952557,0.2515443167491389,0.32567180596964307,0.9114252006987466,0.029748312241191344,0.4056743492626087],[0.0033751167730127207,0.4420567130192308,0.8876938041833747,0.0772414679949891,0.44757342401708944,0.7470401438549853,0.2221779442473466,0.7177858958078112,0.8568366385154288,0.16575915905345628],[0.4084061630083162,0.054598506171476324,0.5327177265296172,0.03815808802744536,0.9820216142474367,0.8302079752172125,0.583717789450548,0.7502755627302972,0.41842222103581694,0.28216467553110114],[0.3098019293511338,0.2480318481117788,0.28012298829186577,0.07407874894621724,0.10341041812637608,0.33710057045483455,0.08891944248732941,0.8714634314464604,0.3311139443539203,0.5316837424229338]],&quot;colormap&quot;:&quot;Spectral&quot;}\" data-images=\"[]\" data-options=\"{&quot;numbers&quot;:false,&quot;width&quot;:600,&quot;description&quot;:null,&quot;height&quot;:null}\" id=\"viz-a033c86c-2875-4724-aff2-eacce8c13734\" data-initialized=\"false\" class=\"feed-item\"></div></div></div></div><script>window.lightning = window.lightning || {};\n",
       "window.lightning.host = \"http://localhost:3000/\" || 'http://127.0.0.1:3000/';\n",
       "window.lightning.vizCount = (window.lightning.vizCount + 1) || 1;\n",
       "window.lightning.requiredVizTypes = window.lightning.requiredVizTypes || [];\n",
       "if(window.lightning.requiredVizTypes.indexOf(\"matrix\") === -1) {\n",
       "    window.lightning.requiredVizTypes.push(\"matrix\");\n",
       "}\n",
       "window._require = window.require;\n",
       "window.require = undefined;\n",
       "window._define = window.define;\n",
       "window.define = undefined;</script><script src=\"http://localhost:3000/js/embed.js\"></script>"
      ],
      "text/plain": [
       "<lightning.types.plots.Matrix at 0x7f36cdcaf510>"
      ]
     },
     "execution_count": 7,
     "metadata": {},
     "output_type": "execute_result"
    }
   ],
   "source": [
    "mat = random.rand(10,10)\n",
    "lgn.matrix(mat, colormap='Spectral')"
   ]
  },
  {
   "cell_type": "markdown",
   "metadata": {},
   "source": [
    "## <hr> Etiquetas"
   ]
  },
  {
   "cell_type": "markdown",
   "metadata": {},
   "source": [
    "\n",
    "Puede etiquetar las filas y columnas de una matriz . \n",
    "Al hacer clic en las etiquetas de texto se hará hincapié en las filas y columnas."
   ]
  },
  {
   "cell_type": "code",
   "execution_count": 8,
   "metadata": {
    "collapsed": false
   },
   "outputs": [
    {
     "data": {
      "text/html": [
       "<meta name=\"viewport\" content=\"width=device-width, initial-scale=1, maximum-scale=1\"/><meta http-equiv=\"X-UA-Compatible\" content=\"IE=10; IE=9; IE=8; IE=7; IE=EDGE\"/><meta charset=\"UTF-8\"/><link href=\"//fonts.googleapis.com/css?family=Open+Sans:400,700\" rel=\"stylesheet\" type=\"text/css\"/><link rel=\"stylesheet\" href=\"http://localhost:3000/css/app.css\"/><div id=\"lightning-body\" class=\"container content wrap push\"><div class=\"feed-container\"><div data-model=\"visualization\" data-model-id=\"be7aad63-d17b-445a-a855-7c3be0c962fe\" class=\"feed-item-container\"><div data-type=\"lightning-matrix\" data-data=\"{&quot;rowLabels&quot;:[&quot;row 0&quot;,&quot;row 1&quot;,&quot;row 2&quot;,&quot;row 3&quot;,&quot;row 4&quot;,&quot;row 5&quot;,&quot;row 6&quot;,&quot;row 7&quot;,&quot;row 8&quot;,&quot;row 9&quot;],&quot;matrix&quot;:[[0,1,2,3,4,5,6],[7,8,9,10,11,12,13],[14,15,16,17,18,19,20],[21,22,23,24,25,26,27],[28,29,30,31,32,33,34],[35,36,37,38,39,40,41],[42,43,44,45,46,47,48],[49,50,51,52,53,54,55],[56,57,58,59,60,61,62],[63,64,65,66,67,68,69]],&quot;columnLabels&quot;:[&quot;col 0&quot;,&quot;col 1&quot;,&quot;col 2&quot;,&quot;col 3&quot;,&quot;col 4&quot;,&quot;col 5&quot;,&quot;col 6&quot;]}\" data-images=\"[]\" data-options=\"{&quot;numbers&quot;:false,&quot;width&quot;:600,&quot;description&quot;:null,&quot;height&quot;:null}\" id=\"viz-be7aad63-d17b-445a-a855-7c3be0c962fe\" data-initialized=\"false\" class=\"feed-item\"></div></div></div></div><script>window.lightning = window.lightning || {};\n",
       "window.lightning.host = \"http://localhost:3000/\" || 'http://127.0.0.1:3000/';\n",
       "window.lightning.vizCount = (window.lightning.vizCount + 1) || 1;\n",
       "window.lightning.requiredVizTypes = window.lightning.requiredVizTypes || [];\n",
       "if(window.lightning.requiredVizTypes.indexOf(\"matrix\") === -1) {\n",
       "    window.lightning.requiredVizTypes.push(\"matrix\");\n",
       "}\n",
       "window._require = window.require;\n",
       "window.require = undefined;\n",
       "window._define = window.define;\n",
       "window.define = undefined;</script><script src=\"http://localhost:3000/js/embed.js\"></script>"
      ],
      "text/plain": [
       "<lightning.types.plots.Matrix at 0x7f36f4595d90>"
      ]
     },
     "execution_count": 8,
     "metadata": {},
     "output_type": "execute_result"
    }
   ],
   "source": [
    "n, m = (10, 7)\n",
    "mat = arange(n*m).reshape(n,m)\n",
    "rows = ['row ' + str(i) for i in range(n)]\n",
    "columns = ['col ' + str(i) for i in range(m)]\n",
    "\n",
    "lgn.matrix(mat, row_labels=rows, column_labels=columns)"
   ]
  },
  {
   "cell_type": "markdown",
   "metadata": {},
   "source": [
    "También se puede activar en el etiquetado de las celdas por su valor "
   ]
  },
  {
   "cell_type": "code",
   "execution_count": 9,
   "metadata": {
    "collapsed": false
   },
   "outputs": [
    {
     "name": "stdout",
     "output_type": "stream",
     "text": [
      "[[ 0  1  2  3  4  5  6]\n",
      " [ 7  8  9 10 11 12 13]\n",
      " [14 15 16 17 18 19 20]\n",
      " [21 22 23 24 25 26 27]\n",
      " [28 29 30 31 32 33 34]\n",
      " [35 36 37 38 39 40 41]\n",
      " [42 43 44 45 46 47 48]\n",
      " [49 50 51 52 53 54 55]\n",
      " [56 57 58 59 60 61 62]\n",
      " [63 64 65 66 67 68 69]]\n"
     ]
    },
    {
     "data": {
      "text/html": [
       "<meta name=\"viewport\" content=\"width=device-width, initial-scale=1, maximum-scale=1\"/><meta http-equiv=\"X-UA-Compatible\" content=\"IE=10; IE=9; IE=8; IE=7; IE=EDGE\"/><meta charset=\"UTF-8\"/><link href=\"//fonts.googleapis.com/css?family=Open+Sans:400,700\" rel=\"stylesheet\" type=\"text/css\"/><link rel=\"stylesheet\" href=\"http://localhost:3000/css/app.css\"/><div id=\"lightning-body\" class=\"container content wrap push\"><div class=\"feed-container\"><div data-model=\"visualization\" data-model-id=\"a5331f54-6ec8-4131-b02c-cc67e7097c97\" class=\"feed-item-container\"><div data-type=\"lightning-matrix\" data-data=\"{&quot;matrix&quot;:[[0,1,2,3,4,5,6],[7,8,9,10,11,12,13],[14,15,16,17,18,19,20],[21,22,23,24,25,26,27],[28,29,30,31,32,33,34],[35,36,37,38,39,40,41],[42,43,44,45,46,47,48],[49,50,51,52,53,54,55],[56,57,58,59,60,61,62],[63,64,65,66,67,68,69]]}\" data-images=\"[]\" data-options=\"{&quot;numbers&quot;:true,&quot;width&quot;:600,&quot;description&quot;:null,&quot;height&quot;:null}\" id=\"viz-a5331f54-6ec8-4131-b02c-cc67e7097c97\" data-initialized=\"false\" class=\"feed-item\"></div></div></div></div><script>window.lightning = window.lightning || {};\n",
       "window.lightning.host = \"http://localhost:3000/\" || 'http://127.0.0.1:3000/';\n",
       "window.lightning.vizCount = (window.lightning.vizCount + 1) || 1;\n",
       "window.lightning.requiredVizTypes = window.lightning.requiredVizTypes || [];\n",
       "if(window.lightning.requiredVizTypes.indexOf(\"matrix\") === -1) {\n",
       "    window.lightning.requiredVizTypes.push(\"matrix\");\n",
       "}\n",
       "window._require = window.require;\n",
       "window.require = undefined;\n",
       "window._define = window.define;\n",
       "window.define = undefined;</script><script src=\"http://localhost:3000/js/embed.js\"></script>"
      ],
      "text/plain": [
       "<lightning.types.plots.Matrix at 0x7f36f45959d0>"
      ]
     },
     "execution_count": 9,
     "metadata": {},
     "output_type": "execute_result"
    }
   ],
   "source": [
    "mat = arange(n*m).reshape(n,m)\n",
    "print mat\n",
    "\n",
    "lgn.matrix(mat, numbers=True)"
   ]
  },
  {
   "cell_type": "markdown",
   "metadata": {
    "collapsed": true
   },
   "source": [
    "## Ejemplo Matrix con valores extraidos desde la base de datos"
   ]
  },
  {
   "cell_type": "code",
   "execution_count": 10,
   "metadata": {
    "collapsed": true
   },
   "outputs": [],
   "source": [
    "import psycopg2, psycopg2.extras\n",
    "try:\n",
    "    conn = psycopg2.connect(\"dbname='gp' user='roma' host='localhost' password='roma'\")\n",
    "except:\n",
    "    print \"I am unable to connect to the database\"\n",
    "cur = conn.cursor()"
   ]
  },
  {
   "cell_type": "code",
   "execution_count": 11,
   "metadata": {
    "collapsed": true
   },
   "outputs": [],
   "source": [
    "cur.execute(\"\"\"SELECT cantidad,nomempresa from produccion inner join empresas on produccion.idempresa=empresas.idempresa where anio=2004 and idsubtipo =2\"\"\")\n",
    "rows = cur.fetchall()\n",
    "i=0\n",
    "x=[]\n",
    "y=[]\n",
    "columns=[2004,2005,2006,2007]\n",
    "nomEmpresa=[]\n",
    "for row in rows:\n",
    "    i=i+1\n",
    "    x.append(int(row[0]))\n",
    "    \n",
    "    if i == 4:\n",
    "        nomEmpresa.append(row[1])\n",
    "        y.append(x)\n",
    "        del x\n",
    "        x=[]\n",
    "        i=0 "
   ]
  },
  {
   "cell_type": "markdown",
   "metadata": {},
   "source": [
    "## Energia  producida por Biomasa "
   ]
  },
  {
   "cell_type": "markdown",
   "metadata": {},
   "source": [
    "<br> \n",
    "La siguiente grafica nos muestra la energia producida por 8 empresas electricas en el que se refleja la cantidad producida en cada una e las parcelas coloreadas , segun su opacidad tendran un valor mas alto y mientras mas claras sean su valor sera mas reducido"
   ]
  },
  {
   "cell_type": "code",
   "execution_count": 12,
   "metadata": {
    "collapsed": false
   },
   "outputs": [
    {
     "data": {
      "text/html": [
       "<meta name=\"viewport\" content=\"width=device-width, initial-scale=1, maximum-scale=1\"/><meta http-equiv=\"X-UA-Compatible\" content=\"IE=10; IE=9; IE=8; IE=7; IE=EDGE\"/><meta charset=\"UTF-8\"/><link href=\"//fonts.googleapis.com/css?family=Open+Sans:400,700\" rel=\"stylesheet\" type=\"text/css\"/><link rel=\"stylesheet\" href=\"http://localhost:3000/css/app.css\"/><div id=\"lightning-body\" class=\"container content wrap push\"><div class=\"feed-container\"><div data-model=\"visualization\" data-model-id=\"d6f4e7f8-5df2-4f8a-acc8-ad8a48e2ced9\" class=\"feed-item-container\"><div data-type=\"lightning-matrix\" data-data=\"{&quot;rowLabels&quot;:[&quot;CELEC-Termoesmeraldas&quot;,&quot;CNEL-Esmeraldas&quot;,&quot;CNEL-Sto. Domingo&quot;,&quot;E.E. Cotopaxi&quot;,&quot;E.E. Riobamba&quot;,&quot;Elecaustro&quot;,&quot;Ecoelectric&quot;,&quot;Agip&quot;],&quot;colormap&quot;:&quot;Blues&quot;,&quot;matrix&quot;:[[15,1843,13967,0],[1693,248,21621,31],[2106,3280,15469,44],[49857,2037,540,15581],[94272,2454,411,6532],[14,4706,1703,2406],[8247,257569,2949,1],[1,185727,4144,157]],&quot;columnLabels&quot;:[2004,2005,2006,2007]}\" data-images=\"[]\" data-options=\"{&quot;numbers&quot;:true,&quot;width&quot;:600,&quot;description&quot;:null,&quot;height&quot;:null}\" id=\"viz-d6f4e7f8-5df2-4f8a-acc8-ad8a48e2ced9\" data-initialized=\"false\" class=\"feed-item\"></div></div></div></div><script>window.lightning = window.lightning || {};\n",
       "window.lightning.host = \"http://localhost:3000/\" || 'http://127.0.0.1:3000/';\n",
       "window.lightning.vizCount = (window.lightning.vizCount + 1) || 1;\n",
       "window.lightning.requiredVizTypes = window.lightning.requiredVizTypes || [];\n",
       "if(window.lightning.requiredVizTypes.indexOf(\"matrix\") === -1) {\n",
       "    window.lightning.requiredVizTypes.push(\"matrix\");\n",
       "}\n",
       "window._require = window.require;\n",
       "window.require = undefined;\n",
       "window._define = window.define;\n",
       "window.define = undefined;</script><script src=\"http://localhost:3000/js/embed.js\"></script>"
      ],
      "text/plain": [
       "<lightning.types.plots.Matrix at 0x7f36c9dca410>"
      ]
     },
     "execution_count": 12,
     "metadata": {},
     "output_type": "execute_result"
    }
   ],
   "source": [
    "lgn.matrix(y,row_labels=nomEmpresa,column_labels=columns, colormap='Blues',numbers=True)"
   ]
  },
  {
   "cell_type": "code",
   "execution_count": null,
   "metadata": {
    "collapsed": true
   },
   "outputs": [],
   "source": []
  },
  {
   "cell_type": "code",
   "execution_count": null,
   "metadata": {
    "collapsed": true
   },
   "outputs": [],
   "source": []
  }
 ],
 "metadata": {
  "kernelspec": {
   "display_name": "Python 2",
   "language": "python",
   "name": "python2"
  },
  "language_info": {
   "codemirror_mode": {
    "name": "ipython",
    "version": 2
   },
   "file_extension": ".py",
   "mimetype": "text/x-python",
   "name": "python",
   "nbconvert_exporter": "python",
   "pygments_lexer": "ipython2",
   "version": "2.7.6"
  }
 },
 "nbformat": 4,
 "nbformat_minor": 0
}
