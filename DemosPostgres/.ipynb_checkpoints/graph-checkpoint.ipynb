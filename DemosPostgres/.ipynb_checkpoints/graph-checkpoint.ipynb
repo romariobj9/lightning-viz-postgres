{
 "cells": [
  {
   "cell_type": "markdown",
   "metadata": {},
   "source": [
    "# <img style='float: left' src=\"http://lightning-viz.github.io/images/logo.png\"> <br> <br> &nbsp;&nbsp;&nbsp;&nbsp;&nbsp;Graph plots in <a href='http://lightning-viz.github.io/'><font color='#9175f0'>Lightning</font></a>"
   ]
  },
  {
   "cell_type": "markdown",
   "metadata": {},
   "source": [
    "## <hr> Setup"
   ]
  },
  {
   "cell_type": "code",
   "execution_count": 1,
   "metadata": {
    "collapsed": false
   },
   "outputs": [],
   "source": [
    "import os\n",
    "from lightning import Lightning\n",
    "\n",
    "from numpy import random, asarray, argmin\n",
    "from colorsys import hsv_to_rgb\n",
    "import networkx as nx"
   ]
  },
  {
   "cell_type": "markdown",
   "metadata": {},
   "source": [
    "## Conectandose al servidor"
   ]
  },
  {
   "cell_type": "code",
   "execution_count": 2,
   "metadata": {
    "collapsed": false
   },
   "outputs": [
    {
     "data": {
      "text/html": [
       "<div style='margin-top:8px'><img src='data:image/png;base64,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' width='30px' height='35px' style='display: inline-block; padding-right: 10px'></img><span>Lightning initialized</span></div>"
      ],
      "text/plain": [
       "<IPython.core.display.HTML object>"
      ]
     },
     "metadata": {},
     "output_type": "display_data"
    },
    {
     "name": "stdout",
     "output_type": "stream",
     "text": [
      "Connected to server at http://localhost:3000\n"
     ]
    },
    {
     "data": {
      "application/javascript": [
       "(function e(t,n,r){function s(o,u){if(!n[o]){if(!t[o]){var a=typeof require==\"function\"&&require;if(!u&&a)return a(o,!0);if(i)return i(o,!0);throw new Error(\"Cannot find module '\"+o+\"'\")}var f=n[o]={exports:{}};t[o][0].call(f.exports,function(e){var n=t[o][1][e];return s(n?n:e)},f,f.exports,e,t,n,r)}return n[o].exports}var i=typeof require==\"function\"&&require;for(var o=0;o<r.length;o++)s(r[o]);return s})({1:[function(require,module,exports){\n",
       "window.lightning = window.lightning || {};\n",
       "var lightningCommMap = {};\n",
       "var IPython = window.IPython;\n",
       "\n",
       "var readCommData = function(commData, field) {\n",
       "    try {\n",
       "        return commData.content.data[field];\n",
       "    } catch (err) {\n",
       "        return;\n",
       "    }\n",
       "};\n",
       "\n",
       "\n",
       "var init_comm = function() {\n",
       "    IPython.notebook.kernel.comm_manager.register_target('lightning', function(comm, data) {\n",
       "        var id = readCommData(data, 'id');\n",
       "        lightningCommMap[id] = comm;\n",
       "    });\n",
       "\n",
       "    window.lightning.comm_map = lightningCommMap;\n",
       "}\n",
       "\n",
       "\n",
       "if(IPython && IPython.notebook) {\n",
       "\n",
       "    if(IPython.notebook.kernel) {\n",
       "        init_comm();\n",
       "    }\n",
       "\n",
       "    IPython.notebook.events.on('kernel_connected.Kernel', init_comm);\n",
       "\n",
       "}\n",
       "\n",
       "\n",
       "},{}]},{},[1])\n",
       "//# sourceMappingURL=data:application/json;base64,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\n"
      ],
      "text/plain": [
       "<IPython.core.display.Javascript object>"
      ]
     },
     "metadata": {},
     "output_type": "display_data"
    }
   ],
   "source": [
    "lgn = Lightning(ipython=True)"
   ]
  },
  {
   "cell_type": "markdown",
   "metadata": {},
   "source": [
    "## Ejemplo Graph con datos extraidos de una base de datos"
   ]
  },
  {
   "cell_type": "code",
   "execution_count": 3,
   "metadata": {
    "collapsed": false
   },
   "outputs": [],
   "source": [
    "import psycopg2, psycopg2.extras\n",
    "try:\n",
    "    conn = psycopg2.connect(\"dbname='gp' user='roma' host='localhost' password='roma'\")\n",
    "except:\n",
    "    print \"I am unable to connect to the database\"\n",
    "cur = conn.cursor()"
   ]
  },
  {
   "cell_type": "code",
   "execution_count": 4,
   "metadata": {
    "collapsed": false
   },
   "outputs": [],
   "source": [
    "cur.execute(\"\"\"SELECT subtipos.idsubtipo,empresas.idempresa,nomempresa,nomsubtipo from produccion inner join empresas on produccion.idempresa=empresas.idempresa inner join subtipos on produccion.idsubtipo=subtipos.idsubtipo where anio=2004\"\"\")\n",
    "rows = cur.fetchall()\n",
    "i=1\n",
    "a=0\n",
    "x=[]\n",
    "y=[]\n",
    "for row in rows:\n",
    "    i=i+1\n",
    "    x.append(a)\n",
    "    y.append([int(row[0]),int(row[1])])\n",
    "    if i == 35:\n",
    "        a=a+1\n",
    "        i=0"
   ]
  },
  {
   "cell_type": "markdown",
   "metadata": {},
   "source": [
    "## Relacion entre todas las empresas y todos los tipos de Generadores de Energia(Hidraulica,Biomasa ,Solar , Eolica...) "
   ]
  },
  {
   "cell_type": "markdown",
   "metadata": {},
   "source": [
    "Esta grafica representa la relacion entre todas las empresas y todos los tipos de energia , la grafica nos ayuda a la representacion de una cantidad elevada de uniones , y nos ayuda a hacer visible los nodos que se unen entre si al momento de hacer click en un nodo."
   ]
  },
  {
   "cell_type": "code",
   "execution_count": 5,
   "metadata": {
    "collapsed": false
   },
   "outputs": [
    {
     "data": {
      "text/html": [
       "<meta name=\"viewport\" content=\"width=device-width, initial-scale=1, maximum-scale=1\"/><meta http-equiv=\"X-UA-Compatible\" content=\"IE=10; IE=9; IE=8; IE=7; IE=EDGE\"/><meta charset=\"UTF-8\"/><link href=\"//fonts.googleapis.com/css?family=Open+Sans:400,700\" rel=\"stylesheet\" type=\"text/css\"/><link rel=\"stylesheet\" href=\"http://localhost:3000/css/app.css\"/><div id=\"lightning-body\" class=\"container content wrap push\"><div class=\"feed-container\"><div data-model=\"visualization\" data-model-id=\"34b6a288-86cf-419a-932d-d60a7a5b6c36\" class=\"feed-item-container\"><div data-type=\"lightning-graph\" data-data=\"{&quot;nodes&quot;:[[0.5530574971045875,0.9814639085997775],[0.5633909593391494,0.9851886258320844],[0.5313197198379753,0.6390213096242878],[0.12043046162084026,0.2922227073601611],[0.5891709148015897,0.5921915937206815],[0.6087257545898899,0.8584419036403982],[0.1256386002617279,0.5976602866966834],[0.022648970387166067,0.2779993348294205],[0.9756031465269678,0.9803908095112468],[0.6507605699036293,0.8024978298136866],[0.4335567427101612,0.5091900431901096],[0.8013509170786755,0.16407646741207882],[0.13604610433575892,0.5182996357746483],[0.23343064170778172,0.4983257934993579],[0.4853682599707274,0.4667009627852371],[0.326712779501411,0.2315347362996184],[0.28566591315049583,0.3309385790099463],[0.5782512363757061,0.6391042616182677],[0.6689156967336112,0.2727354107723813],[0.4976611046568771,0.5746077402493546],[0.6102432540254665,0.12719707511346168],[0.07972312663294745,0.04520679718166021],[0.54339354270498,0.7429783496484592],[0.29250843926505543,0.9400445500955087],[0.6602029186733085,0.6518667956756927],[0.8624946576639199,0.48010455347091663],[0.6418116151117446,0.42801857587141634],[0.27232144126835023,0.7740382410563847],[0.7066911734962628,0.6216135456683631],[0.9220596659210102,0.7976174729878888],[0.4116161707142656,0.3889430298931814],[0.4822140338237968,0.4092320888726234],[0.3365993206998157,0.5328277818780915],[0.016722262481489336,0.1882932765315759],[0.49883810656931704,0.383799727081758],[0.6978126554448011,0.2615073898791377],[0.9656439200363791,0.727624110423167],[0.8942151409190523,0.920229416545209],[0.3703045545790513,0.7590041937359528],[0.5198452448549573,0.4649139407322075],[0.7955145848516013,0.8134070204528214],[0.550375612093026,0.7035612361393548],[0.10778659067271112,0.3083548117221482],[0.9416953524270866,0.14348656986265684],[0.016130436304769624,0.7007326904330342],[0.8835495059179982,0.9967816263713049],[0.076125937943604,0.44378287205764266],[0.36299311432765025,0.9649452762680072],[0.622101932599431,0.25624699441664944],[0.024538098599894975,0.14494885317482642],[0.18019745051315939,0.9745079496582243],[0.015075202765154283,0.26539243312517957],[0.37164510076530266,0.10472569937665532],[0.47596488533920656,0.22863336623084773],[0.8223380339217572,0.8183614345437096],[0.8954068992970569,0.589100082965274],[0.17788122905325643,0.8649857541357691],[0.4631301345846458,0.16268064996396014],[0.6003646543487986,0.3512835150334307],[0.9531221932771835,0.7990624633210683],[0.8888670153765964,0.035527528675904585],[0.6354379138623542,0.01630817039414889],[0.36787721299447096,0.10269607026403849],[0.8197004720983629,0.6562216146059988],[0.25899721775810913,0.997058754149257],[0.0322500063409048,0.3356847939545564],[0.32885330752819164,0.18163032961068815],[0.4504667307743738,0.9849880220426632],[0.8623522506528615,0.25742973219615006],[0.04207933365131655,0.2930914456591116],[0.5054621845626682,0.3090930303632813],[0.153696873508541,0.8853499228859512],[0.5706594615133401,0.14328707231318716],[0.497099475347749,0.6197435067626108],[0.3058286054250722,0.03800296210753462],[0.8938645851646976,0.4627994978564183],[0.5681999709022488,0.7421034918428765],[0.17198780977817574,0.9426555599682852],[0.4599183729447712,0.8707996124819006],[0.42079713465826984,0.3065854689110059],[0.12608042566677424,0.9137804120610848],[0.47288032615072606,0.037612332890919475],[0.4121803411090095,0.8264796716990267],[0.2430429591963943,0.18828389866730977],[0.5106222857544244,0.6795817177496417],[0.31020092347757244,0.18000934458106221],[0.49789748038498116,0.17765793100530036],[0.19869593930831198,0.2551315220998782],[0.2284019622871596,0.543949016154622],[0.11301841394682521,0.5551569956722776],[0.3165980318894348,0.494508076412543],[0.9188975291784753,0.26557772194767304],[0.8056942981891718,0.2371931142288347],[0.37113103003567227,0.9747231477508495],[0.09230127697463875,0.516866569124967],[0.045339133667052334,0.5293131908143945],[0.6082901449956453,0.88213307640076],[0.3027254329700667,0.6003920489022707],[0.08930866982620078,0.7484094790031016],[0.500911566844581,0.051539011755362574]],&quot;group&quot;:[0,0,0,0,0,0,0,0,0,0,0,0,0,0,0,0,0,0,0,0,0,0,0,0,0,0,0,0,0,0,0,0,0,0,1,1,1,1,1,1,1,1,1,1,1,1,1,1,1,1,1,1,1,1,1,1,1,1,1,1,1,1,1,1,1,1,1,1,1,2,2,2,2,2,2,2,2,2,2,2,2,2,2,2,2,2,2,2,2,2,2,2,2,2,2,2,2,2,2,2,2,2,2,2,3,3,3,3,3,3,3,3,3,3,3,3,3,3,3,3,3,3,3,3,3,3,3,3,3,3,3,3,3,3,3,3,3,3,3,4,4,4,4,4,4,4,4,4,4,4,4,4,4,4,4,4,4,4,4,4,4,4,4,4,4,4,4,4,4,4,4,4,4,4,5,5,5,5,5,5,5,5,5,5,5,5,5,5,5,5,5,5,5,5,5,5,5,5,5,5,5,5,5,5,5,5,5,5,5,6,6,6,6,6,6,6,6,6,6,6,6,6,6,6,6,6,6,6,6,6,6,6,6,6,6,6,6,6,6,6,6,6,6,6,7,7,7,7,7,7,7,7,7,7,7,7,7,7,7,7,7,7,7,7,7,7,7,7,7,7,7,7,7,7,7,7,7,7,7,8,8,8,8,8,8,8,8,8,8,8,8,8,8,8,8,8,8,8,8,8,8,8,8,8,8,8,8,8,8,8,8,8,8,8,9,9,9,9,9,9,9,9,9,9,9,9,9,9,9,9,9,9,9,9,9,9,9,9,9,9],&quot;links&quot;:[[1,1,1],[2,1,1],[3,1,1],[4,1,1],[5,1,1],[6,1,1],[7,1,1],[8,1,1],[9,1,1],[10,1,1],[1,2,1],[2,2,1],[3,2,1],[4,2,1],[5,2,1],[6,2,1],[7,2,1],[8,2,1],[9,2,1],[10,2,1],[1,3,1],[2,3,1],[3,3,1],[4,3,1],[5,3,1],[6,3,1],[7,3,1],[8,3,1],[9,3,1],[10,3,1],[1,4,1],[2,4,1],[3,4,1],[4,4,1],[5,4,1],[6,4,1],[7,4,1],[8,4,1],[9,4,1],[10,4,1],[1,5,1],[2,5,1],[3,5,1],[4,5,1],[5,5,1],[6,5,1],[7,5,1],[8,5,1],[9,5,1],[10,5,1],[1,6,1],[2,6,1],[3,6,1],[4,6,1],[5,6,1],[6,6,1],[7,6,1],[8,6,1],[9,6,1],[10,6,1],[1,7,1],[2,7,1],[3,7,1],[4,7,1],[5,7,1],[6,7,1],[7,7,1],[8,7,1],[9,7,1],[10,7,1],[1,8,1],[2,8,1],[3,8,1],[4,8,1],[5,8,1],[6,8,1],[7,8,1],[8,8,1],[9,8,1],[10,8,1],[1,9,1],[2,9,1],[3,9,1],[4,9,1],[5,9,1],[6,9,1],[7,9,1],[8,9,1],[9,9,1],[10,9,1],[1,10,1],[2,10,1],[3,10,1],[4,10,1],[5,10,1],[6,10,1],[7,10,1],[8,10,1],[9,10,1],[10,10,1],[1,11,1],[2,11,1],[3,11,1],[4,11,1],[5,11,1],[6,11,1],[7,11,1],[8,11,1],[9,11,1],[10,11,1],[1,12,1],[2,12,1],[3,12,1],[4,12,1],[5,12,1],[6,12,1],[7,12,1],[8,12,1],[9,12,1],[10,12,1],[1,13,1],[2,13,1],[3,13,1],[4,13,1],[5,13,1],[6,13,1],[7,13,1],[8,13,1],[9,13,1],[10,13,1],[1,14,1],[2,14,1],[3,14,1],[4,14,1],[5,14,1],[6,14,1],[7,14,1],[8,14,1],[9,14,1],[10,14,1],[1,15,1],[2,15,1],[3,15,1],[4,15,1],[5,15,1],[6,15,1],[7,15,1],[8,15,1],[9,15,1],[10,15,1],[1,16,1],[2,16,1],[3,16,1],[4,16,1],[5,16,1],[6,16,1],[7,16,1],[8,16,1],[9,16,1],[10,16,1],[1,17,1],[2,17,1],[3,17,1],[4,17,1],[5,17,1],[6,17,1],[7,17,1],[8,17,1],[9,17,1],[10,17,1],[1,18,1],[2,18,1],[3,18,1],[4,18,1],[5,18,1],[6,18,1],[7,18,1],[8,18,1],[9,18,1],[10,18,1],[1,19,1],[2,19,1],[3,19,1],[4,19,1],[5,19,1],[6,19,1],[7,19,1],[8,19,1],[9,19,1],[10,19,1],[1,20,1],[2,20,1],[3,20,1],[4,20,1],[5,20,1],[6,20,1],[7,20,1],[8,20,1],[9,20,1],[10,20,1],[1,21,1],[2,21,1],[3,21,1],[4,21,1],[5,21,1],[6,21,1],[7,21,1],[8,21,1],[9,21,1],[10,21,1],[1,22,1],[2,22,1],[3,22,1],[4,22,1],[5,22,1],[6,22,1],[7,22,1],[8,22,1],[9,22,1],[10,22,1],[1,23,1],[2,23,1],[3,23,1],[4,23,1],[5,23,1],[6,23,1],[7,23,1],[8,23,1],[9,23,1],[10,23,1],[1,24,1],[2,24,1],[3,24,1],[4,24,1],[5,24,1],[6,24,1],[7,24,1],[8,24,1],[9,24,1],[10,24,1],[1,25,1],[2,25,1],[3,25,1],[4,25,1],[5,25,1],[6,25,1],[7,25,1],[8,25,1],[9,25,1],[10,25,1],[1,26,1],[2,26,1],[3,26,1],[4,26,1],[5,26,1],[6,26,1],[7,26,1],[8,26,1],[9,26,1],[10,26,1],[1,27,1],[2,27,1],[3,27,1],[4,27,1],[5,27,1],[6,27,1],[7,27,1],[8,27,1],[9,27,1],[10,27,1],[1,28,1],[2,28,1],[3,28,1],[4,28,1],[5,28,1],[6,28,1],[7,28,1],[8,28,1],[9,28,1],[10,28,1],[1,29,1],[2,29,1],[3,29,1],[4,29,1],[5,29,1],[6,29,1],[7,29,1],[8,29,1],[9,29,1],[10,29,1],[1,30,1],[2,30,1],[3,30,1],[4,30,1],[5,30,1],[6,30,1],[7,30,1],[8,30,1],[9,30,1],[10,30,1],[1,31,1],[2,31,1],[3,31,1],[4,31,1],[5,31,1],[6,31,1],[7,31,1],[8,31,1],[9,31,1],[10,31,1],[1,32,1],[2,32,1],[3,32,1],[4,32,1],[5,32,1],[6,32,1],[7,32,1],[8,32,1],[9,32,1],[10,32,1],[1,33,1],[2,33,1],[3,33,1],[4,33,1],[5,33,1],[6,33,1],[7,33,1],[8,33,1],[9,33,1],[10,33,1],[1,34,1],[2,34,1],[3,34,1],[4,34,1],[5,34,1],[6,34,1],[7,34,1],[8,34,1],[9,34,1],[10,34,1]]}\" data-images=\"[]\" data-options=\"{&quot;tooltips&quot;:true,&quot;description&quot;:null,&quot;zoom&quot;:true,&quot;height&quot;:null,&quot;width&quot;:600,&quot;brush&quot;:true}\" id=\"viz-34b6a288-86cf-419a-932d-d60a7a5b6c36\" data-initialized=\"false\" class=\"feed-item\"></div></div></div></div><script>window.lightning = window.lightning || {};\n",
       "window.lightning.host = \"http://localhost:3000/\" || 'http://127.0.0.1:3000/';\n",
       "window.lightning.vizCount = (window.lightning.vizCount + 1) || 1;\n",
       "window.lightning.requiredVizTypes = window.lightning.requiredVizTypes || [];\n",
       "if(window.lightning.requiredVizTypes.indexOf(\"graph\") === -1) {\n",
       "    window.lightning.requiredVizTypes.push(\"graph\");\n",
       "}\n",
       "window._require = window.require;\n",
       "window.require = undefined;\n",
       "window._define = window.define;\n",
       "window.define = undefined;</script><script src=\"http://localhost:3000/js/embed.js\"></script>"
      ],
      "text/plain": [
       "<lightning.types.plots.Graph at 0x7f64a0e32f50>"
      ]
     },
     "execution_count": 5,
     "metadata": {},
     "output_type": "execute_result"
    }
   ],
   "source": [
    "G = nx.random_geometric_graph(100, 0.2)\n",
    "pos = asarray(nx.get_node_attributes(G, 'pos').values())\n",
    "lgn.graph(pos[:,0], pos[:,1],y,group=x)"
   ]
  },
  {
   "cell_type": "code",
   "execution_count": null,
   "metadata": {
    "collapsed": true
   },
   "outputs": [],
   "source": []
  },
  {
   "cell_type": "code",
   "execution_count": null,
   "metadata": {
    "collapsed": true
   },
   "outputs": [],
   "source": []
  }
 ],
 "metadata": {
  "kernelspec": {
   "display_name": "Python 2",
   "language": "python",
   "name": "python2"
  },
  "language_info": {
   "codemirror_mode": {
    "name": "ipython",
    "version": 2
   },
   "file_extension": ".py",
   "mimetype": "text/x-python",
   "name": "python",
   "nbconvert_exporter": "python",
   "pygments_lexer": "ipython2",
   "version": "2.7.6"
  }
 },
 "nbformat": 4,
 "nbformat_minor": 0
}
