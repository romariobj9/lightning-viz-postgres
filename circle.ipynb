{
 "cells": [
  {
   "cell_type": "markdown",
   "metadata": {},
   "source": [
    "# <img style='float: left' src=\"http://lightning-viz.github.io/images/logo.png\"> <br> <br> &nbsp;&nbsp;&nbsp;&nbsp;&nbsp;Circle plots in <a href='http://lightning-viz.github.io/'><font color='#9175f0'>Lightning</font></a>"
   ]
  },
  {
   "cell_type": "markdown",
   "metadata": {},
   "source": [
    "## <hr> Configuracion"
   ]
  },
  {
   "cell_type": "code",
   "execution_count": 1,
   "metadata": {
    "collapsed": false
   },
   "outputs": [],
   "source": [
    "from lightning import Lightning\n",
    "\n",
    "from numpy import random, asarray"
   ]
  },
  {
   "cell_type": "markdown",
   "metadata": {},
   "source": [
    "## Conexion al Servidor"
   ]
  },
  {
   "cell_type": "code",
   "execution_count": 2,
   "metadata": {
    "collapsed": false
   },
   "outputs": [
    {
     "data": {
      "text/html": [
       "<div style='margin-top:8px'><img src='data:image/png;base64,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' width='30px' height='35px' style='display: inline-block; padding-right: 10px'></img><span>Lightning initialized</span></div>"
      ],
      "text/plain": [
       "<IPython.core.display.HTML object>"
      ]
     },
     "metadata": {},
     "output_type": "display_data"
    },
    {
     "name": "stdout",
     "output_type": "stream",
     "text": [
      "Connected to server at http://localhost:3000\n"
     ]
    },
    {
     "data": {
      "application/javascript": [
       "(function e(t,n,r){function s(o,u){if(!n[o]){if(!t[o]){var a=typeof require==\"function\"&&require;if(!u&&a)return a(o,!0);if(i)return i(o,!0);throw new Error(\"Cannot find module '\"+o+\"'\")}var f=n[o]={exports:{}};t[o][0].call(f.exports,function(e){var n=t[o][1][e];return s(n?n:e)},f,f.exports,e,t,n,r)}return n[o].exports}var i=typeof require==\"function\"&&require;for(var o=0;o<r.length;o++)s(r[o]);return s})({1:[function(require,module,exports){\n",
       "window.lightning = window.lightning || {};\n",
       "var lightningCommMap = {};\n",
       "var IPython = window.IPython;\n",
       "\n",
       "var readCommData = function(commData, field) {\n",
       "    try {\n",
       "        return commData.content.data[field];\n",
       "    } catch (err) {\n",
       "        return;\n",
       "    }\n",
       "};\n",
       "\n",
       "\n",
       "var init_comm = function() {\n",
       "    IPython.notebook.kernel.comm_manager.register_target('lightning', function(comm, data) {\n",
       "        var id = readCommData(data, 'id');\n",
       "        lightningCommMap[id] = comm;\n",
       "    });\n",
       "\n",
       "    window.lightning.comm_map = lightningCommMap;\n",
       "}\n",
       "\n",
       "\n",
       "if(IPython && IPython.notebook) {\n",
       "\n",
       "    if(IPython.notebook.kernel) {\n",
       "        init_comm();\n",
       "    }\n",
       "\n",
       "    IPython.notebook.events.on('kernel_connected.Kernel', init_comm);\n",
       "\n",
       "}\n",
       "\n",
       "\n",
       "},{}]},{},[1])\n",
       "//# sourceMappingURL=data:application/json;base64,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\n"
      ],
      "text/plain": [
       "<IPython.core.display.Javascript object>"
      ]
     },
     "metadata": {},
     "output_type": "display_data"
    }
   ],
   "source": [
    "lgn = Lightning(ipython=True)"
   ]
  },
  {
   "cell_type": "markdown",
   "metadata": {},
   "source": [
    "## <hr> Solo conexiones"
   ]
  },
  {
   "cell_type": "markdown",
   "metadata": {},
   "source": [
    "Parcelas circulares muestran las conexiones entre nodos en un gráfico.Vamos a hacer una para un conjunto de conexiones al azar."
   ]
  },
  {
   "cell_type": "code",
   "execution_count": 3,
   "metadata": {
    "collapsed": false
   },
   "outputs": [
    {
     "name": "stdout",
     "output_type": "stream",
     "text": [
      "[[ 0.72038325  0.07484372  0.93389037 ...,  0.84016144  0.78120621\n",
      "   0.35306832]\n",
      " [ 0.87995434  0.82466729  0.79073925 ...,  0.48870061  0.15359875\n",
      "   0.45821723]\n",
      " [ 0.73035962  0.35919886  0.73109738 ...,  0.92434736  0.71753644\n",
      "   0.08751741]\n",
      " ..., \n",
      " [ 0.93408713  0.36309895  0.17870416 ...,  0.9793039   0.35393678\n",
      "   0.35793156]\n",
      " [ 0.55426005  0.14678003  0.19541344 ...,  0.6368417   0.15149919\n",
      "   0.66762058]\n",
      " [ 0.29247446  0.29543621  0.77783501 ...,  0.61098079  0.63518648\n",
      "   0.25506489]]\n"
     ]
    },
    {
     "name": "stderr",
     "output_type": "stream",
     "text": [
      "/home/romario/envGp/local/lib/python2.7/site-packages/IPython/kernel/__init__.py:13: ShimWarning: The `IPython.kernel` package has been deprecated. You should import from ipykernel or jupyter_client instead.\n",
      "  \"You should import from ipykernel or jupyter_client instead.\", ShimWarning)\n"
     ]
    },
    {
     "data": {
      "text/html": [
       "<meta name=\"viewport\" content=\"width=device-width, initial-scale=1, maximum-scale=1\"/><meta http-equiv=\"X-UA-Compatible\" content=\"IE=10; IE=9; IE=8; IE=7; IE=EDGE\"/><meta charset=\"UTF-8\"/><link href=\"//fonts.googleapis.com/css?family=Open+Sans:400,700\" rel=\"stylesheet\" type=\"text/css\"/><link rel=\"stylesheet\" href=\"http://localhost:3000/css/app.css\"/><div id=\"lightning-body\" class=\"container content wrap push\"><div class=\"feed-container\"><div data-model=\"visualization\" data-model-id=\"4ee993d3-db89-42e6-b4fc-b832fa592bac\" class=\"feed-item-container\"><div data-type=\"lightning-circle\" data-data=\"{&quot;nodes&quot;:[0,1,2,3,4,5,6,7,8,9,10,11,12,13,14,15,16,17,18,19,20,21,22,23,24,25,26,27,28,29,30,31,32,33,34,35,36,37,38,39,40,41,42,43,44,45,46,47,48,49],&quot;links&quot;:[[0,22,0.9856024420923062],[0,45,0.993358862413038],[2,45,0.9871816539677735],[3,14,0.9948350036733433],[4,16,0.9800348641221964],[5,6,0.9831163421492686],[6,10,0.9875255964840192],[6,35,0.9953842407155382],[8,8,0.9962972771466477],[8,21,0.9806085581527334],[9,4,0.9909515857292133],[9,33,0.9823151078519522],[10,19,0.9990948086529289],[11,36,0.9915113157952371],[12,4,0.9928014306526282],[13,48,0.9944807584334976],[16,10,0.9953868589354091],[16,23,0.9948834178197346],[17,24,0.9878059188855063],[18,14,0.997495852089317],[18,31,0.9859961802832977],[18,49,0.9876887660554112],[19,3,0.9834665042023302],[19,38,0.9883710298023177],[20,19,0.9821320185929532],[20,38,0.9839749186900846],[20,46,0.9942236112768931],[21,15,0.9992851695652877],[21,31,0.9865309375206682],[22,24,0.9944673896360949],[22,38,0.9932745907820382],[25,16,0.9805138887060948],[25,35,0.9891127888198216],[26,3,0.9866099894984509],[26,15,0.9919596931183703],[27,2,0.9957460918153475],[27,27,0.9879990997166004],[32,2,0.9968747342943332],[33,4,0.9982420667702496],[33,11,0.9988135190903665],[34,29,0.9923522844815699],[35,13,0.9896199527710585],[35,36,0.9823134146400746],[36,17,0.9911867558255893],[37,7,0.9992429367306511],[41,23,0.9855864365329663],[42,28,0.9994912294219226],[43,4,0.9947831838099136],[43,34,0.9924810773401835],[44,0,0.9954112890819181],[45,17,0.9866698860783064],[47,13,0.9906902719791022],[48,18,0.9822507124350675],[48,40,0.9887944618274785],[49,46,0.9988789129682542]]}\" data-images=\"[]\" data-options=\"{&quot;width&quot;:600,&quot;description&quot;:null,&quot;height&quot;:null}\" id=\"viz-4ee993d3-db89-42e6-b4fc-b832fa592bac\" data-initialized=\"false\" class=\"feed-item\"></div></div></div></div><script>window.lightning = window.lightning || {};\n",
       "window.lightning.host = \"http://localhost:3000/\" || 'http://127.0.0.1:3000/';\n",
       "window.lightning.vizCount = (window.lightning.vizCount + 1) || 1;\n",
       "window.lightning.requiredVizTypes = window.lightning.requiredVizTypes || [];\n",
       "if(window.lightning.requiredVizTypes.indexOf(\"circle\") === -1) {\n",
       "    window.lightning.requiredVizTypes.push(\"circle\");\n",
       "}\n",
       "window._require = window.require;\n",
       "window.require = undefined;\n",
       "window._define = window.define;\n",
       "window.define = undefined;</script><script src=\"http://localhost:3000/js/embed.js\"></script>"
      ],
      "text/plain": [
       "<lightning.types.plots.Circle at 0x7f0edcb53090>"
      ]
     },
     "execution_count": 3,
     "metadata": {},
     "output_type": "execute_result"
    }
   ],
   "source": [
    "connections = random.rand(50,50)\n",
    "print connections\n",
    "connections[connections<0.98] = 0\n",
    "lgn.circle(connections)"
   ]
  },
  {
   "cell_type": "markdown",
   "metadata": {},
   "source": [
    "Podemos añadir una etiqueta de texto a cada nodo . Aquí sólo tendremos que añadir un identificador numérico.\n",
    "Al hacer clic en una etiqueta de nodo destaca sus conexiones"
   ]
  },
  {
   "cell_type": "code",
   "execution_count": 4,
   "metadata": {
    "collapsed": false
   },
   "outputs": [
    {
     "name": "stdout",
     "output_type": "stream",
     "text": [
      "[[ 0.          0.          0.         ...,  0.          0.          0.99551548]\n",
      " [ 0.          0.          0.         ...,  0.          0.          0.        ]\n",
      " [ 0.          0.          0.         ...,  0.          0.          0.        ]\n",
      " ..., \n",
      " [ 0.          0.          0.         ...,  0.          0.          0.99010116]\n",
      " [ 0.          0.          0.         ...,  0.          0.          0.        ]\n",
      " [ 0.          0.          0.         ...,  0.          0.          0.        ]]\n"
     ]
    },
    {
     "data": {
      "text/html": [
       "<meta name=\"viewport\" content=\"width=device-width, initial-scale=1, maximum-scale=1\"/><meta http-equiv=\"X-UA-Compatible\" content=\"IE=10; IE=9; IE=8; IE=7; IE=EDGE\"/><meta charset=\"UTF-8\"/><link href=\"//fonts.googleapis.com/css?family=Open+Sans:400,700\" rel=\"stylesheet\" type=\"text/css\"/><link rel=\"stylesheet\" href=\"http://localhost:3000/css/app.css\"/><div id=\"lightning-body\" class=\"container content wrap push\"><div class=\"feed-container\"><div data-model=\"visualization\" data-model-id=\"4a70461c-ad51-40b2-beac-d6c71d920e9b\" class=\"feed-item-container\"><div data-type=\"lightning-circle\" data-data=\"{&quot;nodes&quot;:[0,1,2,3,4,5,6,7,8,9,10,11,12,13,14,15,16,17,18,19,20,21,22,23,24,25,26,27,28,29,30,31,32,33,34,35,36,37,38,39,40,41,42,43,44,45,46,47,48,49],&quot;labels&quot;:[&quot;node 0&quot;,&quot;node 1&quot;,&quot;node 2&quot;,&quot;node 3&quot;,&quot;node 4&quot;,&quot;node 5&quot;,&quot;node 6&quot;,&quot;node 7&quot;,&quot;node 8&quot;,&quot;node 9&quot;,&quot;node 10&quot;,&quot;node 11&quot;,&quot;node 12&quot;,&quot;node 13&quot;,&quot;node 14&quot;,&quot;node 15&quot;,&quot;node 16&quot;,&quot;node 17&quot;,&quot;node 18&quot;,&quot;node 19&quot;,&quot;node 20&quot;,&quot;node 21&quot;,&quot;node 22&quot;,&quot;node 23&quot;,&quot;node 24&quot;,&quot;node 25&quot;,&quot;node 26&quot;,&quot;node 27&quot;,&quot;node 28&quot;,&quot;node 29&quot;,&quot;node 30&quot;,&quot;node 31&quot;,&quot;node 32&quot;,&quot;node 33&quot;,&quot;node 34&quot;,&quot;node 35&quot;,&quot;node 36&quot;,&quot;node 37&quot;,&quot;node 38&quot;,&quot;node 39&quot;,&quot;node 40&quot;,&quot;node 41&quot;,&quot;node 42&quot;,&quot;node 43&quot;,&quot;node 44&quot;,&quot;node 45&quot;,&quot;node 46&quot;,&quot;node 47&quot;,&quot;node 48&quot;,&quot;node 49&quot;],&quot;links&quot;:[[0,3,0.9853692040119675],[0,24,0.9968523589484731],[0,49,0.9955154845998435],[1,8,0.9891144093663108],[1,14,0.9860336719846855],[2,29,0.9829003040911397],[2,37,0.9979669307379108],[3,36,0.9810263887373215],[4,20,0.9843134531709152],[5,31,0.9800458487177317],[6,10,0.9864642613001485],[7,45,0.9999638848840967],[8,1,0.986257081406274],[8,19,0.9819051176669875],[11,37,0.984356820060787],[12,48,0.9940737903945558],[13,4,0.9962600225862543],[15,1,0.9892062180558028],[16,23,0.9913824680683829],[16,40,0.9816368895381797],[17,18,0.9810677485997926],[18,20,0.997025213372359],[18,42,0.9985888335092729],[19,36,0.9924002320657331],[20,1,0.9920688939198957],[23,34,0.9919740945446024],[23,44,0.9828051448398729],[27,14,0.9801654955202053],[30,24,0.9839487497438051],[31,25,0.9922363731509742],[32,22,0.9896868835938488],[34,6,0.9823369960835443],[34,37,0.9953679355237429],[34,41,0.9983188633405304],[35,49,0.9874554877526744],[38,0,0.9963226456069035],[38,16,0.9878075955837469],[39,27,0.9896339866107332],[39,32,0.9911706161028683],[39,43,0.9925383111135414],[40,12,0.9843837867894628],[41,7,0.9929556727890365],[43,48,0.99517105042245],[44,28,0.9817613153854042],[47,33,0.9878592000558057],[47,49,0.9901011583079457],[48,7,0.9964815793238214],[48,38,0.9872471861234459]]}\" data-images=\"[]\" data-options=\"{&quot;width&quot;:600,&quot;description&quot;:null,&quot;height&quot;:null}\" id=\"viz-4a70461c-ad51-40b2-beac-d6c71d920e9b\" data-initialized=\"false\" class=\"feed-item\"></div></div></div></div><script>window.lightning = window.lightning || {};\n",
       "window.lightning.host = \"http://localhost:3000/\" || 'http://127.0.0.1:3000/';\n",
       "window.lightning.vizCount = (window.lightning.vizCount + 1) || 1;\n",
       "window.lightning.requiredVizTypes = window.lightning.requiredVizTypes || [];\n",
       "if(window.lightning.requiredVizTypes.indexOf(\"circle\") === -1) {\n",
       "    window.lightning.requiredVizTypes.push(\"circle\");\n",
       "}\n",
       "window._require = window.require;\n",
       "window.require = undefined;\n",
       "window._define = window.define;\n",
       "window.define = undefined;</script><script src=\"http://localhost:3000/js/embed.js\"></script>"
      ],
      "text/plain": [
       "<lightning.types.plots.Circle at 0x7f0edcb89410>"
      ]
     },
     "execution_count": 4,
     "metadata": {},
     "output_type": "execute_result"
    }
   ],
   "source": [
    "connections = random.rand(50,50)\n",
    "connections[connections<0.98] = 0\n",
    "print connections\n",
    "lgn.circle(connections, labels=['node ' + str(x) for x in range(50)])"
   ]
  },
  {
   "cell_type": "markdown",
   "metadata": {},
   "source": [
    "## <hr> Añadiendo grupos"
   ]
  },
  {
   "cell_type": "markdown",
   "metadata": {},
   "source": [
    "Las parcelas son útiles para visualizar las relaciones jerárquicas .\n",
    "Se pueden especificar varios niveles de agrupamiento."
   ]
  },
  {
   "cell_type": "code",
   "execution_count": 5,
   "metadata": {
    "collapsed": false
   },
   "outputs": [
    {
     "name": "stdout",
     "output_type": "stream",
     "text": [
      "[[ 0.         0.         0.        ...,  0.         0.         0.       ]\n",
      " [ 0.         0.         0.        ...,  0.         0.         0.       ]\n",
      " [ 0.         0.         0.9963432 ...,  0.         0.         0.       ]\n",
      " ..., \n",
      " [ 0.         0.         0.        ...,  0.         0.         0.       ]\n",
      " [ 0.         0.         0.        ...,  0.         0.         0.       ]\n",
      " [ 0.         0.         0.        ...,  0.         0.         0.       ]]\n"
     ]
    },
    {
     "data": {
      "text/html": [
       "<meta name=\"viewport\" content=\"width=device-width, initial-scale=1, maximum-scale=1\"/><meta http-equiv=\"X-UA-Compatible\" content=\"IE=10; IE=9; IE=8; IE=7; IE=EDGE\"/><meta charset=\"UTF-8\"/><link href=\"//fonts.googleapis.com/css?family=Open+Sans:400,700\" rel=\"stylesheet\" type=\"text/css\"/><link rel=\"stylesheet\" href=\"http://localhost:3000/css/app.css\"/><div id=\"lightning-body\" class=\"container content wrap push\"><div class=\"feed-container\"><div data-model=\"visualization\" data-model-id=\"79a15915-c3c4-48bf-a0ef-07dd3875ed82\" class=\"feed-item-container\"><div data-type=\"lightning-circle\" data-data=\"{&quot;nodes&quot;:[0,1,2,3,4,5,6,7,8,9,10,11,12,13,14,15,16,17,18,19,20,21,22,23,24,25,26,27,28,29,30,31,32,33,34,35,36,37,38,39,40,41,42,43,44,45,46,47,48,49],&quot;labels&quot;:[&quot;group 2&quot;,&quot;group 1&quot;,&quot;group 0&quot;,&quot;group 0&quot;,&quot;group 1&quot;,&quot;group 1&quot;,&quot;group 1&quot;,&quot;group 0&quot;,&quot;group 1&quot;,&quot;group 0&quot;,&quot;group 0&quot;,&quot;group 1&quot;,&quot;group 0&quot;,&quot;group 1&quot;,&quot;group 2&quot;,&quot;group 2&quot;,&quot;group 0&quot;,&quot;group 1&quot;,&quot;group 2&quot;,&quot;group 0&quot;,&quot;group 2&quot;,&quot;group 2&quot;,&quot;group 2&quot;,&quot;group 1&quot;,&quot;group 1&quot;,&quot;group 2&quot;,&quot;group 0&quot;,&quot;group 2&quot;,&quot;group 0&quot;,&quot;group 1&quot;,&quot;group 1&quot;,&quot;group 2&quot;,&quot;group 0&quot;,&quot;group 0&quot;,&quot;group 2&quot;,&quot;group 0&quot;,&quot;group 2&quot;,&quot;group 1&quot;,&quot;group 1&quot;,&quot;group 0&quot;,&quot;group 0&quot;,&quot;group 2&quot;,&quot;group 1&quot;,&quot;group 0&quot;,&quot;group 0&quot;,&quot;group 1&quot;,&quot;group 0&quot;,&quot;group 0&quot;,&quot;group 2&quot;,&quot;group 1&quot;],&quot;group&quot;:[[2,1,0,0,1,1,1,0,1,0,0,1,0,1,2,2,0,1,2,0,2,2,2,1,1,2,0,2,0,1,1,2,0,0,2,0,2,1,1,0,0,2,1,0,0,1,0,0,2,1]],&quot;links&quot;:[[2,2,0.9963431954686022],[2,32,0.9892407292098816],[2,45,0.9858642114829765],[3,31,0.9877511963638913],[7,26,0.9830776616292907],[9,43,0.9919506905039794],[13,8,0.9880242208484674],[13,20,0.9894758004848259],[15,2,0.9852980966269126],[15,38,0.9931686249645544],[18,37,0.9989239861250752],[19,43,0.9892715232490905],[21,23,0.9929082418468868],[22,9,0.9955809670244212],[23,10,0.9983369512948078],[24,17,0.9940722950776754],[24,19,0.9948664491871632],[25,19,0.9961478405137776],[28,24,0.9870198832183592],[28,25,0.9866729121356783],[29,10,0.9876625237252206],[29,14,0.9911184862113166],[29,36,0.990607977542288],[31,4,0.9946633036419049],[31,11,0.9920742621285713],[32,40,0.9899565772700402],[34,29,0.9819658045473075],[37,0,0.9926686712437248],[37,20,0.9810152204063952],[40,22,0.9885551348713071],[41,28,0.9859580735472304],[42,11,0.9805240022452052],[45,8,0.9882034782696747],[45,42,0.9824821263042821],[46,14,0.9935190081305472],[48,13,0.9945989306638234],[48,20,0.9809692798918727],[48,21,0.9849633607696163]]}\" data-images=\"[]\" data-options=\"{&quot;width&quot;:600,&quot;description&quot;:null,&quot;height&quot;:null}\" id=\"viz-79a15915-c3c4-48bf-a0ef-07dd3875ed82\" data-initialized=\"false\" class=\"feed-item\"></div></div></div></div><script>window.lightning = window.lightning || {};\n",
       "window.lightning.host = \"http://localhost:3000/\" || 'http://127.0.0.1:3000/';\n",
       "window.lightning.vizCount = (window.lightning.vizCount + 1) || 1;\n",
       "window.lightning.requiredVizTypes = window.lightning.requiredVizTypes || [];\n",
       "if(window.lightning.requiredVizTypes.indexOf(\"circle\") === -1) {\n",
       "    window.lightning.requiredVizTypes.push(\"circle\");\n",
       "}\n",
       "window._require = window.require;\n",
       "window.require = undefined;\n",
       "window._define = window.define;\n",
       "window.define = undefined;</script><script src=\"http://localhost:3000/js/embed.js\"></script>"
      ],
      "text/plain": [
       "<lightning.types.plots.Circle at 0x7f0efc27abd0>"
      ]
     },
     "execution_count": 5,
     "metadata": {},
     "output_type": "execute_result"
    }
   ],
   "source": [
    "connections = random.rand(50,50)\n",
    "connections[connections<0.98] = 0\n",
    "print connections\n",
    "\n",
    "group = (random.rand(50) * 3).astype('int')\n",
    "lgn.circle(connections, labels=['group ' + str(x) for x in group], group=group)"
   ]
  },
  {
   "cell_type": "markdown",
   "metadata": {},
   "source": [
    "## <hr> Grupos anidados"
   ]
  },
  {
   "cell_type": "markdown",
   "metadata": {},
   "source": [
    "Y ahora trate de añadir un segundo nivel .Etiquetaremos el segundo grupo para dejar en claro lo que está pasando.\n",
    "Si hace clic en cualquiera de los arcos exteriores , se pondrán de relieve las conexiones de ese grupo"
   ]
  },
  {
   "cell_type": "code",
   "execution_count": 6,
   "metadata": {
    "collapsed": false
   },
   "outputs": [
    {
     "data": {
      "text/html": [
       "<meta name=\"viewport\" content=\"width=device-width, initial-scale=1, maximum-scale=1\"/><meta http-equiv=\"X-UA-Compatible\" content=\"IE=10; IE=9; IE=8; IE=7; IE=EDGE\"/><meta charset=\"UTF-8\"/><link href=\"//fonts.googleapis.com/css?family=Open+Sans:400,700\" rel=\"stylesheet\" type=\"text/css\"/><link rel=\"stylesheet\" href=\"http://localhost:3000/css/app.css\"/><div id=\"lightning-body\" class=\"container content wrap push\"><div class=\"feed-container\"><div data-model=\"visualization\" data-model-id=\"d2c276b1-f358-48f3-b0b7-63c5424b0ccb\" class=\"feed-item-container\"><div data-type=\"lightning-circle\" data-data=\"{&quot;nodes&quot;:[0,1,2,3,4,5,6,7,8,9,10,11,12,13,14,15,16,17,18,19,20,21,22,23,24,25,26,27,28,29,30,31,32,33,34,35,36,37,38,39,40,41,42,43,44,45,46,47,48,49],&quot;labels&quot;:[&quot;group 3&quot;,&quot;group 0&quot;,&quot;group 2&quot;,&quot;group 3&quot;,&quot;group 2&quot;,&quot;group 0&quot;,&quot;group 2&quot;,&quot;group 1&quot;,&quot;group 3&quot;,&quot;group 0&quot;,&quot;group 3&quot;,&quot;group 0&quot;,&quot;group 1&quot;,&quot;group 2&quot;,&quot;group 0&quot;,&quot;group 1&quot;,&quot;group 0&quot;,&quot;group 0&quot;,&quot;group 2&quot;,&quot;group 1&quot;,&quot;group 1&quot;,&quot;group 2&quot;,&quot;group 0&quot;,&quot;group 0&quot;,&quot;group 1&quot;,&quot;group 0&quot;,&quot;group 2&quot;,&quot;group 1&quot;,&quot;group 1&quot;,&quot;group 2&quot;,&quot;group 3&quot;,&quot;group 1&quot;,&quot;group 2&quot;,&quot;group 0&quot;,&quot;group 2&quot;,&quot;group 3&quot;,&quot;group 2&quot;,&quot;group 1&quot;,&quot;group 2&quot;,&quot;group 3&quot;,&quot;group 2&quot;,&quot;group 2&quot;,&quot;group 2&quot;,&quot;group 3&quot;,&quot;group 2&quot;,&quot;group 0&quot;,&quot;group 0&quot;,&quot;group 3&quot;,&quot;group 0&quot;,&quot;group 0&quot;],&quot;group&quot;:[[1,2,0,2,0,0,2,2,2,2,2,1,0,0,0,0,0,0,1,1,2,1,1,2,1,2,2,1,2,0,1,2,0,1,2,0,0,0,1,1,1,1,2,2,0,0,2,1,0,1],[3,0,2,3,2,0,2,1,3,0,3,0,1,2,0,1,0,0,2,1,1,2,0,0,1,0,2,1,1,2,3,1,2,0,2,3,2,1,2,3,2,2,2,3,2,0,0,3,0,0]],&quot;links&quot;:[[0,35,0.9824083361298072],[1,33,0.9812979078590497],[4,5,0.9885655123566137],[7,32,0.9986716058080995],[10,37,0.9825608479756242],[12,20,0.981861530513636],[13,0,0.9876951951837374],[13,23,0.9925445380937556],[16,27,0.9928068696691742],[16,39,0.9805015708819709],[17,36,0.9861321757443181],[18,4,0.9862392819772761],[18,38,0.9956609163190552],[19,49,0.9962691139881417],[22,20,0.989784007616933],[23,23,0.9986606862136157],[26,33,0.9840778295027011],[28,5,0.9939672549398173],[29,22,0.9988809618104331],[29,30,0.9968747879570762],[30,16,0.9954270252617554],[32,26,0.9923206316685491],[34,40,0.9915623656124526],[36,5,0.9992900001790695],[36,35,0.9984718832862153],[37,8,0.9857494592433353],[37,22,0.9892345056617582],[37,47,0.9982156687756193],[38,28,0.9876578171312349],[38,38,0.9995428600902834],[38,45,0.9818785651697205],[39,14,0.9980276214984038],[40,35,0.9992685871760147],[42,8,0.9812185885448498],[42,17,0.9996201852676462],[42,18,0.9929822558567813],[42,48,0.9837312354250326],[43,31,0.9974986722229736],[46,27,0.9987649608693707],[48,10,0.9943866511310528],[49,40,0.9849581438001607]]}\" data-images=\"[]\" data-options=\"{&quot;width&quot;:600,&quot;description&quot;:null,&quot;height&quot;:null}\" id=\"viz-d2c276b1-f358-48f3-b0b7-63c5424b0ccb\" data-initialized=\"false\" class=\"feed-item\"></div></div></div></div><script>window.lightning = window.lightning || {};\n",
       "window.lightning.host = \"http://localhost:3000/\" || 'http://127.0.0.1:3000/';\n",
       "window.lightning.vizCount = (window.lightning.vizCount + 1) || 1;\n",
       "window.lightning.requiredVizTypes = window.lightning.requiredVizTypes || [];\n",
       "if(window.lightning.requiredVizTypes.indexOf(\"circle\") === -1) {\n",
       "    window.lightning.requiredVizTypes.push(\"circle\");\n",
       "}\n",
       "window._require = window.require;\n",
       "window.require = undefined;\n",
       "window._define = window.define;\n",
       "window.define = undefined;</script><script src=\"http://localhost:3000/js/embed.js\"></script>"
      ],
      "text/plain": [
       "<lightning.types.plots.Circle at 0x7f0edcb89490>"
      ]
     },
     "execution_count": 6,
     "metadata": {},
     "output_type": "execute_result"
    }
   ],
   "source": [
    "connections = random.rand(50,50)\n",
    "connections[connections<0.98] = 0\n",
    "\n",
    "group1 = (random.rand(50) * 3).astype('int')\n",
    "group2 = (random.rand(50) * 4).astype('int')\n",
    "lgn.circle(connections, labels=['group ' + str(x) for x in group2], group=[group1, group2])"
   ]
  },
  {
   "cell_type": "code",
   "execution_count": 7,
   "metadata": {
    "collapsed": false
   },
   "outputs": [
    {
     "name": "stdout",
     "output_type": "stream",
     "text": [
      "[[0, 1], [0, 2], [3, 5], [2, 4], [1, 2], [3, 4], [1, 5], [1, 6], [2, 7], [2, 8], [3, 8], [8, 7]]\n"
     ]
    },
    {
     "data": {
      "text/html": [
       "<meta name=\"viewport\" content=\"width=device-width, initial-scale=1, maximum-scale=1\"/><meta http-equiv=\"X-UA-Compatible\" content=\"IE=10; IE=9; IE=8; IE=7; IE=EDGE\"/><meta charset=\"UTF-8\"/><link href=\"//fonts.googleapis.com/css?family=Open+Sans:400,700\" rel=\"stylesheet\" type=\"text/css\"/><link rel=\"stylesheet\" href=\"http://localhost:3000/css/app.css\"/><div id=\"lightning-body\" class=\"container content wrap push\"><div class=\"feed-container\"><div data-model=\"visualization\" data-model-id=\"ad447537-7307-48cf-9d27-a1535a920076\" class=\"feed-item-container\"><div data-type=\"lightning-circle\" data-data=\"{&quot;nodes&quot;:[0,1,2,3,4,5,6,7,8],&quot;labels&quot;:[&quot;node 0&quot;,&quot;node 1&quot;,&quot;node 2&quot;,&quot;node 3&quot;,&quot;node 4&quot;,&quot;node 5&quot;,&quot;node 6&quot;,&quot;node 7&quot;,&quot;node 8&quot;,&quot;node 9&quot;,&quot;node 10&quot;,&quot;node 11&quot;,&quot;node 12&quot;,&quot;node 13&quot;,&quot;node 14&quot;,&quot;node 15&quot;,&quot;node 16&quot;,&quot;node 17&quot;,&quot;node 18&quot;,&quot;node 19&quot;,&quot;node 20&quot;,&quot;node 21&quot;,&quot;node 22&quot;,&quot;node 23&quot;,&quot;node 24&quot;,&quot;node 25&quot;,&quot;node 26&quot;,&quot;node 27&quot;,&quot;node 28&quot;,&quot;node 29&quot;,&quot;node 30&quot;,&quot;node 31&quot;,&quot;node 32&quot;,&quot;node 33&quot;,&quot;node 34&quot;,&quot;node 35&quot;,&quot;node 36&quot;,&quot;node 37&quot;,&quot;node 38&quot;,&quot;node 39&quot;,&quot;node 40&quot;,&quot;node 41&quot;,&quot;node 42&quot;,&quot;node 43&quot;,&quot;node 44&quot;,&quot;node 45&quot;,&quot;node 46&quot;,&quot;node 47&quot;,&quot;node 48&quot;,&quot;node 49&quot;],&quot;links&quot;:[[0,1,1],[0,2,1],[3,5,1],[2,4,1],[1,2,1],[3,4,1],[1,5,1],[1,6,1],[2,7,1],[2,8,1],[3,8,1],[8,7,1]]}\" data-images=\"[]\" data-options=\"{&quot;width&quot;:600,&quot;description&quot;:null,&quot;height&quot;:null}\" id=\"viz-ad447537-7307-48cf-9d27-a1535a920076\" data-initialized=\"false\" class=\"feed-item\"></div></div></div></div><script>window.lightning = window.lightning || {};\n",
       "window.lightning.host = \"http://localhost:3000/\" || 'http://127.0.0.1:3000/';\n",
       "window.lightning.vizCount = (window.lightning.vizCount + 1) || 1;\n",
       "window.lightning.requiredVizTypes = window.lightning.requiredVizTypes || [];\n",
       "if(window.lightning.requiredVizTypes.indexOf(\"circle\") === -1) {\n",
       "    window.lightning.requiredVizTypes.push(\"circle\");\n",
       "}\n",
       "window._require = window.require;\n",
       "window.require = undefined;\n",
       "window._define = window.define;\n",
       "window.define = undefined;</script><script src=\"http://localhost:3000/js/embed.js\"></script>"
      ],
      "text/plain": [
       "<lightning.types.plots.Circle at 0x7f0f007b7cd0>"
      ]
     },
     "execution_count": 7,
     "metadata": {},
     "output_type": "execute_result"
    }
   ],
   "source": [
    "connections = [[0, 1], [0, 2], [3, 5], [2, 4], [1, 2], [3, 4], [1, 5], [1, 6], [2, 7], [2, 8], [3, 8], [8, 7]]\n",
    "print connections\n",
    "lgn.circle(connections, labels=['node ' + str(x) for x in range(50)])"
   ]
  },
  {
   "cell_type": "markdown",
   "metadata": {},
   "source": [
    "## Ejemplo Circle con datos extraidos de una base de datos"
   ]
  },
  {
   "cell_type": "code",
   "execution_count": 8,
   "metadata": {
    "collapsed": true
   },
   "outputs": [],
   "source": [
    "import psycopg2, psycopg2.extras\n",
    "try:\n",
    "    conn = psycopg2.connect(\"dbname='gp' user='roma' host='localhost' password='roma'\")\n",
    "except:\n",
    "    print \"I am unable to connect to the database\"\n",
    "cur = conn.cursor()"
   ]
  },
  {
   "cell_type": "code",
   "execution_count": 9,
   "metadata": {
    "collapsed": false
   },
   "outputs": [
    {
     "name": "stdout",
     "output_type": "stream",
     "text": [
      "['Tipo de Energia', 'Energia Hidraulica', 'CELEC-Electroguayas', 'CELEC-Hidroagoy\\xc3\\xa1n', 'CELEC-Hidropaute', 'CELEC-Termoesmeraldas', 'CELEC-Termopichincha', 'CNEL-Bol\\xc3\\xadvar', 'CNEL-El Oro', 'CNEL-Esmeraldas', 'CNEL-Los R\\xc3\\xados', 'CNEL-Milagro', 'CNEL-Sta. Elena', 'CNEL-Sto. Domingo', 'CNEL-Sucumb\\xc3\\xados', 'E.E. Ambato', 'E.E. Centro Sur', 'E.E. Cotopaxi', 'E.E. Gal\\xc3\\xa1pagos', 'E.E. Norte', 'E.E. Quito', 'E.E. Riobamba', 'E.E. Sur', 'Ecoluz', 'Ecuapower', 'Elecaustro', 'El\\xc3\\xa9ctrica de Guayaquil', 'Electroandina', 'Electroquil', 'Ecoelectric', 'Sipec', 'Hidronaci\\xc3\\xb3n', 'Intervisa Trade', 'Agip', 'Repsol', 'Petroamazonas']\n",
      "[[35, 1], [1, 1], [1, 2], [1, 3], [1, 4], [1, 5], [1, 6], [1, 7], [1, 8], [1, 9], [1, 10], [1, 11], [1, 12], [1, 13], [1, 14], [1, 15], [1, 16], [1, 17], [1, 18], [1, 19], [1, 20], [1, 21], [1, 22], [1, 23], [1, 24], [1, 25], [1, 26], [1, 27], [1, 28], [1, 29], [1, 30], [1, 31], [1, 32], [1, 33], [1, 34]]\n"
     ]
    }
   ],
   "source": [
    "cur.execute(\"\"\"SELECT subtipos.idsubtipo,empresas.idempresa,nomempresa,nomsubtipo from produccion inner join empresas on produccion.idempresa=empresas.idempresa inner join subtipos on produccion.idsubtipo=subtipos.idsubtipo where anio=2004 and subtipos.idsubtipo=1\"\"\")\n",
    "rows = cur.fetchall()\n",
    "i=1\n",
    "x=[]\n",
    "y=[]\n",
    "x.append(\"Tipo de Energia\")\n",
    "x.append(\"Energia Hidraulica\")\n",
    "y.append([35,1])\n",
    "for row in rows:\n",
    "    x.append(str(row[2]))\n",
    "    i=i+1\n",
    "    y.append([int(row[0]),int(row[1])])\n",
    "print x\n",
    "print y"
   ]
  },
  {
   "cell_type": "markdown",
   "metadata": {},
   "source": [
    "## Relacion entre las empresas y el tipo de Energia Hidraulica"
   ]
  },
  {
   "cell_type": "markdown",
   "metadata": {},
   "source": [
    "<br>\n",
    "En esta grafica podemos observar el tipo de Energia Hidraulica se relaciona con todas las empresas , ya que cada una de las empresas producen energia a traves de procesos hidraulicos , el cambio de color por grupos es para diferenciar y comprender como se relacionan los nodos para que se produzca el cambio de color en agrupamiento , los nodos que tengan el mismo valor tendran el mismo color "
   ]
  },
  {
   "cell_type": "code",
   "execution_count": 10,
   "metadata": {
    "collapsed": false
   },
   "outputs": [
    {
     "data": {
      "text/html": [
       "<meta name=\"viewport\" content=\"width=device-width, initial-scale=1, maximum-scale=1\"/><meta http-equiv=\"X-UA-Compatible\" content=\"IE=10; IE=9; IE=8; IE=7; IE=EDGE\"/><meta charset=\"UTF-8\"/><link href=\"//fonts.googleapis.com/css?family=Open+Sans:400,700\" rel=\"stylesheet\" type=\"text/css\"/><link rel=\"stylesheet\" href=\"http://localhost:3000/css/app.css\"/><div id=\"lightning-body\" class=\"container content wrap push\"><div class=\"feed-container\"><div data-model=\"visualization\" data-model-id=\"9dc7b4dd-4ee7-4f2e-b546-3a301c2b8f49\" class=\"feed-item-container\"><div data-type=\"lightning-circle\" data-data=\"{&quot;nodes&quot;:[0,1,2,3,4,5,6,7,8,9,10,11,12,13,14,15,16,17,18,19,20,21,22,23,24,25,26,27,28,29,30,31,32,33,34,35],&quot;labels&quot;:[&quot;Tipo de Energia&quot;,&quot;Energia Hidraulica&quot;,&quot;CELEC-Electroguayas&quot;,&quot;CELEC-Hidroagoyán&quot;,&quot;CELEC-Hidropaute&quot;,&quot;CELEC-Termoesmeraldas&quot;,&quot;CELEC-Termopichincha&quot;,&quot;CNEL-Bolívar&quot;,&quot;CNEL-El Oro&quot;,&quot;CNEL-Esmeraldas&quot;,&quot;CNEL-Los Ríos&quot;,&quot;CNEL-Milagro&quot;,&quot;CNEL-Sta. Elena&quot;,&quot;CNEL-Sto. Domingo&quot;,&quot;CNEL-Sucumbíos&quot;,&quot;E.E. Ambato&quot;,&quot;E.E. Centro Sur&quot;,&quot;E.E. Cotopaxi&quot;,&quot;E.E. Galápagos&quot;,&quot;E.E. Norte&quot;,&quot;E.E. Quito&quot;,&quot;E.E. Riobamba&quot;,&quot;E.E. Sur&quot;,&quot;Ecoluz&quot;,&quot;Ecuapower&quot;,&quot;Elecaustro&quot;,&quot;Eléctrica de Guayaquil&quot;,&quot;Electroandina&quot;,&quot;Electroquil&quot;,&quot;Ecoelectric&quot;,&quot;Sipec&quot;,&quot;Hidronación&quot;,&quot;Intervisa Trade&quot;,&quot;Agip&quot;,&quot;Repsol&quot;,&quot;Petroamazonas&quot;],&quot;group&quot;:[[0,0,1,1,1,1,2,2,2,3,3,3,3,4,4,4,4,5,5,5,6,6,6,6,6,6,7,7,7,8,8,8,8,9,9,9,9]],&quot;links&quot;:[[35,1,1],[1,1,1],[1,2,1],[1,3,1],[1,4,1],[1,5,1],[1,6,1],[1,7,1],[1,8,1],[1,9,1],[1,10,1],[1,11,1],[1,12,1],[1,13,1],[1,14,1],[1,15,1],[1,16,1],[1,17,1],[1,18,1],[1,19,1],[1,20,1],[1,21,1],[1,22,1],[1,23,1],[1,24,1],[1,25,1],[1,26,1],[1,27,1],[1,28,1],[1,29,1],[1,30,1],[1,31,1],[1,32,1],[1,33,1],[1,34,1]]}\" data-images=\"[]\" data-options=\"{&quot;width&quot;:600,&quot;description&quot;:null,&quot;height&quot;:null}\" id=\"viz-9dc7b4dd-4ee7-4f2e-b546-3a301c2b8f49\" data-initialized=\"false\" class=\"feed-item\"></div></div></div></div><script>window.lightning = window.lightning || {};\n",
       "window.lightning.host = \"http://localhost:3000/\" || 'http://127.0.0.1:3000/';\n",
       "window.lightning.vizCount = (window.lightning.vizCount + 1) || 1;\n",
       "window.lightning.requiredVizTypes = window.lightning.requiredVizTypes || [];\n",
       "if(window.lightning.requiredVizTypes.indexOf(\"circle\") === -1) {\n",
       "    window.lightning.requiredVizTypes.push(\"circle\");\n",
       "}\n",
       "window._require = window.require;\n",
       "window.require = undefined;\n",
       "window._define = window.define;\n",
       "window.define = undefined;</script><script src=\"http://localhost:3000/js/embed.js\"></script>"
      ],
      "text/plain": [
       "<lightning.types.plots.Circle at 0x7f0ed8e5b850>"
      ]
     },
     "execution_count": 10,
     "metadata": {},
     "output_type": "execute_result"
    }
   ],
   "source": [
    "group=[[0, 0, 1, 1, 1, 1, 2, 2, 2 , 3 , 3 , 3 , 3 , 4 , 4 , 4 , 4 , 5 , 5 , 5 , 6 , 6 , 6 , 6 , 6 , 6 , 7 , 7 , 7 , 8 , 8 , 8 , 8 , 9 , 9 , 9 , 9 ]]\n",
    "lgn.circle(y, labels=x,group=group)"
   ]
  },
  {
   "cell_type": "code",
   "execution_count": null,
   "metadata": {
    "collapsed": true
   },
   "outputs": [],
   "source": []
  },
  {
   "cell_type": "code",
   "execution_count": null,
   "metadata": {
    "collapsed": true
   },
   "outputs": [],
   "source": []
  }
 ],
 "metadata": {
  "kernelspec": {
   "display_name": "Python 2",
   "language": "python",
   "name": "python2"
  },
  "language_info": {
   "codemirror_mode": {
    "name": "ipython",
    "version": 2
   },
   "file_extension": ".py",
   "mimetype": "text/x-python",
   "name": "python",
   "nbconvert_exporter": "python",
   "pygments_lexer": "ipython2",
   "version": "2.7.6"
  }
 },
 "nbformat": 4,
 "nbformat_minor": 0
}
